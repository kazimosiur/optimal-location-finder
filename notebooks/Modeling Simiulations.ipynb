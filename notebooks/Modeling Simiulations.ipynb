{
 "cells": [
  {
   "cell_type": "code",
   "execution_count": 1,
   "id": "8ed6729f",
   "metadata": {},
   "outputs": [],
   "source": [
    "from pint import UnitRegistry"
   ]
  },
  {
   "cell_type": "code",
   "execution_count": 2,
   "id": "1f5956c2",
   "metadata": {},
   "outputs": [],
   "source": [
    "units = UnitRegistry()"
   ]
  },
  {
   "cell_type": "code",
   "execution_count": 3,
   "id": "391a1712",
   "metadata": {},
   "outputs": [],
   "source": [
    "meter = units.meter\n",
    "seconds = units.seconds"
   ]
  },
  {
   "cell_type": "code",
   "execution_count": 5,
   "id": "2dfea932",
   "metadata": {},
   "outputs": [],
   "source": [
    "a = 9.8 * meter/seconds**2\n",
    "t = 3.4*seconds"
   ]
  },
  {
   "cell_type": "code",
   "execution_count": 6,
   "id": "ca72694f",
   "metadata": {},
   "outputs": [],
   "source": [
    "v = a*t"
   ]
  },
  {
   "cell_type": "code",
   "execution_count": 7,
   "id": "9daef642",
   "metadata": {},
   "outputs": [
    {
     "data": {
      "text/html": [
       "33.32 meter/second"
      ],
      "text/latex": [
       "$33.32\\ \\frac{\\mathrm{meter}}{\\mathrm{second}}$"
      ],
      "text/plain": [
       "33.32 <Unit('meter / second')>"
      ]
     },
     "execution_count": 7,
     "metadata": {},
     "output_type": "execute_result"
    }
   ],
   "source": [
    "v"
   ]
  },
  {
   "cell_type": "code",
   "execution_count": 8,
   "id": "520a583b",
   "metadata": {},
   "outputs": [
    {
     "data": {
      "text/plain": [
       "3.141592653589793"
      ]
     },
     "execution_count": 8,
     "metadata": {},
     "output_type": "execute_result"
    }
   ],
   "source": [
    "from numpy import pi\n",
    "pi"
   ]
  },
  {
   "cell_type": "code",
   "execution_count": 9,
   "id": "b02b8b58",
   "metadata": {},
   "outputs": [
    {
     "data": {
      "text/plain": [
       "1.0"
      ]
     },
     "execution_count": 9,
     "metadata": {},
     "output_type": "execute_result"
    }
   ],
   "source": [
    "import numpy as np\n",
    "np.sin(pi/4)**2 +np.cos(pi/4)**2"
   ]
  },
  {
   "cell_type": "code",
   "execution_count": 10,
   "id": "fbe99c5a",
   "metadata": {},
   "outputs": [],
   "source": [
    "h = 1*meter"
   ]
  },
  {
   "cell_type": "code",
   "execution_count": 12,
   "id": "b9b4f0f7",
   "metadata": {},
   "outputs": [],
   "source": [
    "foot = units.foot"
   ]
  },
  {
   "cell_type": "code",
   "execution_count": 15,
   "id": "a9211945",
   "metadata": {},
   "outputs": [
    {
     "data": {
      "text/html": [
       "4.2808398950131235 foot"
      ],
      "text/latex": [
       "$4.2808398950131235\\ \\mathrm{foot}$"
      ],
      "text/plain": [
       "4.2808398950131235 <Unit('foot')>"
      ]
     },
     "execution_count": 15,
     "metadata": {},
     "output_type": "execute_result"
    }
   ],
   "source": [
    "1* foot + h"
   ]
  },
  {
   "cell_type": "code",
   "execution_count": 16,
   "id": "6fd97cc1",
   "metadata": {},
   "outputs": [
    {
     "ename": "DimensionalityError",
     "evalue": "Cannot convert from 'meter / second ** 2' ([length] / [time] ** 2) to 'second' ([time])",
     "output_type": "error",
     "traceback": [
      "\u001b[0;31m---------------------------------------------------------------------------\u001b[0m",
      "\u001b[0;31mDimensionalityError\u001b[0m                       Traceback (most recent call last)",
      "\u001b[0;32m/var/folders/ld/gsw71dq965756wzyy68jvppc0000gq/T/ipykernel_67141/830479185.py\u001b[0m in \u001b[0;36m<module>\u001b[0;34m\u001b[0m\n\u001b[0;32m----> 1\u001b[0;31m \u001b[0ma\u001b[0m\u001b[0;34m+\u001b[0m\u001b[0mt\u001b[0m\u001b[0;34m\u001b[0m\u001b[0;34m\u001b[0m\u001b[0m\n\u001b[0m",
      "\u001b[0;32m~/PycharmProjects/pythonProject/quickcommerce/lib/python3.8/site-packages/pint/quantity.py\u001b[0m in \u001b[0;36m__add__\u001b[0;34m(self, other)\u001b[0m\n\u001b[1;32m   1148\u001b[0m             \u001b[0;32mreturn\u001b[0m \u001b[0mself\u001b[0m\u001b[0;34m.\u001b[0m\u001b[0mto_timedelta\u001b[0m\u001b[0;34m(\u001b[0m\u001b[0;34m)\u001b[0m \u001b[0;34m+\u001b[0m \u001b[0mother\u001b[0m\u001b[0;34m\u001b[0m\u001b[0;34m\u001b[0m\u001b[0m\n\u001b[1;32m   1149\u001b[0m         \u001b[0;32melse\u001b[0m\u001b[0;34m:\u001b[0m\u001b[0;34m\u001b[0m\u001b[0;34m\u001b[0m\u001b[0m\n\u001b[0;32m-> 1150\u001b[0;31m             \u001b[0;32mreturn\u001b[0m \u001b[0mself\u001b[0m\u001b[0;34m.\u001b[0m\u001b[0m_add_sub\u001b[0m\u001b[0;34m(\u001b[0m\u001b[0mother\u001b[0m\u001b[0;34m,\u001b[0m \u001b[0moperator\u001b[0m\u001b[0;34m.\u001b[0m\u001b[0madd\u001b[0m\u001b[0;34m)\u001b[0m\u001b[0;34m\u001b[0m\u001b[0;34m\u001b[0m\u001b[0m\n\u001b[0m\u001b[1;32m   1151\u001b[0m \u001b[0;34m\u001b[0m\u001b[0m\n\u001b[1;32m   1152\u001b[0m     \u001b[0m__radd__\u001b[0m \u001b[0;34m=\u001b[0m \u001b[0m__add__\u001b[0m\u001b[0;34m\u001b[0m\u001b[0;34m\u001b[0m\u001b[0m\n",
      "\u001b[0;32m~/PycharmProjects/pythonProject/quickcommerce/lib/python3.8/site-packages/pint/quantity.py\u001b[0m in \u001b[0;36mwrapped\u001b[0;34m(self, *args, **kwargs)\u001b[0m\n\u001b[1;32m    138\u001b[0m         \u001b[0;32melif\u001b[0m \u001b[0misinstance\u001b[0m\u001b[0;34m(\u001b[0m\u001b[0mother\u001b[0m\u001b[0;34m,\u001b[0m \u001b[0mlist\u001b[0m\u001b[0;34m)\u001b[0m \u001b[0;32mand\u001b[0m \u001b[0mother\u001b[0m \u001b[0;32mand\u001b[0m \u001b[0misinstance\u001b[0m\u001b[0;34m(\u001b[0m\u001b[0mother\u001b[0m\u001b[0;34m[\u001b[0m\u001b[0;36m0\u001b[0m\u001b[0;34m]\u001b[0m\u001b[0;34m,\u001b[0m \u001b[0mtype\u001b[0m\u001b[0;34m(\u001b[0m\u001b[0mself\u001b[0m\u001b[0;34m)\u001b[0m\u001b[0;34m)\u001b[0m\u001b[0;34m:\u001b[0m\u001b[0;34m\u001b[0m\u001b[0;34m\u001b[0m\u001b[0m\n\u001b[1;32m    139\u001b[0m             \u001b[0;32mreturn\u001b[0m \u001b[0mNotImplemented\u001b[0m\u001b[0;34m\u001b[0m\u001b[0;34m\u001b[0m\u001b[0m\n\u001b[0;32m--> 140\u001b[0;31m         \u001b[0;32mreturn\u001b[0m \u001b[0mf\u001b[0m\u001b[0;34m(\u001b[0m\u001b[0mself\u001b[0m\u001b[0;34m,\u001b[0m \u001b[0;34m*\u001b[0m\u001b[0margs\u001b[0m\u001b[0;34m,\u001b[0m \u001b[0;34m**\u001b[0m\u001b[0mkwargs\u001b[0m\u001b[0;34m)\u001b[0m\u001b[0;34m\u001b[0m\u001b[0;34m\u001b[0m\u001b[0m\n\u001b[0m\u001b[1;32m    141\u001b[0m \u001b[0;34m\u001b[0m\u001b[0m\n\u001b[1;32m    142\u001b[0m     \u001b[0;32mreturn\u001b[0m \u001b[0mwrapped\u001b[0m\u001b[0;34m\u001b[0m\u001b[0;34m\u001b[0m\u001b[0m\n",
      "\u001b[0;32m~/PycharmProjects/pythonProject/quickcommerce/lib/python3.8/site-packages/pint/quantity.py\u001b[0m in \u001b[0;36m_add_sub\u001b[0;34m(self, other, op)\u001b[0m\n\u001b[1;32m   1050\u001b[0m \u001b[0;34m\u001b[0m\u001b[0m\n\u001b[1;32m   1051\u001b[0m         \u001b[0;32mif\u001b[0m \u001b[0;32mnot\u001b[0m \u001b[0mself\u001b[0m\u001b[0;34m.\u001b[0m\u001b[0mdimensionality\u001b[0m \u001b[0;34m==\u001b[0m \u001b[0mother\u001b[0m\u001b[0;34m.\u001b[0m\u001b[0mdimensionality\u001b[0m\u001b[0;34m:\u001b[0m\u001b[0;34m\u001b[0m\u001b[0;34m\u001b[0m\u001b[0m\n\u001b[0;32m-> 1052\u001b[0;31m             raise DimensionalityError(\n\u001b[0m\u001b[1;32m   1053\u001b[0m                 \u001b[0mself\u001b[0m\u001b[0;34m.\u001b[0m\u001b[0m_units\u001b[0m\u001b[0;34m,\u001b[0m \u001b[0mother\u001b[0m\u001b[0;34m.\u001b[0m\u001b[0m_units\u001b[0m\u001b[0;34m,\u001b[0m \u001b[0mself\u001b[0m\u001b[0;34m.\u001b[0m\u001b[0mdimensionality\u001b[0m\u001b[0;34m,\u001b[0m \u001b[0mother\u001b[0m\u001b[0;34m.\u001b[0m\u001b[0mdimensionality\u001b[0m\u001b[0;34m\u001b[0m\u001b[0;34m\u001b[0m\u001b[0m\n\u001b[1;32m   1054\u001b[0m             )\n",
      "\u001b[0;31mDimensionalityError\u001b[0m: Cannot convert from 'meter / second ** 2' ([length] / [time] ** 2) to 'second' ([time])"
     ]
    }
   ],
   "source": [
    "a+t"
   ]
  },
  {
   "cell_type": "code",
   "execution_count": 133,
   "id": "4f9f94db",
   "metadata": {},
   "outputs": [],
   "source": [
    "from modsim import State,flip,TimeSeries,decorate,source_code"
   ]
  },
  {
   "cell_type": "code",
   "execution_count": 130,
   "id": "312fc2aa",
   "metadata": {},
   "outputs": [],
   "source": [
    "bikeshare = State(olin = 10,wellesley = 2)"
   ]
  },
  {
   "cell_type": "code",
   "execution_count": 131,
   "id": "37ebe488",
   "metadata": {},
   "outputs": [
    {
     "data": {
      "text/plain": [
       "(10, 2)"
      ]
     },
     "execution_count": 131,
     "metadata": {},
     "output_type": "execute_result"
    }
   ],
   "source": [
    "bikeshare.olin,bikeshare.wellesley"
   ]
  },
  {
   "cell_type": "code",
   "execution_count": 97,
   "id": "f74be20b",
   "metadata": {},
   "outputs": [],
   "source": [
    "#from olin to wellesley\n",
    "def bike_to_wellesly():\n",
    "    print(\"Moving bike to Wellesley\")\n",
    "    if bikeshare.olin:\n",
    "        bikeshare.olin -= 1\n",
    "        bikeshare.wellesley +=1\n",
    "    else:\n",
    "        pass\n",
    "    \n",
    "    \n",
    "def bike_to_olin():\n",
    "    print(\"Moving bike to olin\")\n",
    "    if bikeshare.wellesley:\n",
    "        bikeshare.olin += 1\n",
    "        bikeshare.wellesley -=1\n",
    "    else:\n",
    "        pass"
   ]
  },
  {
   "cell_type": "code",
   "execution_count": 118,
   "id": "9e306f40",
   "metadata": {},
   "outputs": [
    {
     "name": "stdout",
     "output_type": "stream",
     "text": [
      "Moving bike to Wellesley\n"
     ]
    }
   ],
   "source": [
    "bike_to_wellesly()"
   ]
  },
  {
   "cell_type": "code",
   "execution_count": 119,
   "id": "d74fc724",
   "metadata": {},
   "outputs": [
    {
     "data": {
      "text/html": [
       "<div>\n",
       "<style scoped>\n",
       "    .dataframe tbody tr th:only-of-type {\n",
       "        vertical-align: middle;\n",
       "    }\n",
       "\n",
       "    .dataframe tbody tr th {\n",
       "        vertical-align: top;\n",
       "    }\n",
       "\n",
       "    .dataframe thead th {\n",
       "        text-align: right;\n",
       "    }\n",
       "</style>\n",
       "<table border=\"1\" class=\"dataframe\">\n",
       "  <thead>\n",
       "    <tr style=\"text-align: right;\">\n",
       "      <th></th>\n",
       "      <th>values</th>\n",
       "    </tr>\n",
       "  </thead>\n",
       "  <tbody>\n",
       "    <tr>\n",
       "      <th>olin</th>\n",
       "      <td>0</td>\n",
       "    </tr>\n",
       "    <tr>\n",
       "      <th>wellesley</th>\n",
       "      <td>12</td>\n",
       "    </tr>\n",
       "  </tbody>\n",
       "</table>\n",
       "</div>"
      ],
      "text/plain": [
       "olin          0\n",
       "wellesley    12\n",
       "dtype: int64"
      ]
     },
     "execution_count": 119,
     "metadata": {},
     "output_type": "execute_result"
    }
   ],
   "source": [
    "bikeshare"
   ]
  },
  {
   "cell_type": "code",
   "execution_count": 125,
   "id": "3f8178e5",
   "metadata": {},
   "outputs": [],
   "source": [
    "def step(p1,p2):\n",
    "    if flip(p1):\n",
    "        bike_to_wellesly()\n",
    "\n",
    "    if flip(p2):\n",
    "        bike_to_olin()\n"
   ]
  },
  {
   "cell_type": "code",
   "execution_count": 58,
   "id": "d6154f29",
   "metadata": {},
   "outputs": [
    {
     "name": "stdout",
     "output_type": "stream",
     "text": [
      "Moving bike to Wellesley\n",
      "Moving bike to olin\n"
     ]
    }
   ],
   "source": [
    "step()"
   ]
  },
  {
   "cell_type": "code",
   "execution_count": 87,
   "id": "8e56b993",
   "metadata": {},
   "outputs": [],
   "source": [
    "# for recoring outputs in a timeseries\n",
    "results = TimeSeries()"
   ]
  },
  {
   "cell_type": "code",
   "execution_count": 88,
   "id": "d81b9b6e",
   "metadata": {},
   "outputs": [
    {
     "name": "stdout",
     "output_type": "stream",
     "text": [
      "0\n",
      "1\n",
      "2\n",
      "Moving bike to Wellesley\n",
      "3\n",
      "4\n",
      "Moving bike to Wellesley\n",
      "Moving bike to olin\n",
      "5\n",
      "Moving bike to Wellesley\n",
      "6\n",
      "Moving bike to Wellesley\n",
      "7\n",
      "Moving bike to Wellesley\n",
      "8\n",
      "Moving bike to olin\n",
      "9\n",
      "Moving bike to Wellesley\n"
     ]
    }
   ],
   "source": [
    "#run a simulation\n",
    "for time in range(10):\n",
    "    print(time)\n",
    "    step(0.6,0.5)\n",
    "    results[time+1] = bikeshare.olin"
   ]
  },
  {
   "cell_type": "code",
   "execution_count": 89,
   "id": "977f1ed5",
   "metadata": {},
   "outputs": [
    {
     "data": {
      "text/html": [
       "<div>\n",
       "<style scoped>\n",
       "    .dataframe tbody tr th:only-of-type {\n",
       "        vertical-align: middle;\n",
       "    }\n",
       "\n",
       "    .dataframe tbody tr th {\n",
       "        vertical-align: top;\n",
       "    }\n",
       "\n",
       "    .dataframe thead th {\n",
       "        text-align: right;\n",
       "    }\n",
       "</style>\n",
       "<table border=\"1\" class=\"dataframe\">\n",
       "  <thead>\n",
       "    <tr style=\"text-align: right;\">\n",
       "      <th></th>\n",
       "      <th>values</th>\n",
       "    </tr>\n",
       "  </thead>\n",
       "  <tbody>\n",
       "    <tr>\n",
       "      <th>1</th>\n",
       "      <td>-2</td>\n",
       "    </tr>\n",
       "    <tr>\n",
       "      <th>2</th>\n",
       "      <td>-2</td>\n",
       "    </tr>\n",
       "    <tr>\n",
       "      <th>3</th>\n",
       "      <td>-3</td>\n",
       "    </tr>\n",
       "    <tr>\n",
       "      <th>4</th>\n",
       "      <td>-3</td>\n",
       "    </tr>\n",
       "    <tr>\n",
       "      <th>5</th>\n",
       "      <td>-3</td>\n",
       "    </tr>\n",
       "    <tr>\n",
       "      <th>6</th>\n",
       "      <td>-4</td>\n",
       "    </tr>\n",
       "    <tr>\n",
       "      <th>7</th>\n",
       "      <td>-5</td>\n",
       "    </tr>\n",
       "    <tr>\n",
       "      <th>8</th>\n",
       "      <td>-6</td>\n",
       "    </tr>\n",
       "    <tr>\n",
       "      <th>9</th>\n",
       "      <td>-5</td>\n",
       "    </tr>\n",
       "    <tr>\n",
       "      <th>10</th>\n",
       "      <td>-6</td>\n",
       "    </tr>\n",
       "  </tbody>\n",
       "</table>\n",
       "</div>"
      ],
      "text/plain": [
       "1    -2\n",
       "2    -2\n",
       "3    -3\n",
       "4    -3\n",
       "5    -3\n",
       "6    -4\n",
       "7    -5\n",
       "8    -6\n",
       "9    -5\n",
       "10   -6\n",
       "dtype: int64"
      ]
     },
     "execution_count": 89,
     "metadata": {},
     "output_type": "execute_result"
    }
   ],
   "source": [
    "results"
   ]
  },
  {
   "cell_type": "code",
   "execution_count": 86,
   "id": "7fcdecf7",
   "metadata": {},
   "outputs": [
    {
     "data": {
      "image/png": "[encoded data removed]",
      "text/plain": [
       "<Figure size 432x288 with 1 Axes>"
      ]
     },
     "metadata": {},
     "output_type": "display_data"
    }
   ],
   "source": [
    "results.plot()"
   ]
  },
  {
   "cell_type": "code",
   "execution_count": 128,
   "id": "b70e9e9c",
   "metadata": {},
   "outputs": [],
   "source": [
    "def run_simulation(p1,p2,num_steps):\n",
    "    results = TimeSeries()\n",
    "    for step_ in range(num_steps):\n",
    "        step(p1,p2)\n",
    "        results[step_+1] = bikeshare.olin\n",
    "        \n",
    "    results.plot()\n",
    "    decorate(title ='bike',\n",
    "             xlabel='Time Step(min)',\n",
    "             ylabel='num of bikes'\n",
    "    )\n",
    "    "
   ]
  },
  {
   "cell_type": "code",
   "execution_count": 132,
   "id": "80708269",
   "metadata": {},
   "outputs": [
    {
     "name": "stdout",
     "output_type": "stream",
     "text": [
      "Moving bike to Wellesley\n",
      "Moving bike to olin\n",
      "Moving bike to Wellesley\n",
      "Moving bike to Wellesley\n",
      "Moving bike to Wellesley\n",
      "Moving bike to Wellesley\n",
      "Moving bike to olin\n",
      "Moving bike to Wellesley\n",
      "Moving bike to olin\n",
      "Moving bike to olin\n",
      "Moving bike to Wellesley\n",
      "Moving bike to olin\n",
      "Moving bike to olin\n",
      "Moving bike to Wellesley\n",
      "Moving bike to Wellesley\n",
      "Moving bike to Wellesley\n",
      "Moving bike to Wellesley\n",
      "Moving bike to Wellesley\n",
      "Moving bike to Wellesley\n",
      "Moving bike to Wellesley\n",
      "Moving bike to Wellesley\n",
      "Moving bike to Wellesley\n",
      "Moving bike to Wellesley\n",
      "Moving bike to Wellesley\n",
      "Moving bike to Wellesley\n",
      "Moving bike to Wellesley\n",
      "Moving bike to olin\n",
      "Moving bike to olin\n",
      "Moving bike to olin\n",
      "Moving bike to Wellesley\n",
      "Moving bike to olin\n",
      "Moving bike to Wellesley\n"
     ]
    },
    {
     "data": {
      "image/png": "[encoded data removed]",
      "text/plain": [
       "<Figure size 432x288 with 1 Axes>"
      ]
     },
     "metadata": {},
     "output_type": "display_data"
    }
   ],
   "source": [
    "run_simulation(0.3,0.2,60)"
   ]
  },
  {
   "cell_type": "code",
   "execution_count": 134,
   "id": "e2096138",
   "metadata": {},
   "outputs": [
    {
     "name": "stdout",
     "output_type": "stream",
     "text": [
      "def flip(p=0.5):\n",
      "    \"\"\"Flips a coin with the given probability.\n",
      "\n",
      "    p: float 0-1\n",
      "\n",
      "    returns: boolean (True or False)\n",
      "    \"\"\"\n",
      "    return np.random.random() < p\n",
      "\n"
     ]
    }
   ],
   "source": [
    "source_code(flip)"
   ]
  },
  {
   "cell_type": "code",
   "execution_count": null,
   "id": "8d2cf9b9",
   "metadata": {},
   "outputs": [],
   "source": []
  }
 ],
 "metadata": {
  "kernelspec": {
   "display_name": "Python 3 (ipykernel)",
   "language": "python",
   "name": "python3"
  },
  "language_info": {
   "codemirror_mode": {
    "name": "ipython",
    "version": 3
   },
   "file_extension": ".py",
   "mimetype": "text/x-python",
   "name": "python",
   "nbconvert_exporter": "python",
   "pygments_lexer": "ipython3",
   "version": "3.8.2"
  }
 },
 "nbformat": 4,
 "nbformat_minor": 5
}
