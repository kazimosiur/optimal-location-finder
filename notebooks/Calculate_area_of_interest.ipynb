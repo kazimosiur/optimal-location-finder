{
 "cells": [
  {
   "cell_type": "code",
   "execution_count": 1,
   "id": "3698ccbb",
   "metadata": {},
   "outputs": [],
   "source": [
    "import json\n",
    "import pandas as pd\n",
    "from shapely.geometry import MultiPoint, Polygon, mapping, Point\n",
    "import matplotlib.pyplot as plt\n",
    "import seaborn as sns\n",
    "\n",
    "from sklearn.cluster import KMeans\n",
    "import numpy as np\n",
    "\n",
    "\n",
    "sns.set(\n",
    "    {\n",
    "      'figure.figsize' : (15,8)\n",
    "        }\n",
    "    )"
   ]
  },
  {
   "cell_type": "code",
   "execution_count": 2,
   "id": "a9f45e76",
   "metadata": {},
   "outputs": [],
   "source": [
    "import os\n",
    "os.chdir('..')"
   ]
  },
  {
   "cell_type": "code",
   "execution_count": 3,
   "id": "c7e9f7d2",
   "metadata": {},
   "outputs": [
    {
     "name": "stdout",
     "output_type": "stream",
     "text": [
      "/Users/temporaryadmin/dh_projects/optimal-location-finder\r\n"
     ]
    }
   ],
   "source": [
    "!pwd"
   ]
  },
  {
   "cell_type": "code",
   "execution_count": 4,
   "id": "085a7ff0",
   "metadata": {},
   "outputs": [],
   "source": [
    "\n",
    "from helper.metrics_kpi import *\n",
    "\n",
    "from helper.utils import *\n",
    "from helper.aoi import generate_aoi\n",
    "\n",
    "from connector.gcp_conn import GCSOperations\n",
    "\n",
    "import warnings\n",
    "warnings.filterwarnings('ignore')"
   ]
  },
  {
   "cell_type": "code",
   "execution_count": 5,
   "id": "9cbde7fe",
   "metadata": {},
   "outputs": [
    {
     "name": "stdout",
     "output_type": "stream",
     "text": [
      "/Users/temporaryadmin/dh_projects/optimal-location-finder\r\n"
     ]
    }
   ],
   "source": [
    "!pwd"
   ]
  },
  {
   "cell_type": "code",
   "execution_count": 6,
   "id": "c45a4622",
   "metadata": {},
   "outputs": [],
   "source": [
    "\n",
    "def get_input_parameters(polygon_file, warehouse_polygon_df, json_):\n",
    "    driving_modes = get_drive_modes(json_)\n",
    "    # driving_mode_maps = label_drive_modes(driving_modes)\n",
    "    input_parameters = {\n",
    "        'Number_of_stores': warehouse_polygon_df[['latitude', 'longitude']].drop_duplicates().shape[0],\n",
    "        'Driving_time': int(polygon_file.split('.')[0].split('-')[-1]),\n",
    "        'Driving_mode': list(driving_modes)[0], # chose 0 for cycle and 1 for driving\n",
    "        'City_ID': polygon_file.split('.')[0].split('-')[-5]\n",
    "    }\n",
    "\n",
    "    return input_parameters\n",
    "\n",
    "def save_kpis(input_params, business_kpis):\n",
    "    bucket_name = \"qc-store-growth-expansion-stg\"\n",
    "    domain = 'DS_exploration'\n",
    "    project_name = 'optimal_location_finder'\n",
    "    folder = 'metrics'\n",
    "    region = 'FP_SG'\n",
    "    path_to_save = f'gs://{bucket_name}/{domain}/{project_name}/{folder}/{region}'\n",
    "    runtime = get_current_time()\n",
    "    region, no_of_clusters, drive_time_selected, drive_mode_selected = input_params['City_ID'], \\\n",
    "                                                                       input_params['Number_of_stores'], \\\n",
    "                                                                       input_params['Driving_time'], \\\n",
    "                                                                       input_params['Driving_mode']\n",
    "\n",
    "    filename = f'{region}_{no_of_clusters}_{drive_mode_selected}_1-{drive_time_selected}_{runtime}_{folder}.csv'\n",
    "    try:\n",
    "        business_kpis.to_csv(f'{path_to_save}/{filename}')\n",
    "        return f'{path_to_save}/{filename}'\n",
    "    except Exception as ex:\n",
    "        return str(ex)\n",
    "\n",
    "\n",
    "def get_order_data():\n",
    "    # query = get_order_query(city_id, start_date, end_date, round_off)\n",
    "    # queried_result = bigquery_conn.execute_query(query)\n",
    "    bucket_name = \"qc-store-growth-expansion-stg\"\n",
    "    domain = 'DS_exploration'\n",
    "    project_name = 'optimal_location_finder'\n",
    "    folder = 'evaluation'\n",
    "    file_name = 'cluster_data_created_only_restaurant_11_11_2021.csv'\n",
    "    region = 'FP_SG'\n",
    "\n",
    "    path_to_file = f'gs://{bucket_name}/{domain}/{project_name}/{folder}/{region}/{file_name}'\n",
    "    queried_order_info = pd.read_csv(path_to_file)\n",
    "\n",
    "    return queried_order_info\n",
    "\n",
    "\n",
    "def get_order_query(city_id, start_date, end_date, round_off=4):\n",
    "\n",
    "    metrics_query = f\"\"\"\n",
    "\n",
    "        SELECT store_type_l2,\n",
    "        ROUND(delivery_location.latitude, {round_off}) lat,\n",
    "        ROUND(delivery_location.longitude, {round_off}) long,\n",
    "        COUNT(distinct analytical_customer_id) num_customers,\n",
    "        COUNT(1) num_orders,\n",
    "        SUM(i.quantity) num_items,\n",
    "        SUM(value.gmv_local) gmv\n",
    "        FROM `fulfillment-dwh-production.curated_data_shared_central_dwh.orders` o, UNNEST(items) AS i\n",
    "        LEFT JOIN `fulfillment-dwh-production.curated_data_shared_central_dwh.vendors` USING(vendor_id)\n",
    "        WHERE o.global_entity_id = '{city_id}'\n",
    "        AND DATE(placed_at) BETWEEN '{start_date}' AND '{end_date}'\n",
    "        AND order_status = 'sent'\n",
    "        AND o.is_own_delivery\n",
    "        AND store_type_l2 in ('restaurants')\n",
    "        AND delivery_location.latitude IS NOT NULL\n",
    "        AND delivery_location.longitude IS NOT NULL\n",
    "        GROUP BY 1, 2, 3\n",
    "\n",
    "    \"\"\"\n",
    "\n",
    "    return metrics_query\n"
   ]
  },
  {
   "cell_type": "code",
   "execution_count": 7,
   "id": "243c4f63",
   "metadata": {},
   "outputs": [
    {
     "data": {
      "text/plain": [
       "'gs://qc-store-growth-expansion-stg/existing_dmart_bucket/dmart-polygon-FP_SG-drive-time-4-15.json'"
      ]
     },
     "execution_count": 7,
     "metadata": {},
     "output_type": "execute_result"
    }
   ],
   "source": [
    "os.environ['GOOGLE_APPLICATION_CREDENTIALS'] = '../../cred/credentials.json'\n",
    "gcs_conn = GCSOperations(\"qc-store-growth-expansion-stg\")\n",
    "bucket_name = \"qc-store-growth-expansion-stg\"\n",
    "\n",
    "folder_name = 'existing_dmart_bucket'\n",
    "polygon_file = 'dmart-polygon-FP_SG-drive-time-4-15.json'\n",
    "path_for_polygon = f'gs://{bucket_name}/{folder_name}/{polygon_file}'\n",
    "path_for_polygon\n"
   ]
  },
  {
   "cell_type": "code",
   "execution_count": 8,
   "id": "525f7874",
   "metadata": {},
   "outputs": [
    {
     "name": "stdout",
     "output_type": "stream",
     "text": [
      "/Users/temporaryadmin/dh_projects/optimal-location-finder\r\n"
     ]
    }
   ],
   "source": [
    "!pwd"
   ]
  },
  {
   "cell_type": "code",
   "execution_count": 9,
   "id": "8885c8fb",
   "metadata": {},
   "outputs": [],
   "source": [
    "json_ = get_polygons_for_locations(path_for_polygon)"
   ]
  },
  {
   "cell_type": "code",
   "execution_count": 10,
   "id": "9af7ffa5",
   "metadata": {},
   "outputs": [
    {
     "data": {
      "text/plain": [
       "{'Number_of_stores': 15,\n",
       " 'Driving_time': 15,\n",
       " 'Driving_mode': 'cycling',\n",
       " 'City_ID': 'FP_SG'}"
      ]
     },
     "execution_count": 10,
     "metadata": {},
     "output_type": "execute_result"
    }
   ],
   "source": [
    "\n",
    "warehouse_polygon_df = convert_json_to_dataframe(json_)\n",
    "input_params = get_input_parameters(path_for_polygon, warehouse_polygon_df, json_)\n",
    "input_params"
   ]
  },
  {
   "cell_type": "code",
   "execution_count": 11,
   "id": "d1403aab",
   "metadata": {},
   "outputs": [],
   "source": [
    "queried_order_info = get_order_data()"
   ]
  },
  {
   "cell_type": "code",
   "execution_count": 12,
   "id": "28f71f2d",
   "metadata": {},
   "outputs": [],
   "source": [
    "drive_time_selected = 7"
   ]
  },
  {
   "cell_type": "code",
   "execution_count": 13,
   "id": "fef0769d",
   "metadata": {},
   "outputs": [
    {
     "data": {
      "text/plain": [
       "('cycling', 7)"
      ]
     },
     "execution_count": 13,
     "metadata": {},
     "output_type": "execute_result"
    }
   ],
   "source": [
    "\n",
    "drive_mode_selected = input_params['Driving_mode']\n",
    "drive_time_selected = 7\n",
    "\n",
    "polygons_based_on_driving = warehouse_polygon_df[\n",
    "                                                 (warehouse_polygon_df['driving_mode'] == drive_mode_selected) \n",
    "                                                 & (warehouse_polygon_df['driving_time'] == drive_time_selected) \n",
    "#                                                     & (warehouse_polygon_df['driving_time'] > 1\n",
    "#                                                       ) \n",
    "]\n",
    "drive_mode_selected,drive_time_selected"
   ]
  },
  {
   "cell_type": "code",
   "execution_count": 14,
   "id": "ebab73de",
   "metadata": {},
   "outputs": [
    {
     "name": "stdout",
     "output_type": "stream",
     "text": [
      "CPU times: user 40.7 s, sys: 733 ms, total: 41.4 s\n",
      "Wall time: 41.7 s\n"
     ]
    }
   ],
   "source": [
    "%%time\n",
    "constrained_locations_nested, constrained_locations_unnest = generate_constraint_based_info(queried_order_info,\n",
    "                                                                                                polygons_based_on_driving)"
   ]
  },
  {
   "cell_type": "code",
   "execution_count": 15,
   "id": "4b534f69",
   "metadata": {},
   "outputs": [],
   "source": [
    "\n",
    "locations_matching_constraints_of_T_min_drive_time = constrained_locations_unnest[\n",
    "                                                     constrained_locations_unnest['driving_time']==drive_time_selected\n",
    "                                                    ]"
   ]
  },
  {
   "cell_type": "code",
   "execution_count": 16,
   "id": "f3931851",
   "metadata": {},
   "outputs": [],
   "source": [
    "# Converting lat long into a tuple to be set as index \n",
    "queried_order_info['lat_long'] = list(\n",
    "    zip(\n",
    "        queried_order_info['lat'],\n",
    "        queried_order_info['long']\n",
    "    )\n",
    "    )\n",
    "    \n",
    "locations_matching_constraints_of_T_min_drive_time['lat_long'] = list(\n",
    "    zip(\n",
    "        locations_matching_constraints_of_T_min_drive_time['lat'],\n",
    "        locations_matching_constraints_of_T_min_drive_time['long']\n",
    "    )\n",
    "    )"
   ]
  },
  {
   "cell_type": "code",
   "execution_count": 17,
   "id": "52d92626",
   "metadata": {},
   "outputs": [],
   "source": [
    "queried_order_info.set_index(['lat','long'],inplace = True)\n",
    "locations_matching_constraints_of_T_min_drive_time.set_index(['lat','long'],inplace = True)"
   ]
  },
  {
   "cell_type": "code",
   "execution_count": 18,
   "id": "66f8506e",
   "metadata": {},
   "outputs": [],
   "source": [
    "area_of_interest = generate_aoi(drive_time_selected, \n",
    "                                queried_order_info, \n",
    "                                locations_matching_constraints_of_T_min_drive_time)"
   ]
  },
  {
   "cell_type": "code",
   "execution_count": 19,
   "id": "d8605c30",
   "metadata": {},
   "outputs": [
    {
     "data": {
      "text/html": [
       "<div>\n",
       "<style scoped>\n",
       "    .dataframe tbody tr th:only-of-type {\n",
       "        vertical-align: middle;\n",
       "    }\n",
       "\n",
       "    .dataframe tbody tr th {\n",
       "        vertical-align: top;\n",
       "    }\n",
       "\n",
       "    .dataframe thead th {\n",
       "        text-align: right;\n",
       "    }\n",
       "</style>\n",
       "<table border=\"1\" class=\"dataframe\">\n",
       "  <thead>\n",
       "    <tr style=\"text-align: right;\">\n",
       "      <th></th>\n",
       "      <th>lat</th>\n",
       "      <th>long</th>\n",
       "      <th>Unnamed: 0</th>\n",
       "      <th>store_type_l2</th>\n",
       "      <th>num_customers</th>\n",
       "      <th>num_orders</th>\n",
       "      <th>num_items</th>\n",
       "      <th>gmv</th>\n",
       "      <th>lat_long</th>\n",
       "    </tr>\n",
       "  </thead>\n",
       "  <tbody>\n",
       "    <tr>\n",
       "      <th>0</th>\n",
       "      <td>1.3098</td>\n",
       "      <td>103.8360</td>\n",
       "      <td>0</td>\n",
       "      <td>restaurants</td>\n",
       "      <td>2</td>\n",
       "      <td>362</td>\n",
       "      <td>389</td>\n",
       "      <td>7560.56</td>\n",
       "      <td>(1.3098, 103.836)</td>\n",
       "    </tr>\n",
       "    <tr>\n",
       "      <th>1</th>\n",
       "      <td>1.3122</td>\n",
       "      <td>103.8960</td>\n",
       "      <td>1</td>\n",
       "      <td>restaurants</td>\n",
       "      <td>37</td>\n",
       "      <td>2346</td>\n",
       "      <td>2700</td>\n",
       "      <td>62872.60</td>\n",
       "      <td>(1.3122, 103.896)</td>\n",
       "    </tr>\n",
       "    <tr>\n",
       "      <th>2</th>\n",
       "      <td>1.4318</td>\n",
       "      <td>103.7751</td>\n",
       "      <td>2</td>\n",
       "      <td>restaurants</td>\n",
       "      <td>8</td>\n",
       "      <td>299</td>\n",
       "      <td>326</td>\n",
       "      <td>5378.24</td>\n",
       "      <td>(1.4318, 103.7751)</td>\n",
       "    </tr>\n",
       "    <tr>\n",
       "      <th>3</th>\n",
       "      <td>1.3767</td>\n",
       "      <td>103.8824</td>\n",
       "      <td>3</td>\n",
       "      <td>restaurants</td>\n",
       "      <td>38</td>\n",
       "      <td>1335</td>\n",
       "      <td>1464</td>\n",
       "      <td>29663.68</td>\n",
       "      <td>(1.3767, 103.8824)</td>\n",
       "    </tr>\n",
       "  </tbody>\n",
       "</table>\n",
       "</div>"
      ],
      "text/plain": [
       "      lat      long  Unnamed: 0 store_type_l2  num_customers  num_orders  \\\n",
       "0  1.3098  103.8360           0   restaurants              2         362   \n",
       "1  1.3122  103.8960           1   restaurants             37        2346   \n",
       "2  1.4318  103.7751           2   restaurants              8         299   \n",
       "3  1.3767  103.8824           3   restaurants             38        1335   \n",
       "\n",
       "   num_items       gmv            lat_long  \n",
       "0        389   7560.56   (1.3098, 103.836)  \n",
       "1       2700  62872.60   (1.3122, 103.896)  \n",
       "2        326   5378.24  (1.4318, 103.7751)  \n",
       "3       1464  29663.68  (1.3767, 103.8824)  "
      ]
     },
     "execution_count": 19,
     "metadata": {},
     "output_type": "execute_result"
    }
   ],
   "source": [
    "area_of_interest.reset_index(inplace = True)\n",
    "locations_matching_constraints_of_T_min_drive_time.reset_index(inplace = True)\n",
    "queried_order_info.reset_index(inplace = True)\n",
    "area_of_interest.head(4)"
   ]
  },
  {
   "cell_type": "markdown",
   "id": "a60b199d",
   "metadata": {},
   "source": [
    "## AOI and Existing COverage ViZ"
   ]
  },
  {
   "cell_type": "code",
   "execution_count": 20,
   "id": "5439bafb",
   "metadata": {},
   "outputs": [
    {
     "data": {
      "text/plain": [
       "Text(0, 0.5, 'Latitude')"
      ]
     },
     "execution_count": 20,
     "metadata": {},
     "output_type": "execute_result"
    },
    {
     "data": {
      "image/png": "[encoded data removed]",
      "text/plain": [
       "<Figure size 1080x576 with 1 Axes>"
      ]
     },
     "metadata": {},
     "output_type": "display_data"
    }
   ],
   "source": [
    "\n",
    "dmart_covered_locations = locations_matching_constraints_of_T_min_drive_time\n",
    "\n",
    "aoi_ = plt.scatter(area_of_interest['long'],area_of_interest['lat'],color='blue')\n",
    "existing_coverage = plt.scatter(dmart_covered_locations['long'],\n",
    "                     dmart_covered_locations['lat'],color='orange'\n",
    "                    )\n",
    "plt.legend(\n",
    "    (aoi_,existing_coverage),\n",
    "    ('Area of Interest','existing_DMart_coverage'),\n",
    "    prop={'size': 15}\n",
    "    \n",
    ")\n",
    "plt.title(\"City : Singapore, Mode : Driving, Time : 5 Minutes\",fontsize = 15)\n",
    "plt.xlabel(\"Longitude\",fontsize = 15)\n",
    "plt.ylabel(\"Latitude\",fontsize = 15)"
   ]
  },
  {
   "cell_type": "raw",
   "id": "f768d3dd",
   "metadata": {},
   "source": []
  },
  {
   "cell_type": "code",
   "execution_count": 21,
   "id": "bc5d83ee",
   "metadata": {},
   "outputs": [
    {
     "ename": "NameError",
     "evalue": "name 'dmart_coverage_locations' is not defined",
     "output_type": "error",
     "traceback": [
      "\u001b[0;31m---------------------------------------------------------------------------\u001b[0m",
      "\u001b[0;31mNameError\u001b[0m                                 Traceback (most recent call last)",
      "\u001b[0;32m/var/folders/ld/gsw71dq965756wzyy68jvppc0000gq/T/ipykernel_40239/329311789.py\u001b[0m in \u001b[0;36m<module>\u001b[0;34m\u001b[0m\n\u001b[0;32m----> 1\u001b[0;31m \u001b[0mdmart_coverage_locations\u001b[0m\u001b[0;34m\u001b[0m\u001b[0;34m\u001b[0m\u001b[0m\n\u001b[0m",
      "\u001b[0;31mNameError\u001b[0m: name 'dmart_coverage_locations' is not defined"
     ]
    }
   ],
   "source": [
    "dmart_coverage_locations"
   ]
  },
  {
   "cell_type": "code",
   "execution_count": null,
   "id": "37f87f9e",
   "metadata": {},
   "outputs": [],
   "source": [
    "INPUT_PARAMETERS"
   ]
  },
  {
   "cell_type": "markdown",
   "id": "5aca74c8",
   "metadata": {},
   "source": [
    "## Building the Model"
   ]
  },
  {
   "cell_type": "code",
   "execution_count": null,
   "id": "85e5abe9",
   "metadata": {},
   "outputs": [],
   "source": [
    "expected_no_clusters = INPUT_PARAMETERS['Number_of_stores']"
   ]
  },
  {
   "cell_type": "code",
   "execution_count": null,
   "id": "da357fd1",
   "metadata": {},
   "outputs": [],
   "source": [
    "grouped = area_of_interest.groupby(by=['lat', 'long']).sum().reset_index()\n",
    "\n",
    "x = grouped[['lat', 'long']]\n",
    "y = grouped['num_customers']"
   ]
  },
  {
   "cell_type": "code",
   "execution_count": null,
   "id": "f32a4679",
   "metadata": {},
   "outputs": [],
   "source": [
    "kmeans = KMeans(n_clusters= expected_no_clusters, random_state=0, max_iter=10)"
   ]
  },
  {
   "cell_type": "code",
   "execution_count": null,
   "id": "70c5bd60",
   "metadata": {},
   "outputs": [],
   "source": [
    "wt_kmeansclus = kmeans.fit(x, sample_weight = y)"
   ]
  },
  {
   "cell_type": "code",
   "execution_count": null,
   "id": "4c3a2688",
   "metadata": {},
   "outputs": [],
   "source": [
    "proposed_warhouse_locations = pd.DataFrame(kmeans.cluster_centers_,columns=['lat','long'])"
   ]
  },
  {
   "cell_type": "code",
   "execution_count": null,
   "id": "62e2af80",
   "metadata": {},
   "outputs": [],
   "source": [
    "existing_warehouse = dmart_coverage_locations[['pred_lat','pred_long']].drop_duplicates()"
   ]
  },
  {
   "cell_type": "markdown",
   "id": "f727062a",
   "metadata": {},
   "source": [
    "### AOI Optimal Locations"
   ]
  },
  {
   "cell_type": "code",
   "execution_count": null,
   "id": "a5748b47",
   "metadata": {},
   "outputs": [],
   "source": [
    "import seaborn as sns\n",
    "\n",
    "aoi_ = plt.scatter(area_of_interest['long'],area_of_interest['lat'],color='blue')\n",
    "proposed_location_ = plt.scatter(proposed_warhouse_locations['long'],\n",
    "                                 proposed_warhouse_locations['lat'],\n",
    "                                    color='red',\n",
    "                                    marker='o',\n",
    "                                    s=200\n",
    "                    )\n",
    "\n",
    "\n",
    "plt.legend(\n",
    "    (aoi_,proposed_location_),\n",
    "    ('Area of Interest','opitmal_locations'),\n",
    "    prop={'size': 15}\n",
    "    \n",
    ")\n",
    "plt.title(\"City : Singapore, Mode : Driving, Time : 5 Minutes\",fontsize = 15)\n",
    "plt.xlabel(\"Longitude\",fontsize = 15)\n",
    "plt.ylabel(\"Latitude\",fontsize = 15)"
   ]
  },
  {
   "cell_type": "markdown",
   "id": "6239d52a",
   "metadata": {},
   "source": [
    "### Looking at all the Locations over the DH network"
   ]
  },
  {
   "cell_type": "code",
   "execution_count": null,
   "id": "86b8f90e",
   "metadata": {},
   "outputs": [],
   "source": [
    "\n",
    "aoi_ = plt.scatter(area_of_interest['long'],area_of_interest['lat'],color='blue')\n",
    "\n",
    "network_=  plt.scatter(queried_order_info['long'],queried_order_info['lat'],color='blue')\n",
    "\n",
    "\n",
    "\n",
    "proposed_location_ = plt.scatter(proposed_warhouse_locations['long'],\n",
    "                                 proposed_warhouse_locations['lat'],\n",
    "                                    color='red',\n",
    "                                    marker='o',\n",
    "                                    s=200\n",
    "                    )\n",
    "\n",
    "existing_location_ = plt.scatter(existing_warehouse['pred_long'],\n",
    "                                 existing_warehouse['pred_lat'],\n",
    "                                    color='green',\n",
    "                                    marker='o',\n",
    "                                    s=200\n",
    "                    )\n",
    "\n",
    "\n",
    "plt.legend(\n",
    "    (proposed_location_,network_,existing_location_),\n",
    "    ('Optimal Locations','DH network','Existing DMarts'),\n",
    "    prop={'size': 15}\n",
    "    \n",
    ")\n",
    "plt.title(\"City : Singapore\",fontsize = 15)\n",
    "plt.xlabel(\"Longitude\",fontsize = 15)\n",
    "plt.ylabel(\"Latitude\",fontsize = 15)"
   ]
  },
  {
   "cell_type": "code",
   "execution_count": null,
   "id": "e5443e78",
   "metadata": {},
   "outputs": [],
   "source": []
  },
  {
   "cell_type": "code",
   "execution_count": null,
   "id": "9e331d62",
   "metadata": {},
   "outputs": [],
   "source": []
  }
 ],
 "metadata": {
  "kernelspec": {
   "display_name": "Python 3 (ipykernel)",
   "language": "python",
   "name": "python3"
  },
  "language_info": {
   "codemirror_mode": {
    "name": "ipython",
    "version": 3
   },
   "file_extension": ".py",
   "mimetype": "text/x-python",
   "name": "python",
   "nbconvert_exporter": "python",
   "pygments_lexer": "ipython3",
   "version": "3.8.2"
  }
 },
 "nbformat": 4,
 "nbformat_minor": 5
}
