{
 "cells": [
  {
   "cell_type": "markdown",
   "id": "440cc870",
   "metadata": {},
   "source": [
    "## Implementing Modules here on Notebook"
   ]
  },
  {
   "cell_type": "code",
   "execution_count": 1,
   "id": "c5104387",
   "metadata": {},
   "outputs": [],
   "source": [
    "import os\n",
    "os.chdir('..')"
   ]
  },
  {
   "cell_type": "code",
   "execution_count": 2,
   "id": "c0e860e5",
   "metadata": {},
   "outputs": [
    {
     "name": "stdout",
     "output_type": "stream",
     "text": [
      "/Users/temporaryadmin/dh_projects/optimal-location-finder\r\n"
     ]
    }
   ],
   "source": [
    "!pwd"
   ]
  },
  {
   "cell_type": "code",
   "execution_count": 3,
   "id": "3bca5117",
   "metadata": {},
   "outputs": [],
   "source": [
    "%reload_ext autoreload\n",
    "\n",
    "\n",
    "\n",
    "from helper.metrics_kpi import *\n",
    "\n",
    "from connector.gcp_conn import *\n",
    "\n",
    "import warnings\n",
    "warnings.filterwarnings('ignore')"
   ]
  },
  {
   "cell_type": "code",
   "execution_count": 4,
   "id": "4f9f3077",
   "metadata": {},
   "outputs": [],
   "source": [
    "def get_input_parameters(polygon_file, warehouse_polygon_df, json_):\n",
    "    driving_modes = get_drive_modes(json_)\n",
    "    # driving_mode_maps = label_drive_modes(driving_modes)\n",
    "    input_parameters = {\n",
    "        'Number_of_stores': warehouse_polygon_df[['latitude', 'longitude']].drop_duplicates().shape[0],\n",
    "        'Driving_time': int(polygon_file.split('.')[0].split('-')[-1]),\n",
    "        'Driving_mode': list(driving_modes)[0], # chose 0 for cycle and 1 for driving\n",
    "        'City_ID': polygon_file.split('.')[0].split('-')[-5]\n",
    "    }\n",
    "\n",
    "    return input_parameters\n",
    "\n",
    "def save_kpis(input_params, business_kpis):\n",
    "    bucket_name = \"qc-store-growth-expansion-stg\"\n",
    "    domain = 'DS_exploration'\n",
    "    project_name = 'optimal_location_finder'\n",
    "    folder = 'metrics'\n",
    "    region = 'FP_SG'\n",
    "    path_to_save = f'gs://{bucket_name}/{domain}/{project_name}/{folder}/{region}'\n",
    "    runtime = get_current_time()\n",
    "    region, no_of_clusters, drive_time_selected, drive_mode_selected = input_params['City_ID'], \\\n",
    "                                                                       input_params['Number_of_stores'], \\\n",
    "                                                                       input_params['Driving_time'], \\\n",
    "                                                                       input_params['Driving_mode']\n",
    "\n",
    "    filename = f'{region}_{no_of_clusters}_{drive_mode_selected}_1-{drive_time_selected}_{runtime}_{folder}.csv'\n",
    "    try:\n",
    "        business_kpis.to_csv(f'{path_to_save}/{filename}')\n",
    "        return f'{path_to_save}/{filename}'\n",
    "    except Exception as ex:\n",
    "        return str(ex)\n",
    "\n",
    "\n",
    "def get_order_data():\n",
    "    # query = get_order_query(city_id, start_date, end_date, round_off)\n",
    "    # queried_result = bigquery_conn.execute_query(query)\n",
    "    bucket_name = \"qc-store-growth-expansion-stg\"\n",
    "    domain = 'DS_exploration'\n",
    "    project_name = 'optimal_location_finder'\n",
    "    folder = 'evaluation'\n",
    "    file_name = 'cluster_data_created_only_restaurant_11_11_2021.csv'\n",
    "    region = 'FP_SG'\n",
    "\n",
    "    path_to_file = f'gs://{bucket_name}/{domain}/{project_name}/{folder}/{region}/{file_name}'\n",
    "    queried_order_info = pd.read_csv(path_to_file)\n",
    "\n",
    "    return queried_order_info\n",
    "\n",
    "\n",
    "def get_order_query(city_id, start_date, end_date, round_off=4):\n",
    "\n",
    "    metrics_query = f\"\"\"\n",
    "\n",
    "        SELECT store_type_l2,\n",
    "        ROUND(delivery_location.latitude, {round_off}) lat,\n",
    "        ROUND(delivery_location.longitude, {round_off}) long,\n",
    "        COUNT(distinct analytical_customer_id) num_customers,\n",
    "        COUNT(1) num_orders,\n",
    "        SUM(i.quantity) num_items,\n",
    "        SUM(value.gmv_local) gmv\n",
    "        FROM `fulfillment-dwh-production.curated_data_shared_central_dwh.orders` o, UNNEST(items) AS i\n",
    "        LEFT JOIN `fulfillment-dwh-production.curated_data_shared_central_dwh.vendors` USING(vendor_id)\n",
    "        WHERE o.global_entity_id = '{city_id}'\n",
    "        AND DATE(placed_at) BETWEEN '{start_date}' AND '{end_date}'\n",
    "        AND order_status = 'sent'\n",
    "        AND o.is_own_delivery\n",
    "        AND store_type_l2 in ('restaurants')\n",
    "        AND delivery_location.latitude IS NOT NULL\n",
    "        AND delivery_location.longitude IS NOT NULL\n",
    "        GROUP BY 1, 2, 3\n",
    "\n",
    "    \"\"\"\n",
    "\n",
    "    return metrics_query\n",
    "\n"
   ]
  },
  {
   "cell_type": "code",
   "execution_count": 5,
   "id": "d4076bda",
   "metadata": {},
   "outputs": [
    {
     "data": {
      "text/plain": [
       "'gs://qc-store-growth-expansion-stg/existing_dmart_bucket/dmart-polygon-FP_SG-drive-time-4-15.json'"
      ]
     },
     "execution_count": 5,
     "metadata": {},
     "output_type": "execute_result"
    }
   ],
   "source": [
    "os.environ['GOOGLE_APPLICATION_CREDENTIALS'] = '../../cred/credentials.json'\n",
    "GCSOperations(\"qc-store-growth-expansion-stg\")\n",
    "\n",
    "bucket_name = \"qc-store-growth-expansion-stg\"\n",
    "folder_name = 'existing_dmart_bucket'\n",
    "polygon_file = 'dmart-polygon-FP_SG-drive-time-4-15.json'\n",
    "path_for_polygon = f'gs://{bucket_name}/{folder_name}/{polygon_file}'\n",
    "path_for_polygon"
   ]
  },
  {
   "cell_type": "code",
   "execution_count": 6,
   "id": "1095c3cd",
   "metadata": {},
   "outputs": [
    {
     "data": {
      "text/plain": [
       "'/Users/temporaryadmin/dh_projects/optimal-location-finder'"
      ]
     },
     "execution_count": 6,
     "metadata": {},
     "output_type": "execute_result"
    }
   ],
   "source": [
    "pwd"
   ]
  },
  {
   "cell_type": "code",
   "execution_count": 8,
   "id": "e1fa8e7a",
   "metadata": {},
   "outputs": [],
   "source": [
    "# set the bigquery connection once ready\n",
    "\n",
    "# bigquery_conn = BigQueryOperations(\"quick-commerce-data\")\n",
    "# sql_query = \"SELECT * FROM `fulfillment-dwh-production.curated_data_shared_central_dwh.orders` LIMIT 100\"\n",
    "# resp = bigquery_conn.execute_query(sql_query)\n",
    "\n",
    "queried_order_info = get_order_data()"
   ]
  },
  {
   "cell_type": "code",
   "execution_count": 7,
   "id": "98ce252a",
   "metadata": {},
   "outputs": [],
   "source": [
    "json_ = get_polygons_for_locations(path_for_polygon)"
   ]
  },
  {
   "cell_type": "code",
   "execution_count": 9,
   "id": "9632c6ba",
   "metadata": {},
   "outputs": [],
   "source": [
    "json_ = get_polygons_for_locations(path_for_polygon)\n",
    "\n",
    "warehouse_polygon_df = convert_json_to_dataframe(json_)\n",
    "\n",
    "input_params = get_input_parameters(path_for_polygon, warehouse_polygon_df, json_)\n",
    "\n",
    "polygons_based_on_driving = select_polygons_based_on_input_params(warehouse_polygon_df, input_params)"
   ]
  },
  {
   "cell_type": "code",
   "execution_count": 10,
   "id": "97bc6fc8",
   "metadata": {},
   "outputs": [],
   "source": [
    "constrained_locations_nested, constrained_locations_unnest = generate_constraint_based_info(queried_order_info, polygons_based_on_driving)"
   ]
  },
  {
   "cell_type": "code",
   "execution_count": 9,
   "id": "411b2ac4",
   "metadata": {},
   "outputs": [],
   "source": [
    "columns_for_metrics = ['number_of_locations_covered',\n",
    "                       'total_customers_list_coverage',\n",
    "                       'total_orders_list_coverage']\n",
    "\n",
    "baseline_metrics = get_all_baseline_metrics(queried_order_info, columns_for_metrics)"
   ]
  },
  {
   "cell_type": "code",
   "execution_count": 10,
   "id": "f1b1e71e",
   "metadata": {},
   "outputs": [],
   "source": [
    "all_locations_for_all_time, metric_df = calculate_metrics_at_store_and_network_level(constrained_locations_nested,\n",
    "                                                                                     constrained_locations_unnest,\n",
    "                                                                                     columns_for_metrics,\n",
    "                                                                                     baseline_metrics)"
   ]
  },
  {
   "cell_type": "code",
   "execution_count": 11,
   "id": "c5be7c2f",
   "metadata": {},
   "outputs": [],
   "source": [
    "average_driving_time_for_all_stores_all_time = \\\n",
    "        get_weighted_driving_time(all_locations_for_all_time)[['pred_lat', 'pred_long', 'driving_time',\n",
    "                                                      'total_customers_list_coverage', 'avg_driving_time']]"
   ]
  },
  {
   "cell_type": "code",
   "execution_count": 12,
   "id": "82dacedf",
   "metadata": {},
   "outputs": [],
   "source": [
    "network_driving_average_at_different_times_df =  get_avg_drive_time_network(average_driving_time_for_all_stores_all_time)"
   ]
  },
  {
   "cell_type": "code",
   "execution_count": 13,
   "id": "d29f1088",
   "metadata": {},
   "outputs": [],
   "source": [
    "metric_df = metric_df.join(network_driving_average_at_different_times_df)"
   ]
  },
  {
   "cell_type": "code",
   "execution_count": 14,
   "id": "f2a1a850",
   "metadata": {},
   "outputs": [],
   "source": [
    "store_level_new_metrics = get_avg_drive_time_store(metric_df,average_driving_time_for_all_stores_all_time)"
   ]
  },
  {
   "cell_type": "code",
   "execution_count": 15,
   "id": "5c9b5906",
   "metadata": {},
   "outputs": [],
   "source": [
    "metric_df = update_metrics(metric_df, store_level_new_metrics)"
   ]
  },
  {
   "cell_type": "code",
   "execution_count": 16,
   "id": "eb2e6f7f",
   "metadata": {},
   "outputs": [],
   "source": [
    "business_kpis = select_relevant_kpis(metric_df)"
   ]
  },
  {
   "cell_type": "code",
   "execution_count": 1,
   "id": "a264402e",
   "metadata": {},
   "outputs": [
    {
     "ename": "NameError",
     "evalue": "name 'business_kpis' is not defined",
     "output_type": "error",
     "traceback": [
      "\u001b[0;31m---------------------------------------------------------------------------\u001b[0m",
      "\u001b[0;31mNameError\u001b[0m                                 Traceback (most recent call last)",
      "\u001b[0;32m/var/folders/ld/gsw71dq965756wzyy68jvppc0000gq/T/ipykernel_55771/1600902105.py\u001b[0m in \u001b[0;36m<module>\u001b[0;34m\u001b[0m\n\u001b[0;32m----> 1\u001b[0;31m \u001b[0mbusiness_kpis\u001b[0m\u001b[0;34m\u001b[0m\u001b[0;34m\u001b[0m\u001b[0m\n\u001b[0m",
      "\u001b[0;31mNameError\u001b[0m: name 'business_kpis' is not defined"
     ]
    }
   ],
   "source": [
    "business_kpis"
   ]
  },
  {
   "cell_type": "code",
   "execution_count": 18,
   "id": "25e2aa86",
   "metadata": {},
   "outputs": [],
   "source": [
    "# saved_path = save_kpis(input_params, business_kpis)\n",
    "\n",
    "# print(f'saved at {saved_path}')"
   ]
  },
  {
   "cell_type": "markdown",
   "id": "eb32d5dc",
   "metadata": {},
   "source": [
    "## The Final KPI Run"
   ]
  },
  {
   "cell_type": "code",
   "execution_count": 5,
   "id": "b78a33a7",
   "metadata": {},
   "outputs": [
    {
     "data": {
      "text/plain": [
       "'gs://qc-store-growth-expansion-stg/existing_dmart_bucket/dmart-polygon-FP_SG-drive-time-4-15.json'"
      ]
     },
     "execution_count": 5,
     "metadata": {},
     "output_type": "execute_result"
    }
   ],
   "source": [
    "os.environ['GOOGLE_APPLICATION_CREDENTIALS'] = '../../cred/credentials.json'\n",
    "GCSOperations(\"qc-store-growth-expansion-stg\")\n",
    "\n",
    "bucket_name = \"qc-store-growth-expansion-stg\"\n",
    "\n",
    "folder_name = 'existing_dmart_bucket'\n",
    "polygon_file = 'dmart-polygon-FP_SG-drive-time-4-15.json'\n",
    "path_for_polygon = f'gs://{bucket_name}/{folder_name}/{polygon_file}'\n",
    "path_for_polygon"
   ]
  },
  {
   "cell_type": "code",
   "execution_count": 6,
   "id": "c13593d1",
   "metadata": {},
   "outputs": [],
   "source": [
    "json_ = get_polygons_for_locations(path_for_polygon)"
   ]
  },
  {
   "cell_type": "code",
   "execution_count": 7,
   "id": "4da011ce",
   "metadata": {},
   "outputs": [],
   "source": [
    "warehouse_polygon_df = convert_json_to_dataframe(json_)"
   ]
  },
  {
   "cell_type": "code",
   "execution_count": 8,
   "id": "4a2ac08f",
   "metadata": {},
   "outputs": [],
   "source": [
    "input_params = get_input_parameters(path_for_polygon, warehouse_polygon_df, json_)"
   ]
  },
  {
   "cell_type": "code",
   "execution_count": 9,
   "id": "a9c9e20f",
   "metadata": {},
   "outputs": [
    {
     "data": {
      "text/plain": [
       "{'Number_of_stores': 15,\n",
       " 'Driving_time': 15,\n",
       " 'Driving_mode': 'cycling',\n",
       " 'City_ID': 'FP_SG'}"
      ]
     },
     "execution_count": 9,
     "metadata": {},
     "output_type": "execute_result"
    }
   ],
   "source": [
    "input_params"
   ]
  },
  {
   "cell_type": "code",
   "execution_count": 10,
   "id": "fe8a0dbe",
   "metadata": {},
   "outputs": [],
   "source": [
    "from connector.bigquery_conn import *"
   ]
  },
  {
   "cell_type": "code",
   "execution_count": 11,
   "id": "7b5cdb9f",
   "metadata": {},
   "outputs": [],
   "source": [
    "project_id = 'dh-darkstores-stg'"
   ]
  },
  {
   "cell_type": "code",
   "execution_count": 12,
   "id": "d9738298",
   "metadata": {},
   "outputs": [],
   "source": [
    "bq_conn = BigQueryOperations(project_id)"
   ]
  },
  {
   "cell_type": "code",
   "execution_count": 13,
   "id": "e5ff34e1",
   "metadata": {},
   "outputs": [
    {
     "name": "stdout",
     "output_type": "stream",
     "text": [
      "bigQuery job done, downloading...\n"
     ]
    }
   ],
   "source": [
    "queried_order_info = bq_conn.get_customer_order_data('FP_SG',\"2021-01-01\",\"2021-01-01\",4)"
   ]
  },
  {
   "cell_type": "code",
   "execution_count": 14,
   "id": "11eb5438",
   "metadata": {},
   "outputs": [],
   "source": [
    "## big query\n",
    "# queried_order_info = get_order_data()"
   ]
  },
  {
   "cell_type": "code",
   "execution_count": 15,
   "id": "d1516108",
   "metadata": {},
   "outputs": [
    {
     "data": {
      "text/html": [
       "<div>\n",
       "<style scoped>\n",
       "    .dataframe tbody tr th:only-of-type {\n",
       "        vertical-align: middle;\n",
       "    }\n",
       "\n",
       "    .dataframe tbody tr th {\n",
       "        vertical-align: top;\n",
       "    }\n",
       "\n",
       "    .dataframe thead th {\n",
       "        text-align: right;\n",
       "    }\n",
       "</style>\n",
       "<table border=\"1\" class=\"dataframe\">\n",
       "  <thead>\n",
       "    <tr style=\"text-align: right;\">\n",
       "      <th></th>\n",
       "      <th>store_type_l2</th>\n",
       "      <th>lat</th>\n",
       "      <th>long</th>\n",
       "      <th>num_customers</th>\n",
       "      <th>num_orders</th>\n",
       "      <th>num_items</th>\n",
       "      <th>gmv</th>\n",
       "    </tr>\n",
       "  </thead>\n",
       "  <tbody>\n",
       "    <tr>\n",
       "      <th>0</th>\n",
       "      <td>restaurants</td>\n",
       "      <td>1.3329</td>\n",
       "      <td>103.7210</td>\n",
       "      <td>3</td>\n",
       "      <td>60</td>\n",
       "      <td>78</td>\n",
       "      <td>1009.800000000</td>\n",
       "    </tr>\n",
       "    <tr>\n",
       "      <th>1</th>\n",
       "      <td>restaurants</td>\n",
       "      <td>1.3892</td>\n",
       "      <td>103.8979</td>\n",
       "      <td>8</td>\n",
       "      <td>83</td>\n",
       "      <td>85</td>\n",
       "      <td>1895.770000000</td>\n",
       "    </tr>\n",
       "    <tr>\n",
       "      <th>2</th>\n",
       "      <td>restaurants</td>\n",
       "      <td>1.3944</td>\n",
       "      <td>103.7446</td>\n",
       "      <td>3</td>\n",
       "      <td>52</td>\n",
       "      <td>56</td>\n",
       "      <td>1472.280000000</td>\n",
       "    </tr>\n",
       "    <tr>\n",
       "      <th>3</th>\n",
       "      <td>restaurants</td>\n",
       "      <td>1.3665</td>\n",
       "      <td>103.8723</td>\n",
       "      <td>3</td>\n",
       "      <td>41</td>\n",
       "      <td>41</td>\n",
       "      <td>1130.080000000</td>\n",
       "    </tr>\n",
       "    <tr>\n",
       "      <th>4</th>\n",
       "      <td>restaurants</td>\n",
       "      <td>1.2995</td>\n",
       "      <td>103.8600</td>\n",
       "      <td>8</td>\n",
       "      <td>56</td>\n",
       "      <td>59</td>\n",
       "      <td>1839.550000000</td>\n",
       "    </tr>\n",
       "    <tr>\n",
       "      <th>...</th>\n",
       "      <td>...</td>\n",
       "      <td>...</td>\n",
       "      <td>...</td>\n",
       "      <td>...</td>\n",
       "      <td>...</td>\n",
       "      <td>...</td>\n",
       "      <td>...</td>\n",
       "    </tr>\n",
       "    <tr>\n",
       "      <th>33333</th>\n",
       "      <td>restaurants</td>\n",
       "      <td>1.4365</td>\n",
       "      <td>103.7816</td>\n",
       "      <td>4</td>\n",
       "      <td>48</td>\n",
       "      <td>48</td>\n",
       "      <td>1448.820000000</td>\n",
       "    </tr>\n",
       "    <tr>\n",
       "      <th>33334</th>\n",
       "      <td>restaurants</td>\n",
       "      <td>1.3759</td>\n",
       "      <td>103.9440</td>\n",
       "      <td>2</td>\n",
       "      <td>48</td>\n",
       "      <td>48</td>\n",
       "      <td>2590.320000000</td>\n",
       "    </tr>\n",
       "    <tr>\n",
       "      <th>33335</th>\n",
       "      <td>restaurants</td>\n",
       "      <td>1.3788</td>\n",
       "      <td>103.7359</td>\n",
       "      <td>3</td>\n",
       "      <td>48</td>\n",
       "      <td>68</td>\n",
       "      <td>1013.620000000</td>\n",
       "    </tr>\n",
       "    <tr>\n",
       "      <th>33336</th>\n",
       "      <td>restaurants</td>\n",
       "      <td>1.3527</td>\n",
       "      <td>103.7194</td>\n",
       "      <td>4</td>\n",
       "      <td>48</td>\n",
       "      <td>55</td>\n",
       "      <td>746.720000000</td>\n",
       "    </tr>\n",
       "    <tr>\n",
       "      <th>33337</th>\n",
       "      <td>restaurants</td>\n",
       "      <td>1.3677</td>\n",
       "      <td>103.8347</td>\n",
       "      <td>1</td>\n",
       "      <td>48</td>\n",
       "      <td>64</td>\n",
       "      <td>2661.120000000</td>\n",
       "    </tr>\n",
       "  </tbody>\n",
       "</table>\n",
       "<p>33338 rows × 7 columns</p>\n",
       "</div>"
      ],
      "text/plain": [
       "      store_type_l2     lat      long  num_customers  num_orders  num_items  \\\n",
       "0       restaurants  1.3329  103.7210              3          60         78   \n",
       "1       restaurants  1.3892  103.8979              8          83         85   \n",
       "2       restaurants  1.3944  103.7446              3          52         56   \n",
       "3       restaurants  1.3665  103.8723              3          41         41   \n",
       "4       restaurants  1.2995  103.8600              8          56         59   \n",
       "...             ...     ...       ...            ...         ...        ...   \n",
       "33333   restaurants  1.4365  103.7816              4          48         48   \n",
       "33334   restaurants  1.3759  103.9440              2          48         48   \n",
       "33335   restaurants  1.3788  103.7359              3          48         68   \n",
       "33336   restaurants  1.3527  103.7194              4          48         55   \n",
       "33337   restaurants  1.3677  103.8347              1          48         64   \n",
       "\n",
       "                  gmv  \n",
       "0      1009.800000000  \n",
       "1      1895.770000000  \n",
       "2      1472.280000000  \n",
       "3      1130.080000000  \n",
       "4      1839.550000000  \n",
       "...               ...  \n",
       "33333  1448.820000000  \n",
       "33334  2590.320000000  \n",
       "33335  1013.620000000  \n",
       "33336   746.720000000  \n",
       "33337  2661.120000000  \n",
       "\n",
       "[33338 rows x 7 columns]"
      ]
     },
     "execution_count": 15,
     "metadata": {},
     "output_type": "execute_result"
    }
   ],
   "source": [
    "queried_order_info"
   ]
  },
  {
   "cell_type": "code",
   "execution_count": 23,
   "id": "f655b067",
   "metadata": {},
   "outputs": [
    {
     "name": "stdout",
     "output_type": "stream",
     "text": [
      "The autoreload extension is already loaded. To reload it, use:\n",
      "  %reload_ext autoreload\n"
     ]
    }
   ],
   "source": [
    "%load_ext autoreload\n",
    "%autoreload 2\n",
    "\n",
    "\n",
    "\n",
    "from helper.metrics_kpi import *\n",
    "\n",
    "from connector.gcp_conn import *"
   ]
  },
  {
   "cell_type": "code",
   "execution_count": 24,
   "id": "ac423e55",
   "metadata": {},
   "outputs": [
    {
     "name": "stdout",
     "output_type": "stream",
     "text": [
      "CPU times: user 36.5 s, sys: 503 ms, total: 37 s\n",
      "Wall time: 37.6 s\n"
     ]
    }
   ],
   "source": [
    "%%time\n",
    "business_kp = get_kpi_metrics(warehouse_polygon_df,\n",
    "                              queried_order_info,\n",
    "                              input_params)"
   ]
  },
  {
   "cell_type": "code",
   "execution_count": 18,
   "id": "d3b2b81f",
   "metadata": {},
   "outputs": [
    {
     "data": {
      "text/html": [
       "<div>\n",
       "<style scoped>\n",
       "    .dataframe tbody tr th:only-of-type {\n",
       "        vertical-align: middle;\n",
       "    }\n",
       "\n",
       "    .dataframe tbody tr th {\n",
       "        vertical-align: top;\n",
       "    }\n",
       "\n",
       "    .dataframe thead th {\n",
       "        text-align: right;\n",
       "    }\n",
       "</style>\n",
       "<table border=\"1\" class=\"dataframe\">\n",
       "  <thead>\n",
       "    <tr style=\"text-align: right;\">\n",
       "      <th></th>\n",
       "      <th>customer_penetration_absolute</th>\n",
       "      <th>customer_penetration %</th>\n",
       "      <th>overlap %</th>\n",
       "      <th>avg_drive_time</th>\n",
       "      <th>store_level_metrics</th>\n",
       "    </tr>\n",
       "    <tr>\n",
       "      <th>driving_time</th>\n",
       "      <th></th>\n",
       "      <th></th>\n",
       "      <th></th>\n",
       "      <th></th>\n",
       "      <th></th>\n",
       "    </tr>\n",
       "  </thead>\n",
       "  <tbody>\n",
       "    <tr>\n",
       "      <th>5</th>\n",
       "      <td>11139</td>\n",
       "      <td>10.042916</td>\n",
       "      <td>0.000000</td>\n",
       "      <td>5.000000</td>\n",
       "      <td>{        'pred_lat' : 1.32620892,        'pred...</td>\n",
       "    </tr>\n",
       "    <tr>\n",
       "      <th>7</th>\n",
       "      <td>21706</td>\n",
       "      <td>19.570117</td>\n",
       "      <td>0.000000</td>\n",
       "      <td>6.321723</td>\n",
       "      <td>{        'pred_lat' : 1.32620892,        'pred...</td>\n",
       "    </tr>\n",
       "    <tr>\n",
       "      <th>10</th>\n",
       "      <td>42199</td>\n",
       "      <td>38.046595</td>\n",
       "      <td>1.685034</td>\n",
       "      <td>8.390104</td>\n",
       "      <td>{        'pred_lat' : 1.32620892,        'pred...</td>\n",
       "    </tr>\n",
       "    <tr>\n",
       "      <th>15</th>\n",
       "      <td>75539</td>\n",
       "      <td>68.105920</td>\n",
       "      <td>13.831656</td>\n",
       "      <td>11.705916</td>\n",
       "      <td>{        'pred_lat' : 1.32620892,        'pred...</td>\n",
       "    </tr>\n",
       "  </tbody>\n",
       "</table>\n",
       "</div>"
      ],
      "text/plain": [
       "              customer_penetration_absolute  customer_penetration %  \\\n",
       "driving_time                                                          \n",
       "5                                     11139               10.042916   \n",
       "7                                     21706               19.570117   \n",
       "10                                    42199               38.046595   \n",
       "15                                    75539               68.105920   \n",
       "\n",
       "              overlap %  avg_drive_time  \\\n",
       "driving_time                              \n",
       "5              0.000000        5.000000   \n",
       "7              0.000000        6.321723   \n",
       "10             1.685034        8.390104   \n",
       "15            13.831656       11.705916   \n",
       "\n",
       "                                            store_level_metrics  \n",
       "driving_time                                                     \n",
       "5             {        'pred_lat' : 1.32620892,        'pred...  \n",
       "7             {        'pred_lat' : 1.32620892,        'pred...  \n",
       "10            {        'pred_lat' : 1.32620892,        'pred...  \n",
       "15            {        'pred_lat' : 1.32620892,        'pred...  "
      ]
     },
     "execution_count": 18,
     "metadata": {},
     "output_type": "execute_result"
    }
   ],
   "source": [
    "business_kp"
   ]
  },
  {
   "cell_type": "code",
   "execution_count": 20,
   "id": "1233c943",
   "metadata": {},
   "outputs": [
    {
     "data": {
      "text/html": [
       "<div>\n",
       "<style scoped>\n",
       "    .dataframe tbody tr th:only-of-type {\n",
       "        vertical-align: middle;\n",
       "    }\n",
       "\n",
       "    .dataframe tbody tr th {\n",
       "        vertical-align: top;\n",
       "    }\n",
       "\n",
       "    .dataframe thead th {\n",
       "        text-align: right;\n",
       "    }\n",
       "</style>\n",
       "<table border=\"1\" class=\"dataframe\">\n",
       "  <thead>\n",
       "    <tr style=\"text-align: right;\">\n",
       "      <th></th>\n",
       "      <th>pred_lat</th>\n",
       "      <th>pred_long</th>\n",
       "      <th>customer_penetration</th>\n",
       "      <th>customer_penetration %</th>\n",
       "      <th>overlap coverage %</th>\n",
       "      <th>avg_driving_time</th>\n",
       "    </tr>\n",
       "  </thead>\n",
       "  <tbody>\n",
       "    <tr>\n",
       "      <th>0</th>\n",
       "      <td>1.326209</td>\n",
       "      <td>103.853011</td>\n",
       "      <td>841.0</td>\n",
       "      <td>17.524484</td>\n",
       "      <td>0.0</td>\n",
       "      <td>5.0</td>\n",
       "    </tr>\n",
       "    <tr>\n",
       "      <th>1</th>\n",
       "      <td>1.322911</td>\n",
       "      <td>103.920874</td>\n",
       "      <td>688.0</td>\n",
       "      <td>14.336320</td>\n",
       "      <td>0.0</td>\n",
       "      <td>5.0</td>\n",
       "    </tr>\n",
       "    <tr>\n",
       "      <th>2</th>\n",
       "      <td>1.420482</td>\n",
       "      <td>103.912009</td>\n",
       "      <td>16.0</td>\n",
       "      <td>0.333403</td>\n",
       "      <td>0.0</td>\n",
       "      <td>5.0</td>\n",
       "    </tr>\n",
       "    <tr>\n",
       "      <th>3</th>\n",
       "      <td>1.285370</td>\n",
       "      <td>103.834724</td>\n",
       "      <td>852.0</td>\n",
       "      <td>17.753699</td>\n",
       "      <td>0.0</td>\n",
       "      <td>5.0</td>\n",
       "    </tr>\n",
       "    <tr>\n",
       "      <th>4</th>\n",
       "      <td>1.360945</td>\n",
       "      <td>103.857244</td>\n",
       "      <td>377.0</td>\n",
       "      <td>7.855803</td>\n",
       "      <td>0.0</td>\n",
       "      <td>5.0</td>\n",
       "    </tr>\n",
       "    <tr>\n",
       "      <th>5</th>\n",
       "      <td>1.406025</td>\n",
       "      <td>103.758371</td>\n",
       "      <td>20.0</td>\n",
       "      <td>0.416753</td>\n",
       "      <td>0.0</td>\n",
       "      <td>5.0</td>\n",
       "    </tr>\n",
       "    <tr>\n",
       "      <th>6</th>\n",
       "      <td>1.290559</td>\n",
       "      <td>103.814227</td>\n",
       "      <td>912.0</td>\n",
       "      <td>19.003959</td>\n",
       "      <td>0.0</td>\n",
       "      <td>5.0</td>\n",
       "    </tr>\n",
       "    <tr>\n",
       "      <th>7</th>\n",
       "      <td>1.372423</td>\n",
       "      <td>103.933873</td>\n",
       "      <td>27.0</td>\n",
       "      <td>0.562617</td>\n",
       "      <td>0.0</td>\n",
       "      <td>5.0</td>\n",
       "    </tr>\n",
       "    <tr>\n",
       "      <th>8</th>\n",
       "      <td>1.437959</td>\n",
       "      <td>103.844939</td>\n",
       "      <td>975.0</td>\n",
       "      <td>20.316733</td>\n",
       "      <td>0.0</td>\n",
       "      <td>5.0</td>\n",
       "    </tr>\n",
       "    <tr>\n",
       "      <th>9</th>\n",
       "      <td>1.334231</td>\n",
       "      <td>103.699479</td>\n",
       "      <td>252.0</td>\n",
       "      <td>5.251094</td>\n",
       "      <td>0.0</td>\n",
       "      <td>5.0</td>\n",
       "    </tr>\n",
       "    <tr>\n",
       "      <th>10</th>\n",
       "      <td>1.346050</td>\n",
       "      <td>103.712349</td>\n",
       "      <td>1285.0</td>\n",
       "      <td>26.776412</td>\n",
       "      <td>0.0</td>\n",
       "      <td>5.0</td>\n",
       "    </tr>\n",
       "    <tr>\n",
       "      <th>11</th>\n",
       "      <td>1.353862</td>\n",
       "      <td>103.878931</td>\n",
       "      <td>1503.0</td>\n",
       "      <td>31.319025</td>\n",
       "      <td>0.0</td>\n",
       "      <td>5.0</td>\n",
       "    </tr>\n",
       "    <tr>\n",
       "      <th>12</th>\n",
       "      <td>1.434656</td>\n",
       "      <td>103.802385</td>\n",
       "      <td>1755.0</td>\n",
       "      <td>36.570119</td>\n",
       "      <td>0.0</td>\n",
       "      <td>5.0</td>\n",
       "    </tr>\n",
       "    <tr>\n",
       "      <th>13</th>\n",
       "      <td>1.316149</td>\n",
       "      <td>103.877968</td>\n",
       "      <td>1017.0</td>\n",
       "      <td>21.191915</td>\n",
       "      <td>0.0</td>\n",
       "      <td>5.0</td>\n",
       "    </tr>\n",
       "    <tr>\n",
       "      <th>14</th>\n",
       "      <td>1.343953</td>\n",
       "      <td>103.753363</td>\n",
       "      <td>619.0</td>\n",
       "      <td>12.898521</td>\n",
       "      <td>0.0</td>\n",
       "      <td>5.0</td>\n",
       "    </tr>\n",
       "  </tbody>\n",
       "</table>\n",
       "</div>"
      ],
      "text/plain": [
       "    pred_lat   pred_long  customer_penetration  customer_penetration %  \\\n",
       "0   1.326209  103.853011                 841.0               17.524484   \n",
       "1   1.322911  103.920874                 688.0               14.336320   \n",
       "2   1.420482  103.912009                  16.0                0.333403   \n",
       "3   1.285370  103.834724                 852.0               17.753699   \n",
       "4   1.360945  103.857244                 377.0                7.855803   \n",
       "5   1.406025  103.758371                  20.0                0.416753   \n",
       "6   1.290559  103.814227                 912.0               19.003959   \n",
       "7   1.372423  103.933873                  27.0                0.562617   \n",
       "8   1.437959  103.844939                 975.0               20.316733   \n",
       "9   1.334231  103.699479                 252.0                5.251094   \n",
       "10  1.346050  103.712349                1285.0               26.776412   \n",
       "11  1.353862  103.878931                1503.0               31.319025   \n",
       "12  1.434656  103.802385                1755.0               36.570119   \n",
       "13  1.316149  103.877968                1017.0               21.191915   \n",
       "14  1.343953  103.753363                 619.0               12.898521   \n",
       "\n",
       "    overlap coverage %  avg_driving_time  \n",
       "0                  0.0               5.0  \n",
       "1                  0.0               5.0  \n",
       "2                  0.0               5.0  \n",
       "3                  0.0               5.0  \n",
       "4                  0.0               5.0  \n",
       "5                  0.0               5.0  \n",
       "6                  0.0               5.0  \n",
       "7                  0.0               5.0  \n",
       "8                  0.0               5.0  \n",
       "9                  0.0               5.0  \n",
       "10                 0.0               5.0  \n",
       "11                 0.0               5.0  \n",
       "12                 0.0               5.0  \n",
       "13                 0.0               5.0  \n",
       "14                 0.0               5.0  "
      ]
     },
     "execution_count": 20,
     "metadata": {},
     "output_type": "execute_result"
    }
   ],
   "source": [
    "pd.DataFrame(eval(business_kp.loc[5]['store_level_metrics']))"
   ]
  },
  {
   "cell_type": "code",
   "execution_count": null,
   "id": "04721e74",
   "metadata": {},
   "outputs": [],
   "source": []
  }
 ],
 "metadata": {
  "kernelspec": {
   "display_name": "Python 3 (ipykernel)",
   "language": "python",
   "name": "python3"
  },
  "language_info": {
   "codemirror_mode": {
    "name": "ipython",
    "version": 3
   },
   "file_extension": ".py",
   "mimetype": "text/x-python",
   "name": "python",
   "nbconvert_exporter": "python",
   "pygments_lexer": "ipython3",
   "version": "3.8.2"
  }
 },
 "nbformat": 4,
 "nbformat_minor": 5
}
