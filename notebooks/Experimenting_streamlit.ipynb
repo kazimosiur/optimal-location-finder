{
 "cells": [
  {
   "cell_type": "code",
   "execution_count": 1,
   "id": "0c04d889",
   "metadata": {},
   "outputs": [
    {
     "name": "stdout",
     "output_type": "stream",
     "text": [
      "Collecting streamlit\n",
      "  Downloading streamlit-1.2.0-py2.py3-none-any.whl (9.1 MB)\n",
      "\u001b[K     |████████████████████████████████| 9.1 MB 2.1 MB/s eta 0:00:01     |█                               | 307 kB 2.1 MB/s eta 0:00:05     |█████▎                          | 1.5 MB 2.1 MB/s eta 0:00:04     |████████████████████▉           | 5.9 MB 2.1 MB/s eta 0:00:02\n",
      "\u001b[?25hCollecting validators\n",
      "  Downloading validators-0.18.2-py3-none-any.whl (19 kB)\n",
      "Collecting pydeck>=0.1.dev5\n",
      "  Downloading pydeck-0.7.1-py2.py3-none-any.whl (4.3 MB)\n",
      "\u001b[K     |████████████████████████████████| 4.3 MB 17.1 MB/s eta 0:00:01     |█████                           | 665 kB 17.1 MB/s eta 0:00:01\n",
      "\u001b[?25hCollecting gitpython!=3.1.19\n",
      "  Downloading GitPython-3.1.24-py3-none-any.whl (180 kB)\n",
      "\u001b[K     |████████████████████████████████| 180 kB 12.7 MB/s eta 0:00:01\n",
      "\u001b[?25hCollecting pandas>=0.21.0\n",
      "  Downloading pandas-1.3.4-cp38-cp38-macosx_10_9_x86_64.whl (11.4 MB)\n",
      "\u001b[K     |████████████████████████████████| 11.4 MB 12.3 MB/s eta 0:00:01    |██████████▌                     | 3.8 MB 13.9 MB/s eta 0:00:01     |█████████████▊                  | 4.9 MB 13.9 MB/s eta 0:00:01     |██████████████████████▌         | 8.0 MB 13.9 MB/s eta 0:00:01     |██████████████████████████▋     | 9.5 MB 13.9 MB/s eta 0:00:01\n",
      "\u001b[?25hRequirement already satisfied: toml in /Users/temporaryadmin/PycharmProjects/pythonProject/quickcommerce/lib/python3.8/site-packages (from streamlit) (0.10.2)\n",
      "Collecting tzlocal\n",
      "  Downloading tzlocal-4.1-py3-none-any.whl (19 kB)\n",
      "Requirement already satisfied: tornado>=5.0 in /Users/temporaryadmin/PycharmProjects/pythonProject/quickcommerce/lib/python3.8/site-packages (from streamlit) (6.1)\n",
      "Collecting pyarrow\n",
      "  Downloading pyarrow-6.0.1-cp38-cp38-macosx_10_13_x86_64.whl (19.1 MB)\n",
      "\u001b[K     |████████████████████████████████| 19.1 MB 5.9 MB/s eta 0:00:011    |█████████████▍                  | 8.0 MB 10.8 MB/s eta 0:00:02     |██████████████████▌             | 11.0 MB 10.8 MB/s eta 0:00:01     |█████████████████████████▋      | 15.3 MB 5.9 MB/s eta 0:00:01     |████████████████████████████▍   | 17.0 MB 5.9 MB/s eta 0:00:01     |████████████████████████████▉   | 17.2 MB 5.9 MB/s eta 0:00:01\n",
      "\u001b[?25hCollecting pympler>=0.9\n",
      "  Downloading Pympler-0.9.tar.gz (178 kB)\n",
      "\u001b[K     |████████████████████████████████| 178 kB 7.7 MB/s eta 0:00:01\n",
      "\u001b[?25hCollecting blinker\n",
      "  Downloading blinker-1.4.tar.gz (111 kB)\n",
      "\u001b[K     |████████████████████████████████| 111 kB 20.9 MB/s eta 0:00:01\n",
      "\u001b[?25hCollecting base58\n",
      "  Downloading base58-2.1.1-py3-none-any.whl (5.6 kB)\n",
      "Collecting pillow>=6.2.0\n",
      "  Downloading Pillow-8.4.0-cp38-cp38-macosx_10_10_x86_64.whl (3.0 MB)\n",
      "\u001b[K     |████████████████████████████████| 3.0 MB 5.8 MB/s eta 0:00:01     |████████████████████            | 1.9 MB 5.8 MB/s eta 0:00:01\n",
      "\u001b[?25hRequirement already satisfied: python-dateutil in /Users/temporaryadmin/PycharmProjects/pythonProject/quickcommerce/lib/python3.8/site-packages (from streamlit) (2.8.2)\n",
      "Requirement already satisfied: packaging in /Users/temporaryadmin/PycharmProjects/pythonProject/quickcommerce/lib/python3.8/site-packages (from streamlit) (21.3)\n",
      "Requirement already satisfied: attrs in /Users/temporaryadmin/PycharmProjects/pythonProject/quickcommerce/lib/python3.8/site-packages (from streamlit) (21.2.0)\n",
      "Collecting click<8.0,>=7.0\n",
      "  Downloading click-7.1.2-py2.py3-none-any.whl (82 kB)\n",
      "\u001b[K     |████████████████████████████████| 82 kB 859 kB/s eta 0:00:011\n",
      "\u001b[?25hCollecting protobuf!=3.11,>=3.6.0\n",
      "  Downloading protobuf-3.19.1-cp38-cp38-macosx_10_9_x86_64.whl (1.0 MB)\n",
      "\u001b[K     |████████████████████████████████| 1.0 MB 14.0 MB/s eta 0:00:01\n",
      "\u001b[?25hCollecting numpy\n",
      "  Downloading numpy-1.21.4-cp38-cp38-macosx_10_9_x86_64.whl (16.9 MB)\n",
      "\u001b[K     |████████████████████████████████| 16.9 MB 5.1 MB/s eta 0:00:01    |███▏                            | 1.7 MB 7.3 MB/s eta 0:00:03     |████████                        | 4.3 MB 7.3 MB/s eta 0:00:02     |█████████▋                      | 5.1 MB 7.3 MB/s eta 0:00:02     |█████████████████▊              | 9.3 MB 5.1 MB/s eta 0:00:02     |██████████████████▊             | 9.9 MB 5.1 MB/s eta 0:00:02\n",
      "\u001b[?25hCollecting cachetools>=4.0\n",
      "  Downloading cachetools-4.2.4-py3-none-any.whl (10 kB)\n",
      "Collecting altair>=3.2.0\n",
      "  Downloading altair-4.1.0-py3-none-any.whl (727 kB)\n",
      "\u001b[K     |████████████████████████████████| 727 kB 9.7 MB/s eta 0:00:01\n",
      "\u001b[?25hCollecting astor\n",
      "  Downloading astor-0.8.1-py2.py3-none-any.whl (27 kB)\n",
      "Requirement already satisfied: requests in /Users/temporaryadmin/PycharmProjects/pythonProject/quickcommerce/lib/python3.8/site-packages (from streamlit) (2.26.0)\n",
      "Requirement already satisfied: jinja2 in /Users/temporaryadmin/PycharmProjects/pythonProject/quickcommerce/lib/python3.8/site-packages (from altair>=3.2.0->streamlit) (3.0.3)\n",
      "Collecting toolz\n",
      "  Downloading toolz-0.11.2-py3-none-any.whl (55 kB)\n",
      "\u001b[K     |████████████████████████████████| 55 kB 4.0 MB/s  eta 0:00:01\n",
      "\u001b[?25hRequirement already satisfied: jsonschema in /Users/temporaryadmin/PycharmProjects/pythonProject/quickcommerce/lib/python3.8/site-packages (from altair>=3.2.0->streamlit) (4.2.1)\n",
      "Requirement already satisfied: entrypoints in /Users/temporaryadmin/PycharmProjects/pythonProject/quickcommerce/lib/python3.8/site-packages (from altair>=3.2.0->streamlit) (0.3)\n",
      "Collecting gitdb<5,>=4.0.1\n",
      "  Downloading gitdb-4.0.9-py3-none-any.whl (63 kB)\n",
      "\u001b[K     |████████████████████████████████| 63 kB 2.0 MB/s  eta 0:00:01\n",
      "\u001b[?25hRequirement already satisfied: typing-extensions>=3.7.4.3 in /Users/temporaryadmin/PycharmProjects/pythonProject/quickcommerce/lib/python3.8/site-packages (from gitpython!=3.1.19->streamlit) (4.0.0)\n",
      "Collecting smmap<6,>=3.0.1\n",
      "  Downloading smmap-5.0.0-py3-none-any.whl (24 kB)\n",
      "Requirement already satisfied: pytz>=2017.3 in /Users/temporaryadmin/PycharmProjects/pythonProject/quickcommerce/lib/python3.8/site-packages (from pandas>=0.21.0->streamlit) (2021.3)\n",
      "Requirement already satisfied: ipykernel>=5.1.2 in /Users/temporaryadmin/PycharmProjects/pythonProject/quickcommerce/lib/python3.8/site-packages (from pydeck>=0.1.dev5->streamlit) (6.5.1)\n",
      "Requirement already satisfied: traitlets>=4.3.2 in /Users/temporaryadmin/PycharmProjects/pythonProject/quickcommerce/lib/python3.8/site-packages (from pydeck>=0.1.dev5->streamlit) (5.1.1)\n",
      "Requirement already satisfied: ipywidgets>=7.0.0 in /Users/temporaryadmin/PycharmProjects/pythonProject/quickcommerce/lib/python3.8/site-packages (from pydeck>=0.1.dev5->streamlit) (7.6.5)\n",
      "Requirement already satisfied: matplotlib-inline<0.2.0,>=0.1.0 in /Users/temporaryadmin/PycharmProjects/pythonProject/quickcommerce/lib/python3.8/site-packages (from ipykernel>=5.1.2->pydeck>=0.1.dev5->streamlit) (0.1.3)\n",
      "Requirement already satisfied: jupyter-client<8.0 in /Users/temporaryadmin/PycharmProjects/pythonProject/quickcommerce/lib/python3.8/site-packages (from ipykernel>=5.1.2->pydeck>=0.1.dev5->streamlit) (7.1.0)\n",
      "Requirement already satisfied: ipython>=7.23.1 in /Users/temporaryadmin/PycharmProjects/pythonProject/quickcommerce/lib/python3.8/site-packages (from ipykernel>=5.1.2->pydeck>=0.1.dev5->streamlit) (7.30.0)\n",
      "Requirement already satisfied: debugpy<2.0,>=1.0.0 in /Users/temporaryadmin/PycharmProjects/pythonProject/quickcommerce/lib/python3.8/site-packages (from ipykernel>=5.1.2->pydeck>=0.1.dev5->streamlit) (1.5.1)\n",
      "Requirement already satisfied: appnope in /Users/temporaryadmin/PycharmProjects/pythonProject/quickcommerce/lib/python3.8/site-packages (from ipykernel>=5.1.2->pydeck>=0.1.dev5->streamlit) (0.1.2)\n",
      "Requirement already satisfied: pickleshare in /Users/temporaryadmin/PycharmProjects/pythonProject/quickcommerce/lib/python3.8/site-packages (from ipython>=7.23.1->ipykernel>=5.1.2->pydeck>=0.1.dev5->streamlit) (0.7.5)\n",
      "Requirement already satisfied: pexpect>4.3 in /Users/temporaryadmin/PycharmProjects/pythonProject/quickcommerce/lib/python3.8/site-packages (from ipython>=7.23.1->ipykernel>=5.1.2->pydeck>=0.1.dev5->streamlit) (4.8.0)\n",
      "Requirement already satisfied: pygments in /Users/temporaryadmin/PycharmProjects/pythonProject/quickcommerce/lib/python3.8/site-packages (from ipython>=7.23.1->ipykernel>=5.1.2->pydeck>=0.1.dev5->streamlit) (2.10.0)\n",
      "Requirement already satisfied: prompt-toolkit!=3.0.0,!=3.0.1,<3.1.0,>=2.0.0 in /Users/temporaryadmin/PycharmProjects/pythonProject/quickcommerce/lib/python3.8/site-packages (from ipython>=7.23.1->ipykernel>=5.1.2->pydeck>=0.1.dev5->streamlit) (3.0.23)\n",
      "Requirement already satisfied: jedi>=0.16 in /Users/temporaryadmin/PycharmProjects/pythonProject/quickcommerce/lib/python3.8/site-packages (from ipython>=7.23.1->ipykernel>=5.1.2->pydeck>=0.1.dev5->streamlit) (0.18.1)\n",
      "Requirement already satisfied: setuptools>=18.5 in /Users/temporaryadmin/PycharmProjects/pythonProject/quickcommerce/lib/python3.8/site-packages (from ipython>=7.23.1->ipykernel>=5.1.2->pydeck>=0.1.dev5->streamlit) (57.0.0)\n",
      "Requirement already satisfied: backcall in /Users/temporaryadmin/PycharmProjects/pythonProject/quickcommerce/lib/python3.8/site-packages (from ipython>=7.23.1->ipykernel>=5.1.2->pydeck>=0.1.dev5->streamlit) (0.2.0)\n",
      "Requirement already satisfied: decorator in /Users/temporaryadmin/PycharmProjects/pythonProject/quickcommerce/lib/python3.8/site-packages (from ipython>=7.23.1->ipykernel>=5.1.2->pydeck>=0.1.dev5->streamlit) (5.1.0)\n",
      "Requirement already satisfied: jupyterlab-widgets>=1.0.0 in /Users/temporaryadmin/PycharmProjects/pythonProject/quickcommerce/lib/python3.8/site-packages (from ipywidgets>=7.0.0->pydeck>=0.1.dev5->streamlit) (1.0.2)\n"
     ]
    },
    {
     "name": "stdout",
     "output_type": "stream",
     "text": [
      "Requirement already satisfied: nbformat>=4.2.0 in /Users/temporaryadmin/PycharmProjects/pythonProject/quickcommerce/lib/python3.8/site-packages (from ipywidgets>=7.0.0->pydeck>=0.1.dev5->streamlit) (5.1.3)\n",
      "Requirement already satisfied: ipython-genutils~=0.2.0 in /Users/temporaryadmin/PycharmProjects/pythonProject/quickcommerce/lib/python3.8/site-packages (from ipywidgets>=7.0.0->pydeck>=0.1.dev5->streamlit) (0.2.0)\n",
      "Requirement already satisfied: widgetsnbextension~=3.5.0 in /Users/temporaryadmin/PycharmProjects/pythonProject/quickcommerce/lib/python3.8/site-packages (from ipywidgets>=7.0.0->pydeck>=0.1.dev5->streamlit) (3.5.2)\n",
      "Requirement already satisfied: parso<0.9.0,>=0.8.0 in /Users/temporaryadmin/PycharmProjects/pythonProject/quickcommerce/lib/python3.8/site-packages (from jedi>=0.16->ipython>=7.23.1->ipykernel>=5.1.2->pydeck>=0.1.dev5->streamlit) (0.8.2)\n",
      "Requirement already satisfied: MarkupSafe>=2.0 in /Users/temporaryadmin/PycharmProjects/pythonProject/quickcommerce/lib/python3.8/site-packages (from jinja2->altair>=3.2.0->streamlit) (2.0.1)\n",
      "Requirement already satisfied: nest-asyncio>=1.5 in /Users/temporaryadmin/PycharmProjects/pythonProject/quickcommerce/lib/python3.8/site-packages (from jupyter-client<8.0->ipykernel>=5.1.2->pydeck>=0.1.dev5->streamlit) (1.5.1)\n",
      "Requirement already satisfied: pyzmq>=13 in /Users/temporaryadmin/PycharmProjects/pythonProject/quickcommerce/lib/python3.8/site-packages (from jupyter-client<8.0->ipykernel>=5.1.2->pydeck>=0.1.dev5->streamlit) (22.3.0)\n",
      "Requirement already satisfied: jupyter-core>=4.6.0 in /Users/temporaryadmin/PycharmProjects/pythonProject/quickcommerce/lib/python3.8/site-packages (from jupyter-client<8.0->ipykernel>=5.1.2->pydeck>=0.1.dev5->streamlit) (4.9.1)\n",
      "Requirement already satisfied: importlib-resources>=1.4.0 in /Users/temporaryadmin/PycharmProjects/pythonProject/quickcommerce/lib/python3.8/site-packages (from jsonschema->altair>=3.2.0->streamlit) (5.4.0)\n",
      "Requirement already satisfied: pyrsistent!=0.17.0,!=0.17.1,!=0.17.2,>=0.14.0 in /Users/temporaryadmin/PycharmProjects/pythonProject/quickcommerce/lib/python3.8/site-packages (from jsonschema->altair>=3.2.0->streamlit) (0.18.0)\n",
      "Requirement already satisfied: zipp>=3.1.0 in /Users/temporaryadmin/PycharmProjects/pythonProject/quickcommerce/lib/python3.8/site-packages (from importlib-resources>=1.4.0->jsonschema->altair>=3.2.0->streamlit) (3.6.0)\n",
      "Requirement already satisfied: ptyprocess>=0.5 in /Users/temporaryadmin/PycharmProjects/pythonProject/quickcommerce/lib/python3.8/site-packages (from pexpect>4.3->ipython>=7.23.1->ipykernel>=5.1.2->pydeck>=0.1.dev5->streamlit) (0.7.0)\n",
      "Requirement already satisfied: wcwidth in /Users/temporaryadmin/PycharmProjects/pythonProject/quickcommerce/lib/python3.8/site-packages (from prompt-toolkit!=3.0.0,!=3.0.1,<3.1.0,>=2.0.0->ipython>=7.23.1->ipykernel>=5.1.2->pydeck>=0.1.dev5->streamlit) (0.2.5)\n",
      "Requirement already satisfied: six>=1.5 in /Users/temporaryadmin/PycharmProjects/pythonProject/quickcommerce/lib/python3.8/site-packages (from python-dateutil->streamlit) (1.16.0)\n",
      "Requirement already satisfied: notebook>=4.4.1 in /Users/temporaryadmin/PycharmProjects/pythonProject/quickcommerce/lib/python3.8/site-packages (from widgetsnbextension~=3.5.0->ipywidgets>=7.0.0->pydeck>=0.1.dev5->streamlit) (6.4.6)\n",
      "Requirement already satisfied: terminado>=0.8.3 in /Users/temporaryadmin/PycharmProjects/pythonProject/quickcommerce/lib/python3.8/site-packages (from notebook>=4.4.1->widgetsnbextension~=3.5.0->ipywidgets>=7.0.0->pydeck>=0.1.dev5->streamlit) (0.12.1)\n",
      "Requirement already satisfied: argon2-cffi in /Users/temporaryadmin/PycharmProjects/pythonProject/quickcommerce/lib/python3.8/site-packages (from notebook>=4.4.1->widgetsnbextension~=3.5.0->ipywidgets>=7.0.0->pydeck>=0.1.dev5->streamlit) (21.1.0)\n",
      "Requirement already satisfied: Send2Trash>=1.8.0 in /Users/temporaryadmin/PycharmProjects/pythonProject/quickcommerce/lib/python3.8/site-packages (from notebook>=4.4.1->widgetsnbextension~=3.5.0->ipywidgets>=7.0.0->pydeck>=0.1.dev5->streamlit) (1.8.0)\n",
      "Requirement already satisfied: nbconvert in /Users/temporaryadmin/PycharmProjects/pythonProject/quickcommerce/lib/python3.8/site-packages (from notebook>=4.4.1->widgetsnbextension~=3.5.0->ipywidgets>=7.0.0->pydeck>=0.1.dev5->streamlit) (6.3.0)\n",
      "Requirement already satisfied: prometheus-client in /Users/temporaryadmin/PycharmProjects/pythonProject/quickcommerce/lib/python3.8/site-packages (from notebook>=4.4.1->widgetsnbextension~=3.5.0->ipywidgets>=7.0.0->pydeck>=0.1.dev5->streamlit) (0.12.0)\n",
      "Requirement already satisfied: cffi>=1.0.0 in /Users/temporaryadmin/PycharmProjects/pythonProject/quickcommerce/lib/python3.8/site-packages (from argon2-cffi->notebook>=4.4.1->widgetsnbextension~=3.5.0->ipywidgets>=7.0.0->pydeck>=0.1.dev5->streamlit) (1.15.0)\n",
      "Requirement already satisfied: pycparser in /Users/temporaryadmin/PycharmProjects/pythonProject/quickcommerce/lib/python3.8/site-packages (from cffi>=1.0.0->argon2-cffi->notebook>=4.4.1->widgetsnbextension~=3.5.0->ipywidgets>=7.0.0->pydeck>=0.1.dev5->streamlit) (2.21)\n",
      "Requirement already satisfied: testpath in /Users/temporaryadmin/PycharmProjects/pythonProject/quickcommerce/lib/python3.8/site-packages (from nbconvert->notebook>=4.4.1->widgetsnbextension~=3.5.0->ipywidgets>=7.0.0->pydeck>=0.1.dev5->streamlit) (0.5.0)\n",
      "Requirement already satisfied: jupyterlab-pygments in /Users/temporaryadmin/PycharmProjects/pythonProject/quickcommerce/lib/python3.8/site-packages (from nbconvert->notebook>=4.4.1->widgetsnbextension~=3.5.0->ipywidgets>=7.0.0->pydeck>=0.1.dev5->streamlit) (0.1.2)\n",
      "Requirement already satisfied: mistune<2,>=0.8.1 in /Users/temporaryadmin/PycharmProjects/pythonProject/quickcommerce/lib/python3.8/site-packages (from nbconvert->notebook>=4.4.1->widgetsnbextension~=3.5.0->ipywidgets>=7.0.0->pydeck>=0.1.dev5->streamlit) (0.8.4)\n",
      "Requirement already satisfied: defusedxml in /Users/temporaryadmin/PycharmProjects/pythonProject/quickcommerce/lib/python3.8/site-packages (from nbconvert->notebook>=4.4.1->widgetsnbextension~=3.5.0->ipywidgets>=7.0.0->pydeck>=0.1.dev5->streamlit) (0.7.1)\n",
      "Requirement already satisfied: pandocfilters>=1.4.1 in /Users/temporaryadmin/PycharmProjects/pythonProject/quickcommerce/lib/python3.8/site-packages (from nbconvert->notebook>=4.4.1->widgetsnbextension~=3.5.0->ipywidgets>=7.0.0->pydeck>=0.1.dev5->streamlit) (1.5.0)\n",
      "Requirement already satisfied: bleach in /Users/temporaryadmin/PycharmProjects/pythonProject/quickcommerce/lib/python3.8/site-packages (from nbconvert->notebook>=4.4.1->widgetsnbextension~=3.5.0->ipywidgets>=7.0.0->pydeck>=0.1.dev5->streamlit) (4.1.0)\n",
      "Requirement already satisfied: nbclient<0.6.0,>=0.5.0 in /Users/temporaryadmin/PycharmProjects/pythonProject/quickcommerce/lib/python3.8/site-packages (from nbconvert->notebook>=4.4.1->widgetsnbextension~=3.5.0->ipywidgets>=7.0.0->pydeck>=0.1.dev5->streamlit) (0.5.9)\n",
      "Requirement already satisfied: webencodings in /Users/temporaryadmin/PycharmProjects/pythonProject/quickcommerce/lib/python3.8/site-packages (from bleach->nbconvert->notebook>=4.4.1->widgetsnbextension~=3.5.0->ipywidgets>=7.0.0->pydeck>=0.1.dev5->streamlit) (0.5.1)\n",
      "Requirement already satisfied: pyparsing!=3.0.5,>=2.0.2 in /Users/temporaryadmin/PycharmProjects/pythonProject/quickcommerce/lib/python3.8/site-packages (from packaging->streamlit) (3.0.6)\n",
      "Requirement already satisfied: idna<4,>=2.5 in /Users/temporaryadmin/PycharmProjects/pythonProject/quickcommerce/lib/python3.8/site-packages (from requests->streamlit) (3.3)\n",
      "Requirement already satisfied: charset-normalizer~=2.0.0 in /Users/temporaryadmin/PycharmProjects/pythonProject/quickcommerce/lib/python3.8/site-packages (from requests->streamlit) (2.0.8)\n",
      "Requirement already satisfied: certifi>=2017.4.17 in /Users/temporaryadmin/PycharmProjects/pythonProject/quickcommerce/lib/python3.8/site-packages (from requests->streamlit) (2021.10.8)\n",
      "Requirement already satisfied: urllib3<1.27,>=1.21.1 in /Users/temporaryadmin/PycharmProjects/pythonProject/quickcommerce/lib/python3.8/site-packages (from requests->streamlit) (1.26.7)\n",
      "Collecting backports.zoneinfo\n",
      "  Downloading backports.zoneinfo-0.2.1-cp38-cp38-macosx_10_14_x86_64.whl (35 kB)\n"
     ]
    },
    {
     "name": "stdout",
     "output_type": "stream",
     "text": [
      "Collecting pytz-deprecation-shim\n",
      "  Downloading pytz_deprecation_shim-0.1.0.post0-py2.py3-none-any.whl (15 kB)\n",
      "Collecting tzdata\n",
      "  Downloading tzdata-2021.5-py2.py3-none-any.whl (339 kB)\n",
      "\u001b[K     |████████████████████████████████| 339 kB 6.0 MB/s eta 0:00:01\n",
      "\u001b[?25hBuilding wheels for collected packages: pympler, blinker\n",
      "  Building wheel for pympler (setup.py) ... \u001b[?25ldone\n",
      "\u001b[?25h  Created wheel for pympler: filename=Pympler-0.9-py3-none-any.whl size=164823 sha256=78c805be0b3abcb366ad755202acbc8fb3cfd279d2ef9c876228e6290fa7bf22\n",
      "  Stored in directory: /Users/temporaryadmin/Library/Caches/pip/wheels/24/6f/0b/da9f81234859a8741aaea3afcc6ae2daf0efb67e7ff2d3686c\n",
      "  Building wheel for blinker (setup.py) ... \u001b[?25ldone\n",
      "\u001b[?25h  Created wheel for blinker: filename=blinker-1.4-py3-none-any.whl size=13479 sha256=0e79d429a1c9ba307e24e1ee6328e3982bd44d5b6cc66ce7a2cad395f36d4f8e\n",
      "  Stored in directory: /Users/temporaryadmin/Library/Caches/pip/wheels/b7/a5/68/fe632054a5eadd531c7a49d740c50eb6adfbeca822b4eab8d4\n",
      "Successfully built pympler blinker\n",
      "Installing collected packages: tzdata, smmap, numpy, backports.zoneinfo, toolz, pytz-deprecation-shim, pandas, gitdb, validators, tzlocal, pympler, pydeck, pyarrow, protobuf, pillow, gitpython, click, cachetools, blinker, base58, astor, altair, streamlit\n",
      "  Attempting uninstall: click\n",
      "    Found existing installation: click 8.0.3\n",
      "    Uninstalling click-8.0.3:\n",
      "      Successfully uninstalled click-8.0.3\n",
      "Successfully installed altair-4.1.0 astor-0.8.1 backports.zoneinfo-0.2.1 base58-2.1.1 blinker-1.4 cachetools-4.2.4 click-7.1.2 gitdb-4.0.9 gitpython-3.1.24 numpy-1.21.4 pandas-1.3.4 pillow-8.4.0 protobuf-3.19.1 pyarrow-6.0.1 pydeck-0.7.1 pympler-0.9 pytz-deprecation-shim-0.1.0.post0 smmap-5.0.0 streamlit-1.2.0 toolz-0.11.2 tzdata-2021.5 tzlocal-4.1 validators-0.18.2\n",
      "\u001b[33mWARNING: You are using pip version 21.1.2; however, version 21.3.1 is available.\n",
      "You should consider upgrading via the '/Users/temporaryadmin/PycharmProjects/pythonProject/quickcommerce/bin/python -m pip install --upgrade pip' command.\u001b[0m\n"
     ]
    }
   ],
   "source": [
    "!pip install streamlit"
   ]
  },
  {
   "cell_type": "code",
   "execution_count": 4,
   "id": "9d8a56cc",
   "metadata": {},
   "outputs": [
    {
     "name": "stdout",
     "output_type": "stream",
     "text": [
      "\n",
      "  👋 \u001b[1mWelcome to Streamlit!\u001b[0m\n",
      "\n",
      "  If you're one of our development partners or you're interested in getting\n",
      "  personal technical support or Streamlit updates, please enter your email\n",
      "  address below. Otherwise, you may leave the field blank.\n",
      "\n",
      "  \u001b[34mEmail: \u001b[0m^C\n",
      "2021-11-30 10:38:31.481 \n"
     ]
    }
   ],
   "source": [
    "!streamlit hello"
   ]
  },
  {
   "cell_type": "code",
   "execution_count": 2,
   "id": "6d494640",
   "metadata": {},
   "outputs": [
    {
     "ename": "ContextualVersionConflict",
     "evalue": "(click 8.0.3 (/Users/temporaryadmin/PycharmProjects/pythonProject/quickcommerce/lib/python3.8/site-packages), Requirement.parse('click<8.0,>=7.0'), {'streamlit'})",
     "output_type": "error",
     "traceback": [
      "\u001b[0;31m---------------------------------------------------------------------------\u001b[0m",
      "\u001b[0;31mContextualVersionConflict\u001b[0m                 Traceback (most recent call last)",
      "\u001b[0;32m/var/folders/ld/gsw71dq965756wzyy68jvppc0000gq/T/ipykernel_56271/2741196273.py\u001b[0m in \u001b[0;36m<module>\u001b[0;34m\u001b[0m\n\u001b[0;32m----> 1\u001b[0;31m \u001b[0;32mimport\u001b[0m \u001b[0mstreamlit\u001b[0m \u001b[0;32mas\u001b[0m \u001b[0mst\u001b[0m\u001b[0;34m\u001b[0m\u001b[0;34m\u001b[0m\u001b[0m\n\u001b[0m\u001b[1;32m      2\u001b[0m \u001b[0;32mimport\u001b[0m \u001b[0mpandas\u001b[0m \u001b[0;32mas\u001b[0m \u001b[0mpd\u001b[0m\u001b[0;34m\u001b[0m\u001b[0;34m\u001b[0m\u001b[0m\n",
      "\u001b[0;32m~/PycharmProjects/pythonProject/quickcommerce/lib/python3.8/site-packages/streamlit/__init__.py\u001b[0m in \u001b[0;36m<module>\u001b[0;34m\u001b[0m\n\u001b[1;32m     58\u001b[0m \u001b[0;31m# This used to be pkg_resources.require('streamlit') but it would cause\u001b[0m\u001b[0;34m\u001b[0m\u001b[0;34m\u001b[0m\u001b[0;34m\u001b[0m\u001b[0m\n\u001b[1;32m     59\u001b[0m \u001b[0;31m# pex files to fail. See #394 for more details.\u001b[0m\u001b[0;34m\u001b[0m\u001b[0;34m\u001b[0m\u001b[0;34m\u001b[0m\u001b[0m\n\u001b[0;32m---> 60\u001b[0;31m \u001b[0m__version__\u001b[0m \u001b[0;34m=\u001b[0m \u001b[0m_pkg_resources\u001b[0m\u001b[0;34m.\u001b[0m\u001b[0mget_distribution\u001b[0m\u001b[0;34m(\u001b[0m\u001b[0;34m\"streamlit\"\u001b[0m\u001b[0;34m)\u001b[0m\u001b[0;34m.\u001b[0m\u001b[0mversion\u001b[0m\u001b[0;34m\u001b[0m\u001b[0;34m\u001b[0m\u001b[0m\n\u001b[0m\u001b[1;32m     61\u001b[0m \u001b[0;34m\u001b[0m\u001b[0m\n\u001b[1;32m     62\u001b[0m \u001b[0;32mimport\u001b[0m \u001b[0mcontextlib\u001b[0m \u001b[0;32mas\u001b[0m \u001b[0m_contextlib\u001b[0m\u001b[0;34m\u001b[0m\u001b[0;34m\u001b[0m\u001b[0m\n",
      "\u001b[0;32m~/PycharmProjects/pythonProject/quickcommerce/lib/python3.8/site-packages/pkg_resources/__init__.py\u001b[0m in \u001b[0;36mget_distribution\u001b[0;34m(dist)\u001b[0m\n\u001b[1;32m    464\u001b[0m         \u001b[0mdist\u001b[0m \u001b[0;34m=\u001b[0m \u001b[0mRequirement\u001b[0m\u001b[0;34m.\u001b[0m\u001b[0mparse\u001b[0m\u001b[0;34m(\u001b[0m\u001b[0mdist\u001b[0m\u001b[0;34m)\u001b[0m\u001b[0;34m\u001b[0m\u001b[0;34m\u001b[0m\u001b[0m\n\u001b[1;32m    465\u001b[0m     \u001b[0;32mif\u001b[0m \u001b[0misinstance\u001b[0m\u001b[0;34m(\u001b[0m\u001b[0mdist\u001b[0m\u001b[0;34m,\u001b[0m \u001b[0mRequirement\u001b[0m\u001b[0;34m)\u001b[0m\u001b[0;34m:\u001b[0m\u001b[0;34m\u001b[0m\u001b[0;34m\u001b[0m\u001b[0m\n\u001b[0;32m--> 466\u001b[0;31m         \u001b[0mdist\u001b[0m \u001b[0;34m=\u001b[0m \u001b[0mget_provider\u001b[0m\u001b[0;34m(\u001b[0m\u001b[0mdist\u001b[0m\u001b[0;34m)\u001b[0m\u001b[0;34m\u001b[0m\u001b[0;34m\u001b[0m\u001b[0m\n\u001b[0m\u001b[1;32m    467\u001b[0m     \u001b[0;32mif\u001b[0m \u001b[0;32mnot\u001b[0m \u001b[0misinstance\u001b[0m\u001b[0;34m(\u001b[0m\u001b[0mdist\u001b[0m\u001b[0;34m,\u001b[0m \u001b[0mDistribution\u001b[0m\u001b[0;34m)\u001b[0m\u001b[0;34m:\u001b[0m\u001b[0;34m\u001b[0m\u001b[0;34m\u001b[0m\u001b[0m\n\u001b[1;32m    468\u001b[0m         \u001b[0;32mraise\u001b[0m \u001b[0mTypeError\u001b[0m\u001b[0;34m(\u001b[0m\u001b[0;34m\"Expected string, Requirement, or Distribution\"\u001b[0m\u001b[0;34m,\u001b[0m \u001b[0mdist\u001b[0m\u001b[0;34m)\u001b[0m\u001b[0;34m\u001b[0m\u001b[0;34m\u001b[0m\u001b[0m\n",
      "\u001b[0;32m~/PycharmProjects/pythonProject/quickcommerce/lib/python3.8/site-packages/pkg_resources/__init__.py\u001b[0m in \u001b[0;36mget_provider\u001b[0;34m(moduleOrReq)\u001b[0m\n\u001b[1;32m    340\u001b[0m     \u001b[0;34m\"\"\"Return an IResourceProvider for the named module or requirement\"\"\"\u001b[0m\u001b[0;34m\u001b[0m\u001b[0;34m\u001b[0m\u001b[0m\n\u001b[1;32m    341\u001b[0m     \u001b[0;32mif\u001b[0m \u001b[0misinstance\u001b[0m\u001b[0;34m(\u001b[0m\u001b[0mmoduleOrReq\u001b[0m\u001b[0;34m,\u001b[0m \u001b[0mRequirement\u001b[0m\u001b[0;34m)\u001b[0m\u001b[0;34m:\u001b[0m\u001b[0;34m\u001b[0m\u001b[0;34m\u001b[0m\u001b[0m\n\u001b[0;32m--> 342\u001b[0;31m         \u001b[0;32mreturn\u001b[0m \u001b[0mworking_set\u001b[0m\u001b[0;34m.\u001b[0m\u001b[0mfind\u001b[0m\u001b[0;34m(\u001b[0m\u001b[0mmoduleOrReq\u001b[0m\u001b[0;34m)\u001b[0m \u001b[0;32mor\u001b[0m \u001b[0mrequire\u001b[0m\u001b[0;34m(\u001b[0m\u001b[0mstr\u001b[0m\u001b[0;34m(\u001b[0m\u001b[0mmoduleOrReq\u001b[0m\u001b[0;34m)\u001b[0m\u001b[0;34m)\u001b[0m\u001b[0;34m[\u001b[0m\u001b[0;36m0\u001b[0m\u001b[0;34m]\u001b[0m\u001b[0;34m\u001b[0m\u001b[0;34m\u001b[0m\u001b[0m\n\u001b[0m\u001b[1;32m    343\u001b[0m     \u001b[0;32mtry\u001b[0m\u001b[0;34m:\u001b[0m\u001b[0;34m\u001b[0m\u001b[0;34m\u001b[0m\u001b[0m\n\u001b[1;32m    344\u001b[0m         \u001b[0mmodule\u001b[0m \u001b[0;34m=\u001b[0m \u001b[0msys\u001b[0m\u001b[0;34m.\u001b[0m\u001b[0mmodules\u001b[0m\u001b[0;34m[\u001b[0m\u001b[0mmoduleOrReq\u001b[0m\u001b[0;34m]\u001b[0m\u001b[0;34m\u001b[0m\u001b[0;34m\u001b[0m\u001b[0m\n",
      "\u001b[0;32m~/PycharmProjects/pythonProject/quickcommerce/lib/python3.8/site-packages/pkg_resources/__init__.py\u001b[0m in \u001b[0;36mrequire\u001b[0;34m(self, *requirements)\u001b[0m\n\u001b[1;32m    884\u001b[0m         \u001b[0mincluded\u001b[0m\u001b[0;34m,\u001b[0m \u001b[0meven\u001b[0m \u001b[0;32mif\u001b[0m \u001b[0mthey\u001b[0m \u001b[0mwere\u001b[0m \u001b[0malready\u001b[0m \u001b[0mactivated\u001b[0m \u001b[0;32min\u001b[0m \u001b[0mthis\u001b[0m \u001b[0mworking\u001b[0m \u001b[0mset\u001b[0m\u001b[0;34m.\u001b[0m\u001b[0;34m\u001b[0m\u001b[0;34m\u001b[0m\u001b[0m\n\u001b[1;32m    885\u001b[0m         \"\"\"\n\u001b[0;32m--> 886\u001b[0;31m         \u001b[0mneeded\u001b[0m \u001b[0;34m=\u001b[0m \u001b[0mself\u001b[0m\u001b[0;34m.\u001b[0m\u001b[0mresolve\u001b[0m\u001b[0;34m(\u001b[0m\u001b[0mparse_requirements\u001b[0m\u001b[0;34m(\u001b[0m\u001b[0mrequirements\u001b[0m\u001b[0;34m)\u001b[0m\u001b[0;34m)\u001b[0m\u001b[0;34m\u001b[0m\u001b[0;34m\u001b[0m\u001b[0m\n\u001b[0m\u001b[1;32m    887\u001b[0m \u001b[0;34m\u001b[0m\u001b[0m\n\u001b[1;32m    888\u001b[0m         \u001b[0;32mfor\u001b[0m \u001b[0mdist\u001b[0m \u001b[0;32min\u001b[0m \u001b[0mneeded\u001b[0m\u001b[0;34m:\u001b[0m\u001b[0;34m\u001b[0m\u001b[0;34m\u001b[0m\u001b[0m\n",
      "\u001b[0;32m~/PycharmProjects/pythonProject/quickcommerce/lib/python3.8/site-packages/pkg_resources/__init__.py\u001b[0m in \u001b[0;36mresolve\u001b[0;34m(self, requirements, env, installer, replace_conflicting, extras)\u001b[0m\n\u001b[1;32m    775\u001b[0m                 \u001b[0;31m# Oops, the \"best\" so far conflicts with a dependency\u001b[0m\u001b[0;34m\u001b[0m\u001b[0;34m\u001b[0m\u001b[0;34m\u001b[0m\u001b[0m\n\u001b[1;32m    776\u001b[0m                 \u001b[0mdependent_req\u001b[0m \u001b[0;34m=\u001b[0m \u001b[0mrequired_by\u001b[0m\u001b[0;34m[\u001b[0m\u001b[0mreq\u001b[0m\u001b[0;34m]\u001b[0m\u001b[0;34m\u001b[0m\u001b[0;34m\u001b[0m\u001b[0m\n\u001b[0;32m--> 777\u001b[0;31m                 \u001b[0;32mraise\u001b[0m \u001b[0mVersionConflict\u001b[0m\u001b[0;34m(\u001b[0m\u001b[0mdist\u001b[0m\u001b[0;34m,\u001b[0m \u001b[0mreq\u001b[0m\u001b[0;34m)\u001b[0m\u001b[0;34m.\u001b[0m\u001b[0mwith_context\u001b[0m\u001b[0;34m(\u001b[0m\u001b[0mdependent_req\u001b[0m\u001b[0;34m)\u001b[0m\u001b[0;34m\u001b[0m\u001b[0;34m\u001b[0m\u001b[0m\n\u001b[0m\u001b[1;32m    778\u001b[0m \u001b[0;34m\u001b[0m\u001b[0m\n\u001b[1;32m    779\u001b[0m             \u001b[0;31m# push the new requirements onto the stack\u001b[0m\u001b[0;34m\u001b[0m\u001b[0;34m\u001b[0m\u001b[0;34m\u001b[0m\u001b[0m\n",
      "\u001b[0;31mContextualVersionConflict\u001b[0m: (click 8.0.3 (/Users/temporaryadmin/PycharmProjects/pythonProject/quickcommerce/lib/python3.8/site-packages), Requirement.parse('click<8.0,>=7.0'), {'streamlit'})"
     ]
    }
   ],
   "source": [
    "import streamlit as st\n",
    "import pandas as pd"
   ]
  },
  {
   "cell_type": "code",
   "execution_count": null,
   "id": "bd3dafa1",
   "metadata": {},
   "outputs": [],
   "source": [
    "st.wr"
   ]
  }
 ],
 "metadata": {
  "kernelspec": {
   "display_name": "Python 3 (ipykernel)",
   "language": "python",
   "name": "python3"
  },
  "language_info": {
   "codemirror_mode": {
    "name": "ipython",
    "version": 3
   },
   "file_extension": ".py",
   "mimetype": "text/x-python",
   "name": "python",
   "nbconvert_exporter": "python",
   "pygments_lexer": "ipython3",
   "version": "3.8.2"
  }
 },
 "nbformat": 4,
 "nbformat_minor": 5
}
