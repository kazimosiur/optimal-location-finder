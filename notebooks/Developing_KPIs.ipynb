{
  "nbformat": 4,
  "nbformat_minor": 0,
  "metadata": {
    "colab": {
      "name": "Developing_eval_metrics.ipynb",
      "provenance": [],
      "collapsed_sections": []
    },
    "kernelspec": {
      "display_name": "Python 3",
      "name": "python3"
    },
    "language_info": {
      "name": "python"
    }
  },
  "cells": [
    {
      "cell_type": "code",
      "metadata": {
        "colab": {
          "base_uri": "https://localhost:8080/"
        },
        "id": "3zCiEdLino-r",
        "outputId": "526fb899-7d79-41bd-b806-6fbe3d47daea"
      },
      "source": [
        "import pandas as pd\n",
        "import seaborn as sns\n",
        "\n",
        "from google.cloud import bigquery\n",
        "from google.colab import auth\n",
        "auth.authenticate_user()\n",
        "print('Authenticated')\n",
        "\n",
        "import matplotlib.pyplot as plt\n",
        "import seaborn as sns\n",
        "from itertools import chain\n",
        "sns.set(\n",
        "    {\n",
        "      'figure.figsize' : (15,8)\n",
        "        }\n",
        "    )\n",
        "\n",
        "\n",
        "from sklearn.cluster import KMeans\n",
        "from sklearn.cluster import KMeans\n",
        "from sklearn.metrics import silhouette_score,davies_bouldin_score,calinski_harabasz_score\n",
        "from sklearn.preprocessing import MinMaxScaler\n",
        "from scipy.spatial.distance import cdist\n",
        "\n",
        "import numpy as np\n",
        "\n",
        "PROJECT_ID='dh-darkstores-live'\n",
        "\n",
        "def query_to_df(query):\n",
        "  df = pd.read_gbq(query, project_id=PROJECT_ID, dialect='standard')\n",
        "  return df "
      ],
      "execution_count": null,
      "outputs": [
        {
          "output_type": "stream",
          "name": "stdout",
          "text": [
            "Authenticated\n"
          ]
        }
      ]
    },
    {
      "cell_type": "code",
      "metadata": {
        "colab": {
          "base_uri": "https://localhost:8080/"
        },
        "id": "SGPpsKebnuQa",
        "outputId": "6de6fe18-df21-4fb6-8323-7954bffba317"
      },
      "source": [
        "from google.colab import drive\n",
        "drive.mount('/content/drive')"
      ],
      "execution_count": null,
      "outputs": [
        {
          "output_type": "stream",
          "name": "stdout",
          "text": [
            "Mounted at /content/drive\n"
          ]
        }
      ]
    },
    {
      "cell_type": "code",
      "metadata": {
        "id": "xb22V2DBotDv"
      },
      "source": [
        "def get_km(k,x,y):\n",
        "    kmeans = KMeans(n_clusters=k,random_state = 0 , max_iter=10)\n",
        "    wt_kmeansclus = kmeans.fit(x, sample_weight = y)\n",
        "    return wt_kmeansclus\n",
        "\n",
        "def get_elbow_score(wt_kmeansclus,X):\n",
        "\n",
        "    distortions = []\n",
        "    inertias = []\n",
        "\n",
        "    distortions.append(sum(np.min(cdist(X, wt_kmeansclus.cluster_centers_,\n",
        "                                        'euclidean'), axis=1)) / X.shape[0])\n",
        "    inertias.append(wt_kmeansclus.inertia_)\n",
        "\n",
        "    mapping1 = sum(np.min(cdist(X, wt_kmeansclus.cluster_centers_,\n",
        "                                    'euclidean'), axis=1)) / X.shape[0]\n",
        "    mapping2 = wt_kmeansclus.inertia_\n",
        "\n",
        "    return mapping1,mapping2\n",
        "\n",
        "def get_cluster_centres(wt_kmeansclus):\n",
        "    centers = wt_kmeansclus.cluster_centers_\n",
        "    return centers\n",
        "\n",
        "def evaluate_locations(model,warehouses,metric):\n",
        "\n",
        "  center = pd.DataFrame(\n",
        "                         get_cluster_centres(model)\n",
        "                        )\n",
        "  eval_locations = pd.concat([warehouses,center],axis=1)\n",
        "  eval_locations.rename(\n",
        "      columns = {\n",
        "          'latitude':'actual_lat',\n",
        "          'longitude' : 'actual_long',\n",
        "          0 : 'pred_lat',\n",
        "          1 : 'pred_long'\n",
        "      },\n",
        "      inplace=True\n",
        "  )\n",
        "  # handling locations for greater than or lesser than actual locations\n",
        "  # eval_locations.fillna(value = 0,inplace=True)\n",
        "\n",
        "  eval_locations[f'off by Distance({metric[0]})'] = get_eucledian_distance(eval_locations,metric[0])\n",
        "  eval_locations[f'off by Time({metric[1]})'] = get_time(eval_locations,f'off by Distance({metric[0]})',metric[1])\n",
        "  return eval_locations\n",
        "\n",
        "def get_score(k, X, y):\n",
        "    km = get_km(k, X,y)\n",
        "    y_pred = km.predict(X,sample_weight = y)\n",
        "\n",
        "    sil = silhouette_score(X, y_pred)\n",
        "    mapping1,mapping2 = get_elbow_score(km,X)\n",
        "    db = davies_bouldin_score(X, y_pred)\n",
        "\n",
        "    cal = calinski_harabasz_score(X, y_pred)\n",
        "    return k, sil, db,cal,mapping1,mapping2,km\n",
        "\n",
        "def get_time(pred_locations,column_name,metric='mins'):\n",
        "\n",
        "  LINEAR_FACTOR = 0.028437168446962473\n",
        "  SQRT_FACTOR = 7.913045828747439\n",
        "  CONVERT_TO_MINUTES = 60\n",
        "\n",
        "  # pred_locations = get_eucledian_distance(pred_locations)\n",
        "\n",
        "  meters_ = pred_locations[column_name]*1000\n",
        "\n",
        "  driving_time_seconds = (LINEAR_FACTOR  * meters_) + (SQRT_FACTOR*(meters_**0.5))\n",
        "  if metric == 'mins':\n",
        "    return driving_time_seconds/CONVERT_TO_MINUTES\n",
        "  elif metric == 'seconds':\n",
        "    return driving_time_seconds\n",
        "\n",
        "def get_eucledian_distance(df,metric='km'):\n",
        "\n",
        "  from_long = np.array(df['actual_long'].tolist())\n",
        "  from_lat = np.array(df['actual_lat'].tolist())\n",
        "  to_long = np.array(df['pred_long'].tolist())\n",
        "  to_lat = np.array(df['pred_lat'].tolist())\n",
        "  D = 111.319 \n",
        "  if metric == 'km':\n",
        "    return   D* np.sqrt(\n",
        "                            (from_long - to_long) ** 2  +  (from_lat - to_lat)**2\n",
        "                       )\n",
        "  elif metric == 'm':\n",
        "    return   D* np.sqrt(\n",
        "                            (from_long - to_long) ** 2  +  (from_lat - to_lat)**2\n",
        "                       )*1000\n",
        "\n",
        "def get_info_within_time(time_limit,cross_join_df,metric):\n",
        "\n",
        "    within_T_ACTUAL = cross_join_df[cross_join_df[f'off by time({metric[1]}) ACTUAL']<=time_limit]\n",
        "    within_T_PRED = cross_join_df[cross_join_df[f'off by time({metric[1]}) PRED']<=time_limit]\n",
        "\n",
        "    return within_T_ACTUAL,within_T_PRED\n",
        "\n",
        "def get_business_metrics(within_T_ACTUAL,within_T_PRED):\n",
        "\n",
        "  percentage_difference = (within_T_PRED[['num_customers','num_orders','gmv']].sum()/within_T_ACTUAL[['num_customers','num_orders','gmv']].sum() - 1)*100\n",
        "  absolute_difference = within_T_PRED[['num_customers','num_orders','gmv']].sum() - within_T_ACTUAL[['num_customers','num_orders','gmv']].sum()\n",
        "\n",
        "  return {\n",
        "      'dataframe' : {\n",
        "             'actual_df' : within_T_ACTUAL,\n",
        "             'pred_df'   : within_T_PRED,\n",
        "      },\n",
        "      '% difference' : percentage_difference,\n",
        "      'pred - actual difference': absolute_difference\n",
        "  }\n",
        "\n",
        "def calculate_metrics(df,eval_locations,metric):\n",
        "\n",
        "  # eval_locations[f'off by ({metric[1]})'] = get_time(eval_locations)\n",
        "\n",
        "  # defining keys for cross join\n",
        "  df['key'] = 1\n",
        "  eval_locations['key']=1 \n",
        "\n",
        "  #cross join \n",
        "  cross_join_df = pd.merge(\n",
        "    eval_locations,df,on='key').drop(\"key\",1)[['actual_lat','actual_long','pred_lat','pred_long','lat','long','num_orders','num_items','num_customers','gmv']].copy()\n",
        "\n",
        "  if cross_join_df.shape[0] == df.shape[0] * eval_locations.shape[0]:\n",
        "\n",
        "    from_long = np.array(cross_join_df['actual_long'].tolist())\n",
        "    from_lat = np.array(cross_join_df['actual_lat'].tolist())\n",
        "    to_long = np.array(cross_join_df['long'].tolist())\n",
        "    to_lat = np.array(cross_join_df['lat'].tolist())\n",
        "\n",
        "    ##### calcuting off by Distance/Time ##########\n",
        "\n",
        "    D = 111.319 \n",
        "    cross_join_df[f'off by Distance({metric[0]}) ACTUAL'] = D* np.sqrt(\n",
        "        (from_long - to_long) ** 2  +\n",
        "          (from_lat - to_lat)**2\n",
        "          )\n",
        "\n",
        "    LINEAR_FACTOR = 0.028437168446962473\n",
        "    SQRT_FACTOR = 7.913045828747439\n",
        "\n",
        "    haversine_meters = cross_join_df[f'off by Distance({metric[0]}) ACTUAL']*1000\n",
        "\n",
        "    cross_join_df[f'off by time({metric[1]}) ACTUAL'] = ((LINEAR_FACTOR  * haversine_meters) + (SQRT_FACTOR*(haversine_meters**0.5)))/60\n",
        "\n",
        "\n",
        "    ##############################################\n",
        "    from_long = np.array(cross_join_df['pred_long'].tolist())\n",
        "    from_lat = np.array(cross_join_df['pred_lat'].tolist())\n",
        "    to_long = np.array(cross_join_df['long'].tolist())\n",
        "    to_lat = np.array(cross_join_df['lat'].tolist())\n",
        "    D = 111.319 \n",
        "    cross_join_df[f'off by Distance({metric[0]}) PRED'] = D* np.sqrt(\n",
        "        (from_long - to_long) ** 2  +\n",
        "          (from_lat - to_lat)**2\n",
        "          )\n",
        "\n",
        "    LINEAR_FACTOR = 0.028437168446962473\n",
        "    SQRT_FACTOR = 7.913045828747439\n",
        "\n",
        "    haversine_meters = cross_join_df[f'off by Distance({metric[0]}) PRED']*1000\n",
        "\n",
        "    cross_join_df[f'off by time({metric[1]}) PRED'] = ((LINEAR_FACTOR  * haversine_meters) + (SQRT_FACTOR*(haversine_meters**0.5)))/60\n",
        "\n",
        "\n",
        "\n",
        "\n",
        "    ## categorical labelling\n",
        "\n",
        "    cross_join_df['actual_label'] = cross_join_df[['actual_lat','actual_long']].apply(lambda row: (row.actual_lat,row.actual_long),axis=1)\n",
        "    cross_join_df['lat_long'] = cross_join_df[['lat','long']].apply(lambda row: (\n",
        "                                                                                    np.round(row.lat,6),\n",
        "                                                                                    np.round(row.long,6)\n",
        "                                                                                    # row.lat,\n",
        "                                                                                    # row.long\n",
        "                                                                                 ),\n",
        "                                                                                    axis=1)\n",
        "    cross_join_df['pred_label'] = cross_join_df[['pred_lat','pred_long']].apply(lambda row: (row.pred_lat,row.pred_long),axis=1)\n",
        "\n",
        "    cross_join_df['actual_code'] = cross_join_df['actual_label'].astype('category')\n",
        "    cross_join_df['pred_code'] = cross_join_df['pred_label'].astype('category')\n",
        "    cross_join_df['actual_code'] = cross_join_df['actual_code'].cat.codes\n",
        "    cross_join_df['pred_code'] = cross_join_df['pred_code'].cat.codes\n",
        "\n",
        "    return cross_join_df\n",
        "\n",
        "\n",
        "  else :\n",
        "    return \"Wrong Dimension\"\n",
        "\n",
        "\n",
        "def calculate_metrics_fast(df,eval_locations,metric):\n",
        "\n",
        "  df['key'] = 1\n",
        "  eval_locations['key']=1 \n",
        "\n",
        "  #cross join \n",
        "  cross_join_df = pd.merge(\n",
        "  eval_locations,df,on='key').drop(\"key\",1)[['actual_lat','actual_long','pred_lat','pred_long','lat','long','num_orders','num_items','num_customers','gmv']].copy()\n",
        "\n",
        "  if cross_join_df.shape[0] == df.shape[0] * eval_locations.shape[0]:\n",
        "\n",
        "    from_long = np.array(cross_join_df['actual_long'].tolist())\n",
        "    from_lat = np.array(cross_join_df['actual_lat'].tolist())\n",
        "    to_long = np.array(cross_join_df['long'].tolist())\n",
        "    to_lat = np.array(cross_join_df['lat'].tolist())\n",
        "\n",
        "    ##### calcuting off by Distance/Time ##########\n",
        "\n",
        "    D = 111.319 \n",
        "    cross_join_df[f'off by Distance({metric[0]}) ACTUAL'] = D* np.sqrt(\n",
        "        (from_long - to_long) ** 2  +\n",
        "          (from_lat - to_lat)**2\n",
        "          )\n",
        "\n",
        "    LINEAR_FACTOR = 0.028437168446962473\n",
        "    SQRT_FACTOR = 7.913045828747439\n",
        "\n",
        "    haversine_meters = cross_join_df[f'off by Distance({metric[0]}) ACTUAL']*1000\n",
        "\n",
        "    cross_join_df[f'off by time({metric[1]}) ACTUAL'] = ((LINEAR_FACTOR  * haversine_meters) + (SQRT_FACTOR*(haversine_meters**0.5)))/60\n",
        "\n",
        "\n",
        "    ##############################################\n",
        "    from_long = np.array(cross_join_df['pred_long'].tolist())\n",
        "    from_lat = np.array(cross_join_df['pred_lat'].tolist())\n",
        "    to_long = np.array(cross_join_df['long'].tolist())\n",
        "    to_lat = np.array(cross_join_df['lat'].tolist())\n",
        "    D = 111.319 \n",
        "    cross_join_df[f'off by Distance({metric[0]}) PRED'] = D* np.sqrt(\n",
        "        (from_long - to_long) ** 2  +\n",
        "          (from_lat - to_lat)**2\n",
        "          )\n",
        "\n",
        "    LINEAR_FACTOR = 0.028437168446962473\n",
        "    SQRT_FACTOR = 7.913045828747439\n",
        "\n",
        "    haversine_meters = cross_join_df[f'off by Distance({metric[0]}) PRED']*1000\n",
        "\n",
        "    cross_join_df[f'off by time({metric[1]}) PRED'] = ((LINEAR_FACTOR  * haversine_meters) + (SQRT_FACTOR*(haversine_meters**0.5)))/60\n",
        "\n",
        "    ### categorical labelling\n",
        "\n",
        "\n",
        "    cross_join_df['actual_lat_long'] = cross_join_df['actual_lat'].astype(str) + ',' + cross_join_df['actual_long'].astype(str)\n",
        "    cross_join_df['pred_lat_long'] = cross_join_df['pred_lat'].astype(str) + ',' + cross_join_df['pred_long'].astype(str)\n",
        "    cross_join_df['lat_long'] = np.round(cross_join_df['lat'],6).astype(str) + ',' + np.round(cross_join_df['long'],6).astype(str)\n",
        "\n",
        "\n",
        "    cross_join_df['actual_code'] = cross_join_df['actual_lat_long'].astype('category')\n",
        "    cross_join_df['pred_code'] = cross_join_df['pred_lat_long'].astype('category')\n",
        "    cross_join_df['actual_code'] = cross_join_df['actual_code'].cat.codes\n",
        "    cross_join_df['pred_code'] = cross_join_df['pred_code'].cat.codes\n",
        "    \n",
        "    return cross_join_df\n",
        "\n",
        "  else :\n",
        "    return \"Wrong Dimension\"\n",
        "\n",
        "def get_latlong(locs):\n",
        "  lat= []\n",
        "  long = []\n",
        "  for loc in locs:\n",
        "    latitude,longitude = loc.split(',')\n",
        "    lat.append(np.float(latitude))\n",
        "    long.append(np.float(longitude))\n",
        "  return lat,long\n",
        "\n",
        "#---------------\n",
        "\n",
        "\n",
        "#----\n",
        "\n",
        "\n",
        "def generate_feature_metrics(covered_per_actual_store):\n",
        "\n",
        "  feature_columns = ['filtered_loc','customers_list','orders_list']\n",
        "\n",
        "  covered_per_actual_store['number_of_locations_covered'] = covered_per_actual_store[feature_columns[0]].apply(lambda locs : len(locs))\n",
        "\n",
        "  for feature_column in feature_columns[1:]:\n",
        "\n",
        "    # covered_per_actual_store[f'avg_{feature_column}_coverage'] = covered_per_actual_store[feature_column].apply(lambda locs : np.mean(locs) if not locs else 0)\n",
        "    # covered_per_actual_store[f'median_{feature_column}_coverage'] = covered_per_actual_store[feature_column].apply(lambda locs : np.median(locs) if not locs else 0)\n",
        "    covered_per_actual_store[f'total_{feature_column}_coverage'] = covered_per_actual_store[feature_column].apply(lambda locs : 0 if len(locs)==0  else sum(locs))\n",
        "\n",
        "  # covered_per_actual_store['avg_orders_coverage'] = covered_per_actual_store[feature_columns[2]].apply(lambda locs : np.mean(locs))\n",
        "  # covered_per_actual_store['median_orders_coverage'] = covered_per_actual_store[feature_columns[2]].apply(lambda locs : np.median(locs))\n",
        "  # covered_per_actual_store['total_orders_coverage'] = covered_per_actual_store[feature_columns[2]].apply(lambda locs : sum(locs))\n",
        "\n",
        "  # covered_per_actual_store['avg_gmv_coverage'] = covered_per_actual_store[feature_columns[3]].apply(lambda locs : np.mean(locs))\n",
        "  # covered_per_actual_store['median_gmv_coverage'] = covered_per_actual_store[feature_columns[3]].apply(lambda locs : np.median(locs))\n",
        "  # covered_per_actual_store['total_gmv_coverage'] = covered_per_actual_store[feature_columns[3]].apply(lambda locs : sum(locs))\n",
        "\n",
        "\n",
        "  return covered_per_actual_store\n",
        "\n",
        "def make_coverage_data(business_metrics,status):\n",
        "\n",
        "  covered_per_actual_store = business_metrics['dataframe'][f'{status}_df'].groupby([f'{status}_lat',f'{status}_long',f'{status}_code'])['lat_long'].apply(list).to_frame( \n",
        "                                ).join(\n",
        "                                    \n",
        "                                        business_metrics['dataframe'][f'{status}_df'].groupby([f'{status}_lat',f'{status}_long',f'{status}_code'])['num_orders'].apply(list)\n",
        "                                ).join(\n",
        "                                          \n",
        "                                          business_metrics['dataframe'][f'{status}_df'].groupby([f'{status}_lat',f'{status}_long',f'{status}_code'])['num_customers'].apply(list)\n",
        "                                ).join(\n",
        "                                          \n",
        "                                          business_metrics['dataframe'][f'{status}_df'].groupby([f'{status}_lat',f'{status}_long',f'{status}_code'])['gmv'].apply(list)\n",
        "                                ).reset_index()\n",
        "\n",
        "  covered_per_actual_store['filtered_loc'] = get_filtered_locations(covered_per_actual_store)\n",
        "\n",
        "  # add the changes here \n",
        "\n",
        "  covered_per_actual_store['latlong_list'] = covered_per_actual_store['filtered_loc'].apply(lambda rows: split_list_into_features(rows)[0])\n",
        "  covered_per_actual_store['customers_list'] = covered_per_actual_store['filtered_loc'].apply(lambda rows: split_list_into_features(rows)[1])\n",
        "  covered_per_actual_store['orders_list'] = covered_per_actual_store['filtered_loc'].apply(lambda rows: split_list_into_features(rows)[2])\n",
        "\n",
        "  #\n",
        "  # covered_per_actual_store['number_of_locations_covered'] = covered_per_actual_store['filtered_loc'].apply(lambda locs : len(locs))\n",
        "\n",
        "  covered_per_actual_store['latlong_list'] = covered_per_actual_store['latlong_list'].apply(lambda locs: get_latlong(locs))\n",
        "\n",
        "  return covered_per_actual_store\n",
        "\n",
        "\n",
        "\n",
        "def get_filtered_locations(covered_per_actual_store):\n",
        "  traversed_loc = set()\n",
        "  filtered_loc = []\n",
        "\n",
        "\n",
        "  for num,row in covered_per_actual_store.iterrows():\n",
        "\n",
        "    new_loc = [\n",
        "                (loc,cust,orders) for loc,cust,orders in zip(\n",
        "                    row[f'lat_long'],\n",
        "                    row['num_customers'],\n",
        "                    row['num_orders']\n",
        "                    ) if loc not in traversed_loc\n",
        "              ]\n",
        "    traversed_loc.update(row[f'lat_long'])\n",
        "    filtered_loc.append(new_loc)\n",
        "\n",
        "  return filtered_loc\n",
        "\n",
        "def split_list_into_features(rows):\n",
        "  loc_ ,num_customers,num_orders = [],[],[]\n",
        "  for row in rows:\n",
        "\n",
        "    lat_long,customers,orders = row[0],row[1],row[2]\n",
        "    loc_.append(lat_long)\n",
        "    num_customers.append(customers)\n",
        "    num_orders.append(orders)\n",
        "  return loc_, num_customers, num_orders"
      ],
      "execution_count": null,
      "outputs": []
    },
    {
      "cell_type": "code",
      "metadata": {
        "id": "oB76epF1x6wn"
      },
      "source": [
        "def generate_stats_report(covered_per_actual_store,covered_per_pred_store,metrics,ax):\n",
        "  df_actual = covered_per_actual_store[covered_per_actual_store['number_of_locations_covered']!=0]\n",
        "  df_pred = covered_per_pred_store[covered_per_pred_store['number_of_locations_covered']!=0]\n",
        "  print(\"Overlapping Stores[ACTUAL] with No excess coverage ->\",covered_per_actual_store[covered_per_actual_store['number_of_locations_covered']==0].shape[0])\n",
        "  print(\"Overlapping Stores[PRED] with No excess coverage ->\",covered_per_pred_store[covered_per_pred_store['number_of_locations_covered']==0].shape[0])\n",
        "\n",
        "  for ax,feature in zip(ax.flatten(),metrics):\n",
        "    sns.ecdfplot(df_pred[feature],ax=ax)\n",
        "    sns.ecdfplot(df_actual[feature],ax=ax)\n",
        "    ax.legend(['Pred Stores','Actual Stores'])\n",
        "    \n",
        "  fig,ax = plt.subplots(1,2,figsize=(30,8))\n",
        "  for num,rows in covered_per_actual_store.iterrows():\n",
        "    # if num in [5,6,8]:\n",
        "      sns.scatterplot(\n",
        "          x = rows['latlong_list'][1],\n",
        "          y = rows['latlong_list'][0],\n",
        "          alpha = 0.4,\n",
        "          # c = rows['actual_code'][0],\n",
        "          ax=ax[0]\n",
        "      )\n",
        "      ax[0].text(rows['actual_long'],rows['actual_lat'],num,fontsize=12)\n",
        "\n",
        "\n",
        "  centers_ = covered_per_actual_store[covered_per_actual_store['number_of_locations_covered']!=0][['actual_lat','actual_long','actual_code']]\n",
        "  ax[0].scatter(centers_['actual_long'], centers_['actual_lat'],c='white', s=500, alpha=0.9);\n",
        "\n",
        "  centers_ = covered_per_actual_store[covered_per_actual_store['number_of_locations_covered']==0][['actual_lat','actual_long','actual_code']]\n",
        "  ax[0].scatter(centers_['actual_long'], centers_['actual_lat'],c='cyan', s=500, alpha=0.7);\n",
        "\n",
        "  ax[0].set_title(f'REGIONS COVERED in {time_} minutes [ACTUAL LOCATIONS]',fontsize=14, fontweight='bold')\n",
        "\n",
        "  for num,rows in covered_per_pred_store.iterrows():\n",
        "    # if num in [5,6,8]:\n",
        "      sns.scatterplot(\n",
        "\n",
        "          x = rows['latlong_list'][1],\n",
        "          y = rows['latlong_list'][0],\n",
        "          alpha = 0.4,\n",
        "          # c = rows['actual_code'][0],\n",
        "          ax=ax[1]\n",
        "      )\n",
        "      ax[1].text(rows['pred_long'],rows['pred_lat'],num,fontsize=12)\n",
        "\n",
        "\n",
        "  centers_ = covered_per_pred_store[covered_per_pred_store['number_of_locations_covered']!=0][['pred_lat','pred_long','pred_code']]\n",
        "  ax[1].scatter(centers_['pred_long'], centers_['pred_lat'],c='white', s=500, alpha=0.9);\n",
        "\n",
        "  centers_ = covered_per_pred_store[covered_per_pred_store['number_of_locations_covered']==0][['pred_lat','pred_long','pred_code']]\n",
        "  ax[1].scatter(centers_['pred_long'], centers_['pred_lat'],c='cyan', s=500, alpha=0.7);\n",
        "\n",
        "  ax[1].set_title(f'REGIONS COVERED in {time_} minutes [PRED LOCATIONS]',fontsize=14, fontweight='bold')\n",
        "  return ax"
      ],
      "execution_count": null,
      "outputs": []
    },
    {
      "cell_type": "code",
      "metadata": {
        "id": "wUrL_agZnv4I"
      },
      "source": [
        "cluster_query = \"\"\"\n",
        "\n",
        "    SELECT store_type_l2,\n",
        "    ROUND(delivery_location.latitude, 4) lat,\n",
        "    ROUND(delivery_location.longitude, 4) long,\n",
        "    COUNT(distinct analytical_customer_id) num_customers,\n",
        "    COUNT(1) num_orders,\n",
        "    SUM(i.quantity) num_items,\n",
        "    SUM(value.gmv_local) gmv\n",
        "    FROM `fulfillment-dwh-production.curated_data_shared_central_dwh.orders` o, UNNEST(items) AS i\n",
        "    LEFT JOIN `fulfillment-dwh-production.curated_data_shared_central_dwh.vendors` USING(vendor_id)\n",
        "    WHERE o.global_entity_id = 'FP_SG'\n",
        "    # AND DATE(placed_at) >= CURRENT_DATE() - 120\n",
        "    AND DATE(placed_at) BETWEEN '2021-01-01' AND '2021-02-01'\n",
        "    AND order_status = 'sent'\n",
        "    AND o.is_own_delivery\n",
        "    AND store_type_l2 in ('restaurants')\n",
        "    AND delivery_location.latitude IS NOT NULL\n",
        "    AND delivery_location.longitude IS NOT NULL\n",
        "    GROUP BY 1, 2, 3\n",
        "\n",
        "\"\"\"\n",
        "\n",
        "warehouse_query = \"\"\"\n",
        "\n",
        "    SELECT \n",
        "    # warehouse_name_cleaned\n",
        "    distinct\n",
        "    latitude\n",
        "    , longitude \n",
        "    FROM `fulfillment-dwh-production.cl_dmart.warehouses_unique`\n",
        "    WHERE global_entity_id = 'FP_SG'\n",
        "    AND is_dmart = TRUE \n",
        "    AND warehouse_id IS NOT NULL\n",
        "    AND is_dc = FALSE\n",
        "\n",
        "\"\"\""
      ],
      "execution_count": null,
      "outputs": []
    },
    {
      "cell_type": "code",
      "metadata": {
        "colab": {
          "base_uri": "https://localhost:8080/"
        },
        "id": "X6iQdODBoHib",
        "outputId": "33cf9031-bd55-461f-a1e8-d91ba8f690da"
      },
      "source": [
        "%%time\n",
        "# df = query_to_df(cluster_query)\n",
        "saved_path = 'drive/MyDrive/QCSGE-6/cluster_data_created_only_restaurant_round_3_01_01_2021_01_02_2021_created_23_11_2021.csv'\n",
        "\n",
        "# df.to_csv(saved_path)\n",
        "df=pd.read_csv(saved_path)"
      ],
      "execution_count": null,
      "outputs": [
        {
          "output_type": "stream",
          "name": "stdout",
          "text": [
            "CPU times: user 18.9 ms, sys: 19.6 ms, total: 38.5 ms\n",
            "Wall time: 516 ms\n"
          ]
        }
      ]
    },
    {
      "cell_type": "code",
      "metadata": {
        "id": "_buokhPC8edA"
      },
      "source": [
        "df = df[df['store_type_l2']=='restaurants']"
      ],
      "execution_count": null,
      "outputs": []
    },
    {
      "cell_type": "code",
      "metadata": {
        "colab": {
          "base_uri": "https://localhost:8080/"
        },
        "id": "qoMRVPuiOum_",
        "outputId": "4e03c830-513a-4d93-d457-6fcd28e64071"
      },
      "source": [
        "df.shape"
      ],
      "execution_count": null,
      "outputs": [
        {
          "output_type": "execute_result",
          "data": {
            "text/plain": [
              "(24809, 8)"
            ]
          },
          "metadata": {},
          "execution_count": 8
        }
      ]
    },
    {
      "cell_type": "code",
      "metadata": {
        "id": "yfHefv7loMS_"
      },
      "source": [
        "warehouses = query_to_df(warehouse_query)"
      ],
      "execution_count": null,
      "outputs": []
    },
    {
      "cell_type": "code",
      "metadata": {
        "colab": {
          "base_uri": "https://localhost:8080/",
          "height": 514
        },
        "id": "-isUZU3I5PTd",
        "outputId": "e185f25b-f579-40ba-9782-4a7e01a5d8e0"
      },
      "source": [
        "warehouses.sort_values(by='latitude')"
      ],
      "execution_count": null,
      "outputs": [
        {
          "output_type": "execute_result",
          "data": {
            "text/html": [
              "<div>\n",
              "<style scoped>\n",
              "    .dataframe tbody tr th:only-of-type {\n",
              "        vertical-align: middle;\n",
              "    }\n",
              "\n",
              "    .dataframe tbody tr th {\n",
              "        vertical-align: top;\n",
              "    }\n",
              "\n",
              "    .dataframe thead th {\n",
              "        text-align: right;\n",
              "    }\n",
              "</style>\n",
              "<table border=\"1\" class=\"dataframe\">\n",
              "  <thead>\n",
              "    <tr style=\"text-align: right;\">\n",
              "      <th></th>\n",
              "      <th>latitude</th>\n",
              "      <th>longitude</th>\n",
              "    </tr>\n",
              "  </thead>\n",
              "  <tbody>\n",
              "    <tr>\n",
              "      <th>3</th>\n",
              "      <td>1.285370</td>\n",
              "      <td>103.834724</td>\n",
              "    </tr>\n",
              "    <tr>\n",
              "      <th>6</th>\n",
              "      <td>1.290559</td>\n",
              "      <td>103.814227</td>\n",
              "    </tr>\n",
              "    <tr>\n",
              "      <th>12</th>\n",
              "      <td>1.316149</td>\n",
              "      <td>103.877968</td>\n",
              "    </tr>\n",
              "    <tr>\n",
              "      <th>1</th>\n",
              "      <td>1.322911</td>\n",
              "      <td>103.920874</td>\n",
              "    </tr>\n",
              "    <tr>\n",
              "      <th>0</th>\n",
              "      <td>1.326209</td>\n",
              "      <td>103.853011</td>\n",
              "    </tr>\n",
              "    <tr>\n",
              "      <th>9</th>\n",
              "      <td>1.334231</td>\n",
              "      <td>103.699479</td>\n",
              "    </tr>\n",
              "    <tr>\n",
              "      <th>14</th>\n",
              "      <td>1.343953</td>\n",
              "      <td>103.753363</td>\n",
              "    </tr>\n",
              "    <tr>\n",
              "      <th>10</th>\n",
              "      <td>1.346050</td>\n",
              "      <td>103.712349</td>\n",
              "    </tr>\n",
              "    <tr>\n",
              "      <th>11</th>\n",
              "      <td>1.353862</td>\n",
              "      <td>103.878931</td>\n",
              "    </tr>\n",
              "    <tr>\n",
              "      <th>4</th>\n",
              "      <td>1.360945</td>\n",
              "      <td>103.857244</td>\n",
              "    </tr>\n",
              "    <tr>\n",
              "      <th>7</th>\n",
              "      <td>1.372423</td>\n",
              "      <td>103.933873</td>\n",
              "    </tr>\n",
              "    <tr>\n",
              "      <th>5</th>\n",
              "      <td>1.406025</td>\n",
              "      <td>103.758371</td>\n",
              "    </tr>\n",
              "    <tr>\n",
              "      <th>2</th>\n",
              "      <td>1.420775</td>\n",
              "      <td>103.912230</td>\n",
              "    </tr>\n",
              "    <tr>\n",
              "      <th>13</th>\n",
              "      <td>1.434656</td>\n",
              "      <td>103.802385</td>\n",
              "    </tr>\n",
              "    <tr>\n",
              "      <th>8</th>\n",
              "      <td>1.437959</td>\n",
              "      <td>103.844939</td>\n",
              "    </tr>\n",
              "  </tbody>\n",
              "</table>\n",
              "</div>"
            ],
            "text/plain": [
              "    latitude   longitude\n",
              "3   1.285370  103.834724\n",
              "6   1.290559  103.814227\n",
              "12  1.316149  103.877968\n",
              "1   1.322911  103.920874\n",
              "0   1.326209  103.853011\n",
              "9   1.334231  103.699479\n",
              "14  1.343953  103.753363\n",
              "10  1.346050  103.712349\n",
              "11  1.353862  103.878931\n",
              "4   1.360945  103.857244\n",
              "7   1.372423  103.933873\n",
              "5   1.406025  103.758371\n",
              "2   1.420775  103.912230\n",
              "13  1.434656  103.802385\n",
              "8   1.437959  103.844939"
            ]
          },
          "metadata": {},
          "execution_count": 33
        }
      ]
    },
    {
      "cell_type": "code",
      "metadata": {
        "id": "XUO2VE13oN4K"
      },
      "source": [
        "df = df[\n",
        "        (df['num_customers']>0)\n",
        "]\n",
        "df['gmv'] = df['gmv'].astype(float)"
      ],
      "execution_count": null,
      "outputs": []
    },
    {
      "cell_type": "code",
      "metadata": {
        "id": "nDK2BPfYoVOx"
      },
      "source": [
        "# fig, ax = plt.subplots(figsize=(16,10))\n",
        "# sns.scatterplot('lat', 'long', data=df, hue='store_type_l2')\n",
        "\n",
        "# plt.show()"
      ],
      "execution_count": null,
      "outputs": []
    },
    {
      "cell_type": "code",
      "metadata": {
        "id": "T6NKMIcQfOlG"
      },
      "source": [
        "df['order_density'] = df['num_orders']/df['num_customers']\n",
        "df['item_density'] = df['num_items']/ (df['num_orders'] * df['num_customers'])"
      ],
      "execution_count": null,
      "outputs": []
    },
    {
      "cell_type": "code",
      "metadata": {
        "id": "BsdhxjL_gMfu"
      },
      "source": [
        "# minmax_scaler = MinMaxScaler()"
      ],
      "execution_count": null,
      "outputs": []
    },
    {
      "cell_type": "code",
      "metadata": {
        "id": "4xotR9Dqgh63"
      },
      "source": [
        "# df[['num_orders','num_customers','gmv']] = minmax_scaler.fit_transform(df[['num_orders','num_customers','gmv']])"
      ],
      "execution_count": null,
      "outputs": []
    },
    {
      "cell_type": "code",
      "metadata": {
        "id": "WW7eA5rBQrtL"
      },
      "source": [
        "feature_weights = ['num_customers','num_orders','num_items','gmv','order_density','item_density']"
      ],
      "execution_count": null,
      "outputs": []
    },
    {
      "cell_type": "markdown",
      "metadata": {
        "id": "519roJyFEYOT"
      },
      "source": [
        ""
      ]
    },
    {
      "cell_type": "code",
      "metadata": {
        "id": "JeYQPp1Lo5Dg"
      },
      "source": [
        "grouped = df.groupby(by=['lat', 'long']).sum().reset_index()\n",
        "\n",
        "x = grouped[['lat', 'long']]\n",
        "feature_weight = feature_weights[4]\n",
        "y = grouped[feature_weight]"
      ],
      "execution_count": null,
      "outputs": []
    },
    {
      "cell_type": "code",
      "metadata": {
        "colab": {
          "base_uri": "https://localhost:8080/"
        },
        "id": "et1whONioVfk",
        "outputId": "23e519df-4023-4c1d-f85a-3f28eb8edaab"
      },
      "source": [
        "%%time\n",
        "\n",
        "cluster_eval = pd.DataFrame([get_score(k, x, y) for k in range(6,15)],\n",
        "                  columns=['k','silhouette',\n",
        "                           'davies','calinski','Elbow Method Using Distortion','Elbow Method using Inertia','Model'])\n",
        "cluster_eval.set_index('k',inplace=True)"
      ],
      "execution_count": null,
      "outputs": [
        {
          "output_type": "stream",
          "name": "stdout",
          "text": [
            "CPU times: user 1min 49s, sys: 11.6 s, total: 2min\n",
            "Wall time: 1min 38s\n"
          ]
        }
      ]
    },
    {
      "cell_type": "code",
      "metadata": {
        "id": "FUe5MyKNNr3s"
      },
      "source": [
        "# metric = ['km','mins']\n",
        "# eval_locations = evaluate_locations(cluster_eval.loc[16]['Model'],warehouses,metric)"
      ],
      "execution_count": null,
      "outputs": []
    },
    {
      "cell_type": "code",
      "metadata": {
        "id": "AmaSRQFRwlvh"
      },
      "source": [
        "# plt.scatter(\n",
        "#     eval_locations['actual_long'],\n",
        "#     eval_locations['actual_lat']\n",
        "# )\n",
        "# plt.scatter(\n",
        "#     eval_locations['pred_long'],\n",
        "#     eval_locations['pred_lat']\n",
        "# )\n",
        "# plt.legend(['actual dmarts','predicted_dmarts'])"
      ],
      "execution_count": null,
      "outputs": []
    },
    {
      "cell_type": "code",
      "metadata": {
        "colab": {
          "base_uri": "https://localhost:8080/"
        },
        "id": "MXryGC3LvR40",
        "outputId": "887495e9-8e71-4275-9cce-b6be65a1e00e"
      },
      "source": [
        "# for metrics calculate granularity \n",
        "saved_path = 'drive/MyDrive/QCSGE-6/cluster_data_created_only_restaurant_11_11_2021.csv'\n",
        "df = pd.read_csv(saved_path)\n",
        "df.shape"
      ],
      "execution_count": null,
      "outputs": [
        {
          "output_type": "execute_result",
          "data": {
            "text/plain": [
              "(174397, 8)"
            ]
          },
          "metadata": {},
          "execution_count": 22
        }
      ]
    },
    {
      "cell_type": "code",
      "metadata": {
        "colab": {
          "base_uri": "https://localhost:8080/"
        },
        "id": "o3eOpgWb43TT",
        "outputId": "33f343fa-e806-4030-9622-4eba9286c188"
      },
      "source": [
        "PARAMETERS = {\n",
        "    'time_limit' : range(1,16,1),\n",
        "    'MAX_STORE' : 20,\n",
        "    'CURRENT_STORES' : warehouses.shape[0],\n",
        "    'metric' : ['kms','mins'],\n",
        "    'eval_metric': ['silhouette','number_of_locations_covered','total_customers_list_coverage','total_orders_list_coverage','unused_actual_stores','unused_pred_stores'] \n",
        "}\n",
        "print(PARAMETERS)"
      ],
      "execution_count": null,
      "outputs": [
        {
          "output_type": "stream",
          "name": "stdout",
          "text": [
            "{'time_limit': range(1, 16), 'MAX_STORE': 20, 'CURRENT_STORES': 15, 'metric': ['kms', 'mins'], 'eval_metric': ['silhouette', 'number_of_locations_covered', 'total_customers_list_coverage', 'total_orders_list_coverage', 'unused_actual_stores', 'unused_pred_stores']}\n"
          ]
        }
      ]
    },
    {
      "cell_type": "code",
      "metadata": {
        "id": "lThgOK7IsNuU",
        "colab": {
          "base_uri": "https://localhost:8080/"
        },
        "outputId": "98bc0d9b-1ee4-4a6d-ed69-04905e1ad2d0"
      },
      "source": [
        "%%time\n",
        "\n",
        "## failed for cluster less than and greater than mismatch - have to check the bug\n",
        "\n",
        "metric = PARAMETERS['metric']\n",
        "metrics = PARAMETERS['eval_metric'][1:4]\n",
        "time_range = PARAMETERS['time_limit']\n",
        "time_ = 12\n",
        "metric_df = pd.DataFrame()\n",
        "output = dict()\n",
        "no_of_clusters = 15\n",
        "historical_outputs = dict()\n",
        "total_num_customers = df['num_customers'].sum()\n",
        "total_num_orders = df['num_orders'].sum()\n",
        "total_num_locations =  df[['lat','long']].count()[0]\n",
        "total_gmv = df['gmv'].sum()\n",
        "\n",
        "for time_ in time_range:\n",
        "  for no_of_clusters in cluster_eval.index:\n",
        "  # for feature_weight in feature_weights:\n",
        "  #   for time_ in PARAMETERS['time_limit']:\n",
        "\n",
        "  #####\n",
        "\n",
        "  #####\n",
        "\n",
        "    eval_locations = evaluate_locations(cluster_eval.loc[no_of_clusters]['Model'],warehouses,metric)\n",
        "    cross_join_df = calculate_metrics_fast(df,eval_locations,metric)\n",
        "\n",
        "    actual_data,pred_data = get_info_within_time(\n",
        "                                                time_,\n",
        "                                                cross_join_df,\n",
        "                                                metric\n",
        "                                                )\n",
        "\n",
        "    business_metrics = get_business_metrics(actual_data,pred_data)\n",
        "    covered_per_actual_store = make_coverage_data(business_metrics,status='actual')\n",
        "    covered_per_actual_store = generate_feature_metrics(covered_per_actual_store)\n",
        "\n",
        "\n",
        "    covered_per_pred_store = make_coverage_data(business_metrics,status='pred')\n",
        "    covered_per_pred_store = generate_feature_metrics(covered_per_pred_store)\n",
        "\n",
        "    df_actual = covered_per_actual_store[covered_per_actual_store['number_of_locations_covered']!=0]\n",
        "    df_pred = covered_per_pred_store[covered_per_pred_store['number_of_locations_covered']!=0]\n",
        "\n",
        "    # historical_outputs[(no_of_clusters,time_)]= {\n",
        "    #     # 'eval_locations' : eval_locations,\n",
        "    #     # 'cross_join_df' : cross_join_df,\n",
        "    #     # 'business_metrics' : business_metrics,\n",
        "    #     'covered_per_actual_store' : covered_per_actual_store,\n",
        "    #     'covered_per_pred_store' : covered_per_pred_store\n",
        "    # }\n",
        "    value = dict(zip(metrics,[total_num_locations,total_num_customers,total_num_orders]))\n",
        "    \n",
        "    for metric_ in metrics:\n",
        "      sum_pred = df_pred[metric_].sum() \n",
        "      sum_actual = df_actual[metric_].sum()\n",
        "      output[metric_] = str(np.round(sum_pred - sum_actual)) + ' | ' +  str(np.round((sum_pred - sum_actual)/sum_pred,5)*100) + '%'\n",
        "      output[f'{metric_}[pred] %'] = sum_pred/value[metric_] * 100\n",
        "      output[f'{metric_}[actual] %'] = sum_actual/value[metric_] * 100\n",
        "      # output[f'{metric} %'] = str((sum1 - sum2)/sum1)\n",
        "\n",
        "    output.update(\n",
        "        {\n",
        "            'unused_actual_stores': covered_per_actual_store[covered_per_actual_store['number_of_locations_covered']==0].shape[0],\n",
        "            'unused_pred_stores': covered_per_pred_store[covered_per_pred_store['number_of_locations_covered']==0].shape[0],\n",
        "            'overlap %[pred]' : (sum(business_metrics['dataframe']['pred_df'].groupby(['lat','long'])['pred_code'].count()>1)/total_num_locations)*100,\n",
        "            'overlap %[actual]' : (sum(business_metrics['dataframe']['actual_df'].groupby(['lat','long'])['actual_code'].count()>1)/total_num_locations)*100,\n",
        "            'avg_driving_time[\"pred\"]' : business_metrics['dataframe']['pred_df']['off by time(mins) PRED'].mean(),\n",
        "            'avg_driving_time[\"actual\"]' : business_metrics['dataframe']['actual_df']['off by time(mins) ACTUAL'].mean(),\n",
        "            'driving_time' : time_\n",
        "        \n",
        "        }\n",
        "    )\n",
        "\n",
        "    # fig,ax = plt.subplots(1,3,figsize=(30,8))\n",
        "\n",
        "    # generate_stats_report(covered_per_actual_store,covered_per_pred_store,metrics,ax)\n",
        "    metric_df = metric_df.append(pd.concat([\n",
        "              cluster_eval.loc[no_of_clusters].to_frame().T,\n",
        "              pd.DataFrame(output,index=[no_of_clusters])\n",
        "    ],\n",
        "    axis=1))\n",
        "  # metric_df.rename(index={no_of_clusters:feature_weight},inplace=True)"
      ],
      "execution_count": null,
      "outputs": [
        {
          "output_type": "stream",
          "name": "stdout",
          "text": [
            "CPU times: user 39min 21s, sys: 1min 31s, total: 40min 52s\n",
            "Wall time: 40min 5s\n"
          ]
        }
      ]
    },
    {
      "cell_type": "code",
      "metadata": {
        "id": "6S39bDkfTcCm"
      },
      "source": [
        ""
      ],
      "execution_count": null,
      "outputs": []
    },
    {
      "cell_type": "code",
      "metadata": {
        "colab": {
          "base_uri": "https://localhost:8080/"
        },
        "id": "BTfIfRW9xqTQ",
        "outputId": "38a0e7db-013c-4487-a085-2386474d50ff"
      },
      "source": [
        "BUSINESS_METRICS = [\n",
        "                    'customer_penetration_absolute',\n",
        "                    'customer_penetration %',\n",
        "                    'overlap %',\n",
        "                    'avg_driving_time',\n",
        "                    'driving_time'\n",
        "]\n",
        "METRICS_TO_LOOK = [\n",
        "                   'total_customers_list_coverage',\n",
        "                   'total_customers_list_coverage[pred] %',\n",
        "                   'overlap %[pred]',\n",
        "                   'avg_driving_time[\"pred\"]',\n",
        "                   'driving_time'\n",
        "\n",
        "]\n",
        "\n",
        "rename_columns = dict(zip(METRICS_TO_LOOK,BUSINESS_METRICS))\n",
        "rename_columns"
      ],
      "execution_count": null,
      "outputs": [
        {
          "output_type": "execute_result",
          "data": {
            "text/plain": [
              "{'avg_driving_time[\"pred\"]': 'avg_driving_time',\n",
              " 'driving_time': 'driving_time',\n",
              " 'overlap %[pred]': 'overlap %',\n",
              " 'total_customers_list_coverage': 'customer_penetration_absolute',\n",
              " 'total_customers_list_coverage[pred] %': 'customer_penetration %'}"
            ]
          },
          "metadata": {},
          "execution_count": 25
        }
      ]
    },
    {
      "cell_type": "code",
      "metadata": {
        "id": "qOdDTiJrtHr-"
      },
      "source": [
        "metric_df.rename(columns = rename_columns, inplace = True)"
      ],
      "execution_count": null,
      "outputs": []
    },
    {
      "cell_type": "code",
      "metadata": {
        "id": "1CtyTFgQVYUm"
      },
      "source": [
        "business_metric_df = metric_df[BUSINESS_METRICS].reset_index().set_index(['driving_time','index']).copy()"
      ],
      "execution_count": null,
      "outputs": []
    },
    {
      "cell_type": "code",
      "metadata": {
        "colab": {
          "base_uri": "https://localhost:8080/",
          "height": 270
        },
        "id": "OU7G_r3wyurm",
        "outputId": "db9c413a-edae-42ad-cbe0-d6c7ea65a6e0"
      },
      "source": [
        "business_metric_df.T"
      ],
      "execution_count": null,
      "outputs": [
        {
          "output_type": "execute_result",
          "data": {
            "text/html": [
              "<div>\n",
              "<style scoped>\n",
              "    .dataframe tbody tr th:only-of-type {\n",
              "        vertical-align: middle;\n",
              "    }\n",
              "\n",
              "    .dataframe tbody tr th {\n",
              "        vertical-align: top;\n",
              "    }\n",
              "\n",
              "    .dataframe thead tr th {\n",
              "        text-align: left;\n",
              "    }\n",
              "</style>\n",
              "<table border=\"1\" class=\"dataframe\">\n",
              "  <thead>\n",
              "    <tr>\n",
              "      <th>driving_time</th>\n",
              "      <th colspan=\"9\" halign=\"left\">1</th>\n",
              "      <th colspan=\"9\" halign=\"left\">2</th>\n",
              "      <th colspan=\"9\" halign=\"left\">3</th>\n",
              "      <th colspan=\"9\" halign=\"left\">4</th>\n",
              "      <th colspan=\"4\" halign=\"left\">5</th>\n",
              "      <th>...</th>\n",
              "      <th colspan=\"4\" halign=\"left\">11</th>\n",
              "      <th colspan=\"9\" halign=\"left\">12</th>\n",
              "      <th colspan=\"9\" halign=\"left\">13</th>\n",
              "      <th colspan=\"9\" halign=\"left\">14</th>\n",
              "      <th colspan=\"9\" halign=\"left\">15</th>\n",
              "    </tr>\n",
              "    <tr>\n",
              "      <th>index</th>\n",
              "      <th>6</th>\n",
              "      <th>7</th>\n",
              "      <th>8</th>\n",
              "      <th>9</th>\n",
              "      <th>10</th>\n",
              "      <th>11</th>\n",
              "      <th>12</th>\n",
              "      <th>13</th>\n",
              "      <th>14</th>\n",
              "      <th>6</th>\n",
              "      <th>7</th>\n",
              "      <th>8</th>\n",
              "      <th>9</th>\n",
              "      <th>10</th>\n",
              "      <th>11</th>\n",
              "      <th>12</th>\n",
              "      <th>13</th>\n",
              "      <th>14</th>\n",
              "      <th>6</th>\n",
              "      <th>7</th>\n",
              "      <th>8</th>\n",
              "      <th>9</th>\n",
              "      <th>10</th>\n",
              "      <th>11</th>\n",
              "      <th>12</th>\n",
              "      <th>13</th>\n",
              "      <th>14</th>\n",
              "      <th>6</th>\n",
              "      <th>7</th>\n",
              "      <th>8</th>\n",
              "      <th>9</th>\n",
              "      <th>10</th>\n",
              "      <th>11</th>\n",
              "      <th>12</th>\n",
              "      <th>13</th>\n",
              "      <th>14</th>\n",
              "      <th>6</th>\n",
              "      <th>7</th>\n",
              "      <th>8</th>\n",
              "      <th>9</th>\n",
              "      <th>...</th>\n",
              "      <th>11</th>\n",
              "      <th>12</th>\n",
              "      <th>13</th>\n",
              "      <th>14</th>\n",
              "      <th>6</th>\n",
              "      <th>7</th>\n",
              "      <th>8</th>\n",
              "      <th>9</th>\n",
              "      <th>10</th>\n",
              "      <th>11</th>\n",
              "      <th>12</th>\n",
              "      <th>13</th>\n",
              "      <th>14</th>\n",
              "      <th>6</th>\n",
              "      <th>7</th>\n",
              "      <th>8</th>\n",
              "      <th>9</th>\n",
              "      <th>10</th>\n",
              "      <th>11</th>\n",
              "      <th>12</th>\n",
              "      <th>13</th>\n",
              "      <th>14</th>\n",
              "      <th>6</th>\n",
              "      <th>7</th>\n",
              "      <th>8</th>\n",
              "      <th>9</th>\n",
              "      <th>10</th>\n",
              "      <th>11</th>\n",
              "      <th>12</th>\n",
              "      <th>13</th>\n",
              "      <th>14</th>\n",
              "      <th>6</th>\n",
              "      <th>7</th>\n",
              "      <th>8</th>\n",
              "      <th>9</th>\n",
              "      <th>10</th>\n",
              "      <th>11</th>\n",
              "      <th>12</th>\n",
              "      <th>13</th>\n",
              "      <th>14</th>\n",
              "    </tr>\n",
              "  </thead>\n",
              "  <tbody>\n",
              "    <tr>\n",
              "      <th>customer_penetration_absolute</th>\n",
              "      <td>-614 | -889.855%</td>\n",
              "      <td>-635 | -1322.917%</td>\n",
              "      <td>-633 | -1266.0%</td>\n",
              "      <td>-380 | -125.413%</td>\n",
              "      <td>-173 | -33.922000000000004%</td>\n",
              "      <td>-504 | -281.564%</td>\n",
              "      <td>-229 | -50.441%</td>\n",
              "      <td>-129 | -23.285%</td>\n",
              "      <td>-208 | -43.789%</td>\n",
              "      <td>-4104 | -273.236%</td>\n",
              "      <td>-4070 | -264.974%</td>\n",
              "      <td>-3529 | -169.909%</td>\n",
              "      <td>-1938 | -52.835%</td>\n",
              "      <td>-974 | -21.028%</td>\n",
              "      <td>-3330 | -146.309%</td>\n",
              "      <td>-674 | -13.666%</td>\n",
              "      <td>1157 | 17.108%</td>\n",
              "      <td>1090 | 16.278000000000002%</td>\n",
              "      <td>-16122 | -237.82299999999998%</td>\n",
              "      <td>-16714 | -270.147%</td>\n",
              "      <td>-11991 | -109.908%</td>\n",
              "      <td>-8966 | -64.342%</td>\n",
              "      <td>-4721 | -25.968000000000004%</td>\n",
              "      <td>-9778 | -74.51%</td>\n",
              "      <td>1379 | 5.680000000000001%</td>\n",
              "      <td>5625 | 19.719%</td>\n",
              "      <td>6151 | 21.172%</td>\n",
              "      <td>-44851 | -224.412%</td>\n",
              "      <td>-41312 | -175.60899999999998%</td>\n",
              "      <td>-31748 | -95.947%</td>\n",
              "      <td>-25152 | -63.379%</td>\n",
              "      <td>-15732 | -32.037%</td>\n",
              "      <td>-21734 | -50.422999999999995%</td>\n",
              "      <td>-256 | -0.396%</td>\n",
              "      <td>7956 | 10.93%</td>\n",
              "      <td>12644 | 16.319%</td>\n",
              "      <td>-89822 | -189.342%</td>\n",
              "      <td>-78429 | -133.31%</td>\n",
              "      <td>-56126 | -69.176%</td>\n",
              "      <td>-42444 | -44.763999999999996%</td>\n",
              "      <td>...</td>\n",
              "      <td>3028 | 0.449%</td>\n",
              "      <td>7925 | 1.166%</td>\n",
              "      <td>8267 | 1.216%</td>\n",
              "      <td>8455 | 1.244%</td>\n",
              "      <td>-45495 | -7.183000000000001%</td>\n",
              "      <td>-10057 | -1.504%</td>\n",
              "      <td>-5829 | -0.8659999999999999%</td>\n",
              "      <td>586 | 0.086%</td>\n",
              "      <td>876 | 0.129%</td>\n",
              "      <td>1012 | 0.149%</td>\n",
              "      <td>1152 | 0.169%</td>\n",
              "      <td>1532 | 0.22499999999999998%</td>\n",
              "      <td>1522 | 0.22399999999999998%</td>\n",
              "      <td>-15386 | -2.314%</td>\n",
              "      <td>-1360 | -0.2%</td>\n",
              "      <td>-452 | -0.066%</td>\n",
              "      <td>-53 | -0.008%</td>\n",
              "      <td>30 | 0.004%</td>\n",
              "      <td>99 | 0.015%</td>\n",
              "      <td>99 | 0.015%</td>\n",
              "      <td>99 | 0.015%</td>\n",
              "      <td>99 | 0.015%</td>\n",
              "      <td>-1049 | -0.154%</td>\n",
              "      <td>-390 | -0.056999999999999995%</td>\n",
              "      <td>11 | 0.002%</td>\n",
              "      <td>28 | 0.004%</td>\n",
              "      <td>29 | 0.004%</td>\n",
              "      <td>29 | 0.004%</td>\n",
              "      <td>29 | 0.004%</td>\n",
              "      <td>29 | 0.004%</td>\n",
              "      <td>29 | 0.004%</td>\n",
              "      <td>-140 | -0.021%</td>\n",
              "      <td>14 | 0.002%</td>\n",
              "      <td>14 | 0.002%</td>\n",
              "      <td>14 | 0.002%</td>\n",
              "      <td>14 | 0.002%</td>\n",
              "      <td>14 | 0.002%</td>\n",
              "      <td>14 | 0.002%</td>\n",
              "      <td>14 | 0.002%</td>\n",
              "      <td>14 | 0.002%</td>\n",
              "    </tr>\n",
              "    <tr>\n",
              "      <th>customer_penetration %</th>\n",
              "      <td>0.0101409</td>\n",
              "      <td>0.00705452</td>\n",
              "      <td>0.00734846</td>\n",
              "      <td>0.0445316</td>\n",
              "      <td>0.0749543</td>\n",
              "      <td>0.0263075</td>\n",
              "      <td>0.066724</td>\n",
              "      <td>0.0814209</td>\n",
              "      <td>0.0698103</td>\n",
              "      <td>0.220748</td>\n",
              "      <td>0.225745</td>\n",
              "      <td>0.305255</td>\n",
              "      <td>0.539083</td>\n",
              "      <td>0.680761</td>\n",
              "      <td>0.334502</td>\n",
              "      <td>0.724852</td>\n",
              "      <td>0.993952</td>\n",
              "      <td>0.984105</td>\n",
              "      <td>0.996304</td>\n",
              "      <td>0.909298</td>\n",
              "      <td>1.60343</td>\n",
              "      <td>2.04801</td>\n",
              "      <td>2.6719</td>\n",
              "      <td>1.92868</td>\n",
              "      <td>3.56841</td>\n",
              "      <td>4.19244</td>\n",
              "      <td>4.26975</td>\n",
              "      <td>2.93733</td>\n",
              "      <td>3.45745</td>\n",
              "      <td>4.86306</td>\n",
              "      <td>5.83247</td>\n",
              "      <td>7.21692</td>\n",
              "      <td>6.33481</td>\n",
              "      <td>9.49141</td>\n",
              "      <td>10.6983</td>\n",
              "      <td>11.3873</td>\n",
              "      <td>6.97207</td>\n",
              "      <td>8.64649</td>\n",
              "      <td>11.9243</td>\n",
              "      <td>13.9352</td>\n",
              "      <td>...</td>\n",
              "      <td>99.1298</td>\n",
              "      <td>99.8495</td>\n",
              "      <td>99.8998</td>\n",
              "      <td>99.9274</td>\n",
              "      <td>93.0836</td>\n",
              "      <td>98.2919</td>\n",
              "      <td>98.9133</td>\n",
              "      <td>99.8561</td>\n",
              "      <td>99.8987</td>\n",
              "      <td>99.9187</td>\n",
              "      <td>99.9393</td>\n",
              "      <td>99.9952</td>\n",
              "      <td>99.9937</td>\n",
              "      <td>97.7242</td>\n",
              "      <td>99.7856</td>\n",
              "      <td>99.919</td>\n",
              "      <td>99.9777</td>\n",
              "      <td>99.9899</td>\n",
              "      <td>100</td>\n",
              "      <td>100</td>\n",
              "      <td>100</td>\n",
              "      <td>100</td>\n",
              "      <td>99.8416</td>\n",
              "      <td>99.9384</td>\n",
              "      <td>99.9974</td>\n",
              "      <td>99.9999</td>\n",
              "      <td>100</td>\n",
              "      <td>100</td>\n",
              "      <td>100</td>\n",
              "      <td>100</td>\n",
              "      <td>100</td>\n",
              "      <td>99.9774</td>\n",
              "      <td>100</td>\n",
              "      <td>100</td>\n",
              "      <td>100</td>\n",
              "      <td>100</td>\n",
              "      <td>100</td>\n",
              "      <td>100</td>\n",
              "      <td>100</td>\n",
              "      <td>100</td>\n",
              "    </tr>\n",
              "    <tr>\n",
              "      <th>overlap %</th>\n",
              "      <td>0</td>\n",
              "      <td>0</td>\n",
              "      <td>0</td>\n",
              "      <td>0</td>\n",
              "      <td>0</td>\n",
              "      <td>0</td>\n",
              "      <td>0</td>\n",
              "      <td>0</td>\n",
              "      <td>0</td>\n",
              "      <td>0</td>\n",
              "      <td>0</td>\n",
              "      <td>0</td>\n",
              "      <td>0</td>\n",
              "      <td>0</td>\n",
              "      <td>0</td>\n",
              "      <td>0</td>\n",
              "      <td>0</td>\n",
              "      <td>0</td>\n",
              "      <td>0</td>\n",
              "      <td>0</td>\n",
              "      <td>0</td>\n",
              "      <td>0</td>\n",
              "      <td>0</td>\n",
              "      <td>0</td>\n",
              "      <td>0</td>\n",
              "      <td>0</td>\n",
              "      <td>0</td>\n",
              "      <td>0</td>\n",
              "      <td>0</td>\n",
              "      <td>0</td>\n",
              "      <td>0</td>\n",
              "      <td>0</td>\n",
              "      <td>0</td>\n",
              "      <td>0</td>\n",
              "      <td>0</td>\n",
              "      <td>0</td>\n",
              "      <td>0</td>\n",
              "      <td>0</td>\n",
              "      <td>0</td>\n",
              "      <td>0</td>\n",
              "      <td>...</td>\n",
              "      <td>37.0511</td>\n",
              "      <td>41.6745</td>\n",
              "      <td>53.5479</td>\n",
              "      <td>60.0268</td>\n",
              "      <td>5.94219</td>\n",
              "      <td>17.3965</td>\n",
              "      <td>23.8553</td>\n",
              "      <td>31.5785</td>\n",
              "      <td>47.4263</td>\n",
              "      <td>56.2412</td>\n",
              "      <td>62.727</td>\n",
              "      <td>71.1778</td>\n",
              "      <td>79.2267</td>\n",
              "      <td>15.2864</td>\n",
              "      <td>33.4903</td>\n",
              "      <td>38.4485</td>\n",
              "      <td>47.1327</td>\n",
              "      <td>60.7596</td>\n",
              "      <td>71.9972</td>\n",
              "      <td>79.6992</td>\n",
              "      <td>84.9395</td>\n",
              "      <td>90.7917</td>\n",
              "      <td>30.4701</td>\n",
              "      <td>49.9292</td>\n",
              "      <td>56.9631</td>\n",
              "      <td>63.6645</td>\n",
              "      <td>73.3464</td>\n",
              "      <td>85.0531</td>\n",
              "      <td>93.3514</td>\n",
              "      <td>95.2207</td>\n",
              "      <td>97.2522</td>\n",
              "      <td>48.4584</td>\n",
              "      <td>65.6273</td>\n",
              "      <td>74.4766</td>\n",
              "      <td>79.4503</td>\n",
              "      <td>84.4665</td>\n",
              "      <td>91.7046</td>\n",
              "      <td>98.8452</td>\n",
              "      <td>99.4203</td>\n",
              "      <td>99.4644</td>\n",
              "    </tr>\n",
              "    <tr>\n",
              "      <th>avg_driving_time</th>\n",
              "      <td>0.78894</td>\n",
              "      <td>0.845305</td>\n",
              "      <td>0.81904</td>\n",
              "      <td>0.784902</td>\n",
              "      <td>0.781584</td>\n",
              "      <td>0.782526</td>\n",
              "      <td>0.823633</td>\n",
              "      <td>0.803685</td>\n",
              "      <td>0.777162</td>\n",
              "      <td>1.59896</td>\n",
              "      <td>1.68715</td>\n",
              "      <td>1.64057</td>\n",
              "      <td>1.57429</td>\n",
              "      <td>1.5856</td>\n",
              "      <td>1.58735</td>\n",
              "      <td>1.56835</td>\n",
              "      <td>1.58688</td>\n",
              "      <td>1.60553</td>\n",
              "      <td>2.36202</td>\n",
              "      <td>2.40989</td>\n",
              "      <td>2.3914</td>\n",
              "      <td>2.31054</td>\n",
              "      <td>2.32767</td>\n",
              "      <td>2.4077</td>\n",
              "      <td>2.36837</td>\n",
              "      <td>2.34363</td>\n",
              "      <td>2.33812</td>\n",
              "      <td>3.13128</td>\n",
              "      <td>3.2541</td>\n",
              "      <td>3.18382</td>\n",
              "      <td>3.15781</td>\n",
              "      <td>3.13617</td>\n",
              "      <td>3.21292</td>\n",
              "      <td>3.1216</td>\n",
              "      <td>3.09667</td>\n",
              "      <td>3.10823</td>\n",
              "      <td>3.96173</td>\n",
              "      <td>4.02928</td>\n",
              "      <td>3.96306</td>\n",
              "      <td>3.95763</td>\n",
              "      <td>...</td>\n",
              "      <td>7.80845</td>\n",
              "      <td>7.67044</td>\n",
              "      <td>7.72213</td>\n",
              "      <td>7.69352</td>\n",
              "      <td>8.53295</td>\n",
              "      <td>8.50701</td>\n",
              "      <td>8.32935</td>\n",
              "      <td>8.26879</td>\n",
              "      <td>8.32652</td>\n",
              "      <td>8.41165</td>\n",
              "      <td>8.30862</td>\n",
              "      <td>8.36483</td>\n",
              "      <td>8.37345</td>\n",
              "      <td>9.02101</td>\n",
              "      <td>9.06485</td>\n",
              "      <td>8.88828</td>\n",
              "      <td>8.89672</td>\n",
              "      <td>8.97071</td>\n",
              "      <td>9.06755</td>\n",
              "      <td>8.98347</td>\n",
              "      <td>9.05048</td>\n",
              "      <td>9.09488</td>\n",
              "      <td>9.64454</td>\n",
              "      <td>9.69564</td>\n",
              "      <td>9.63764</td>\n",
              "      <td>9.69622</td>\n",
              "      <td>9.75908</td>\n",
              "      <td>9.84604</td>\n",
              "      <td>9.80403</td>\n",
              "      <td>9.84373</td>\n",
              "      <td>9.87024</td>\n",
              "      <td>10.3188</td>\n",
              "      <td>10.3708</td>\n",
              "      <td>10.463</td>\n",
              "      <td>10.5509</td>\n",
              "      <td>10.58</td>\n",
              "      <td>10.586</td>\n",
              "      <td>10.5888</td>\n",
              "      <td>10.6117</td>\n",
              "      <td>10.6106</td>\n",
              "    </tr>\n",
              "  </tbody>\n",
              "</table>\n",
              "<p>4 rows × 135 columns</p>\n",
              "</div>"
            ],
            "text/plain": [
              "driving_time                                 1   ...           15\n",
              "index                                        6   ...           14\n",
              "customer_penetration_absolute  -614 | -889.855%  ...  14 | 0.002%\n",
              "customer_penetration %                0.0101409  ...          100\n",
              "overlap %                                     0  ...      99.4644\n",
              "avg_driving_time                        0.78894  ...      10.6106\n",
              "\n",
              "[4 rows x 135 columns]"
            ]
          },
          "metadata": {},
          "execution_count": 28
        }
      ]
    },
    {
      "cell_type": "code",
      "metadata": {
        "colab": {
          "base_uri": "https://localhost:8080/",
          "height": 103
        },
        "id": "5cQLg_KFTo3L",
        "outputId": "6d58e0dd-7e4f-4530-fc80-72a671ced09e"
      },
      "source": [
        "business_metric_df.T.to_json()"
      ],
      "execution_count": null,
      "outputs": [
        {
          "output_type": "execute_result",
          "data": {
            "application/vnd.google.colaboratory.intrinsic+json": {
              "type": "string"
            },
            "text/plain": [
              "'{\"(1, 6)\":{\"customer_penetration_absolute\":\"-614 | -889.855%\",\"customer_penetration %\":0.0101408699,\"overlap %\":0.0,\"avg_driving_time\":0.7889403004},\"(1, 7)\":{\"customer_penetration_absolute\":\"-635 | -1322.917%\",\"customer_penetration %\":0.0070545182,\"overlap %\":0.0,\"avg_driving_time\":0.8453045177},\"(1, 8)\":{\"customer_penetration_absolute\":\"-633 | -1266.0%\",\"customer_penetration %\":0.0073484565,\"overlap %\":0.0,\"avg_driving_time\":0.819040075},\"(1, 9)\":{\"customer_penetration_absolute\":\"-380 | -125.413%\",\"customer_penetration %\":0.0445316461,\"overlap %\":0.0,\"avg_driving_time\":0.7849019889},\"(1, 10)\":{\"customer_penetration_absolute\":\"-173 | -33.922000000000004%\",\"customer_penetration %\":0.0749542559,\"overlap %\":0.0,\"avg_driving_time\":0.7815837825},\"(1, 11)\":{\"customer_penetration_absolute\":\"-504 | -281.564%\",\"customer_penetration %\":0.0263074741,\"overlap %\":0.0,\"avg_driving_time\":0.7825256684},\"(1, 12)\":{\"customer_penetration_absolute\":\"-229 | -50.441%\",\"customer_penetration %\":0.0667239846,\"overlap %\":0.0,\"avg_driving_time\":0.8236329191},\"(1, 13)\":{\"customer_penetration_absolute\":\"-129 | -23.285%\",\"customer_penetration %\":0.0814208975,\"overlap %\":0.0,\"avg_driving_time\":0.8036846381},\"(1, 14)\":{\"customer_penetration_absolute\":\"-208 | -43.789%\",\"customer_penetration %\":0.0698103363,\"overlap %\":0.0,\"avg_driving_time\":0.7771621338},\"(2, 6)\":{\"customer_penetration_absolute\":\"-4104 | -273.236%\",\"customer_penetration %\":0.220747632,\"overlap %\":0.0,\"avg_driving_time\":1.5989620061},\"(2, 7)\":{\"customer_penetration_absolute\":\"-4070 | -264.974%\",\"customer_penetration %\":0.2257445824,\"overlap %\":0.0,\"avg_driving_time\":1.6871450397},\"(2, 8)\":{\"customer_penetration_absolute\":\"-3529 | -169.909%\",\"customer_penetration %\":0.3052548812,\"overlap %\":0.0,\"avg_driving_time\":1.6405714017},\"(2, 9)\":{\"customer_penetration_absolute\":\"-1938 | -52.835%\",\"customer_penetration %\":0.5390827657,\"overlap %\":0.0,\"avg_driving_time\":1.5742870359},\"(2, 10)\":{\"customer_penetration_absolute\":\"-974 | -21.028%\",\"customer_penetration %\":0.6807610062,\"overlap %\":0.0,\"avg_driving_time\":1.5856044383},\"(2, 11)\":{\"customer_penetration_absolute\":\"-3330 | -146.309%\",\"customer_penetration %\":0.3345017379,\"overlap %\":0.0,\"avg_driving_time\":1.5873529383},\"(2, 12)\":{\"customer_penetration_absolute\":\"-674 | -13.666%\",\"customer_penetration %\":0.7248517449,\"overlap %\":0.0,\"avg_driving_time\":1.5683535005},\"(2, 13)\":{\"customer_penetration_absolute\":\"1157 | 17.108%\",\"customer_penetration %\":0.9939522203,\"overlap %\":0.0,\"avg_driving_time\":1.5868799772},\"(2, 14)\":{\"customer_penetration_absolute\":\"1090 | 16.278000000000002%\",\"customer_penetration %\":0.9841052887,\"overlap %\":0.0,\"avg_driving_time\":1.6055253244},\"(3, 6)\":{\"customer_penetration_absolute\":\"-16122 | -237.82299999999998%\",\"customer_penetration %\":0.9963037264,\"overlap %\":0.0,\"avg_driving_time\":2.362016417},\"(3, 7)\":{\"customer_penetration_absolute\":\"-16714 | -270.147%\",\"customer_penetration %\":0.909298002,\"overlap %\":0.0,\"avg_driving_time\":2.4098904955},\"(3, 8)\":{\"customer_penetration_absolute\":\"-11991 | -109.908%\",\"customer_penetration %\":1.6034331989,\"overlap %\":0.0,\"avg_driving_time\":2.3913974913},\"(3, 9)\":{\"customer_penetration_absolute\":\"-8966 | -64.342%\",\"customer_penetration %\":2.0480148145,\"overlap %\":0.0,\"avg_driving_time\":2.3105406026},\"(3, 10)\":{\"customer_penetration_absolute\":\"-4721 | -25.968000000000004%\",\"customer_penetration %\":2.6718987677,\"overlap %\":0.0,\"avg_driving_time\":2.3276730117},\"(3, 11)\":{\"customer_penetration_absolute\":\"-9778 | -74.51%\",\"customer_penetration %\":1.9286758816,\"overlap %\":0.0,\"avg_driving_time\":2.4077011739},\"(3, 12)\":{\"customer_penetration_absolute\":\"1379 | 5.680000000000001%\",\"customer_penetration %\":3.5684104554,\"overlap %\":0.0,\"avg_driving_time\":2.3683666643},\"(3, 13)\":{\"customer_penetration_absolute\":\"5625 | 19.719%\",\"customer_penetration %\":4.1924413777,\"overlap %\":0.0,\"avg_driving_time\":2.3436264923},\"(3, 14)\":{\"customer_penetration_absolute\":\"6151 | 21.172%\",\"customer_penetration %\":4.2697471396,\"overlap %\":0.0,\"avg_driving_time\":2.3381161797},\"(4, 6)\":{\"customer_penetration_absolute\":\"-44851 | -224.412%\",\"customer_penetration %\":2.9373250149,\"overlap %\":0.0,\"avg_driving_time\":3.1312813826},\"(4, 7)\":{\"customer_penetration_absolute\":\"-41312 | -175.60899999999998%\",\"customer_penetration %\":3.4574487629,\"overlap %\":0.0,\"avg_driving_time\":3.2540964143},\"(4, 8)\":{\"customer_penetration_absolute\":\"-31748 | -95.947%\",\"customer_penetration %\":4.8630615139,\"overlap %\":0.0,\"avg_driving_time\":3.1838245388},\"(4, 9)\":{\"customer_penetration_absolute\":\"-25152 | -63.379%\",\"customer_penetration %\":5.8324698897,\"overlap %\":0.0,\"avg_driving_time\":3.1578120836},\"(4, 10)\":{\"customer_penetration_absolute\":\"-15732 | -32.037%\",\"customer_penetration %\":7.2169190861,\"overlap %\":0.0,\"avg_driving_time\":3.1361722143},\"(4, 11)\":{\"customer_penetration_absolute\":\"-21734 | -50.422999999999995%\",\"customer_penetration %\":6.3348103731,\"overlap %\":0.0,\"avg_driving_time\":3.2129163858},\"(4, 12)\":{\"customer_penetration_absolute\":\"-256 | -0.396%\",\"customer_penetration %\":9.4914133286,\"overlap %\":0.0,\"avg_driving_time\":3.12159746},\"(4, 13)\":{\"customer_penetration_absolute\":\"7956 | 10.93%\",\"customer_penetration %\":10.6983238171,\"overlap %\":0.0,\"avg_driving_time\":3.0966671398},\"(4, 14)\":{\"customer_penetration_absolute\":\"12644 | 16.319%\",\"customer_penetration %\":11.3873150945,\"overlap %\":0.0,\"avg_driving_time\":3.1082315282},\"(5, 6)\":{\"customer_penetration_absolute\":\"-89822 | -189.342%\",\"customer_penetration %\":6.972068517,\"overlap %\":0.0,\"avg_driving_time\":3.9617332366},\"(5, 7)\":{\"customer_penetration_absolute\":\"-78429 | -133.31%\",\"customer_penetration %\":8.6464878052,\"overlap %\":0.0,\"avg_driving_time\":4.0292766209},\"(5, 8)\":{\"customer_penetration_absolute\":\"-56126 | -69.176%\",\"customer_penetration %\":11.9243402923,\"overlap %\":0.0,\"avg_driving_time\":3.9630596417},\"(5, 9)\":{\"customer_penetration_absolute\":\"-42444 | -44.763999999999996%\",\"customer_penetration %\":13.9351719171,\"overlap %\":0.0,\"avg_driving_time\":3.9576304326},\"(5, 10)\":{\"customer_penetration_absolute\":\"-25490 | -22.806%\",\"customer_penetration %\":16.4268865325,\"overlap %\":0.0,\"avg_driving_time\":3.9257569747},\"(5, 11)\":{\"customer_penetration_absolute\":\"-32127 | -30.558000000000003%\",\"customer_penetration %\":15.4514524224,\"overlap %\":0.0,\"avg_driving_time\":4.014739604},\"(5, 12)\":{\"customer_penetration_absolute\":\"-4578 | -3.45%\",\"customer_penetration %\":19.5003049609,\"overlap %\":0.0,\"avg_driving_time\":3.8721826251},\"(5, 13)\":{\"customer_penetration_absolute\":\"11469 | 7.710999999999999%\",\"customer_penetration %\":21.8587185762,\"overlap %\":0.0,\"avg_driving_time\":3.8578365447},\"(5, 14)\":{\"customer_penetration_absolute\":\"26681 | 16.275000000000002%\",\"customer_penetration %\":24.0944129686,\"overlap %\":0.0,\"avg_driving_time\":3.8817570777},\"(6, 6)\":{\"customer_penetration_absolute\":\"-140359 | -138.112%\",\"customer_penetration %\":14.9360316865,\"overlap %\":0.0,\"avg_driving_time\":4.7831408862},\"(6, 7)\":{\"customer_penetration_absolute\":\"-121186 | -100.32000000000001%\",\"customer_penetration %\":17.7538707994,\"overlap %\":0.0,\"avg_driving_time\":4.8001428445},\"(6, 8)\":{\"customer_penetration_absolute\":\"-89586 | -58.782999999999994%\",\"customer_penetration %\":22.3980952801,\"overlap %\":0.0,\"avg_driving_time\":4.708111637},\"(6, 9)\":{\"customer_penetration_absolute\":\"-55590 | -29.824%\",\"customer_penetration %\":27.3944577941,\"overlap %\":0.0,\"avg_driving_time\":4.7449264164},\"(6, 10)\":{\"customer_penetration_absolute\":\"-40477 | -20.087%\",\"customer_penetration %\":29.6156022427,\"overlap %\":0.0,\"avg_driving_time\":4.6664325271},\"(6, 11)\":{\"customer_penetration_absolute\":\"-32465 | -15.495000000000001%\",\"customer_penetration %\":30.7931189054,\"overlap %\":0.0,\"avg_driving_time\":4.7870617744},\"(6, 12)\":{\"customer_penetration_absolute\":\"7526 | 3.016%\",\"customer_penetration %\":36.6705613486,\"overlap %\":0.0,\"avg_driving_time\":4.6637530879},\"(6, 13)\":{\"customer_penetration_absolute\":\"27849 | 10.321%\",\"customer_penetration %\":39.65741496,\"overlap %\":0.0,\"avg_driving_time\":4.6296818727},\"(6, 14)\":{\"customer_penetration_absolute\":\"46136 | 16.012999999999998%\",\"customer_penetration %\":42.3450394245,\"overlap %\":0.0,\"avg_driving_time\":4.6246242149},\"(7, 6)\":{\"customer_penetration_absolute\":\"-173571 | -95.602%\",\"customer_penetration %\":26.6831272091,\"overlap %\":0.0,\"avg_driving_time\":5.5173566261},\"(7, 7)\":{\"customer_penetration_absolute\":\"-152891 | -75.6%\",\"customer_penetration %\":29.7224487996,\"overlap %\":0.0,\"avg_driving_time\":5.4902020213},\"(7, 8)\":{\"customer_penetration_absolute\":\"-109542 | -44.605%\",\"customer_penetration %\":36.0934135785,\"overlap %\":0.0,\"avg_driving_time\":5.4259923445},\"(7, 9)\":{\"customer_penetration_absolute\":\"-47395 | -15.401000000000002%\",\"customer_penetration %\":45.2271040468,\"overlap %\":0.0,\"avg_driving_time\":5.4625027325},\"(7, 10)\":{\"customer_penetration_absolute\":\"-16165 | -4.769%\",\"customer_penetration %\":49.8169499497,\"overlap %\":0.0,\"avg_driving_time\":5.4193627966},\"(7, 11)\":{\"customer_penetration_absolute\":\"-5086 | -1.4529999999999998%\",\"customer_penetration %\":51.4452209313,\"overlap %\":0.0,\"avg_driving_time\":5.4901576844},\"(7, 12)\":{\"customer_penetration_absolute\":\"39503 | 10.01%\",\"customer_penetration %\":57.9984274303,\"overlap %\":0.0,\"avg_driving_time\":5.3573781582},\"(7, 13)\":{\"customer_penetration_absolute\":\"67313 | 15.934000000000001%\",\"customer_penetration %\":62.0856389115,\"overlap %\":0.0,\"avg_driving_time\":5.3303489709},\"(7, 14)\":{\"customer_penetration_absolute\":\"90446 | 20.299%\",\"customer_penetration %\":65.4854757758,\"overlap %\":0.0,\"avg_driving_time\":5.3212511832},\"(8, 6)\":{\"customer_penetration_absolute\":\"-216839 | -83.77799999999999%\",\"customer_penetration %\":38.0394318173,\"overlap %\":0.0,\"avg_driving_time\":6.1489861648},\"(8, 7)\":{\"customer_penetration_absolute\":\"-165336 | -53.278000000000006%\",\"customer_penetration %\":45.6087828752,\"overlap %\":0.0,\"avg_driving_time\":6.1927353036},\"(8, 8)\":{\"customer_penetration_absolute\":\"-109468 | -29.892999999999997%\",\"customer_penetration %\":53.8196541816,\"overlap %\":0.0,\"avg_driving_time\":6.1195350874},\"(8, 9)\":{\"customer_penetration_absolute\":\"-42843 | -9.899%\",\"customer_penetration %\":63.6114724102,\"overlap %\":0.0,\"avg_driving_time\":6.083824312},\"(8, 10)\":{\"customer_penetration_absolute\":\"4274 | 0.8909999999999999%\",\"customer_penetration %\":70.5362168676,\"overlap %\":0.2201872739,\"avg_driving_time\":6.0516883778},\"(8, 11)\":{\"customer_penetration_absolute\":\"13396 | 2.7390000000000003%\",\"customer_penetration %\":71.8768692636,\"overlap %\":0.0,\"avg_driving_time\":6.089368573},\"(8, 12)\":{\"customer_penetration_absolute\":\"55375 | 10.427999999999999%\",\"customer_penetration %\":78.0464863355,\"overlap %\":0.1387638549,\"avg_driving_time\":5.9440114085},\"(8, 13)\":{\"customer_penetration_absolute\":\"83361 | 14.912%\",\"customer_penetration %\":82.1595643835,\"overlap %\":1.3251374737,\"avg_driving_time\":5.9352911961},\"(8, 14)\":{\"customer_penetration_absolute\":\"120052 | 20.153%\",\"customer_penetration %\":87.5520087006,\"overlap %\":1.7253737163,\"avg_driving_time\":5.9460755741},\"(9, 6)\":{\"customer_penetration_absolute\":\"-227171 | -65.07300000000001%\",\"customer_penetration %\":51.30706995,\"overlap %\":0.0,\"avg_driving_time\":6.7790919519},\"(9, 7)\":{\"customer_penetration_absolute\":\"-145076 | -33.645%\",\"customer_penetration %\":63.3725006062,\"overlap %\":0.0384180921,\"avg_driving_time\":6.862320273},\"(9, 8)\":{\"customer_penetration_absolute\":\"-92596 | -19.144%\",\"customer_penetration %\":71.0854405032,\"overlap %\":0.0,\"avg_driving_time\":6.709716743},\"(9, 9)\":{\"customer_penetration_absolute\":\"-28343 | -5.173%\",\"customer_penetration %\":80.5286479575,\"overlap %\":0.5240915841,\"avg_driving_time\":6.6362034058},\"(9, 10)\":{\"customer_penetration_absolute\":\"1888 | 0.327%\",\"customer_penetration %\":84.9716717004,\"overlap %\":4.4748476178,\"avg_driving_time\":6.60998576},\"(9, 11)\":{\"customer_penetration_absolute\":\"29284 | 4.836%\",\"customer_penetration %\":88.9980379621,\"overlap %\":3.2311335631,\"avg_driving_time\":6.6490437081},\"(9, 12)\":{\"customer_penetration_absolute\":\"59123 | 9.305%\",\"customer_penetration %\":93.3834498064,\"overlap %\":4.7368934099,\"avg_driving_time\":6.506489157},\"(9, 13)\":{\"customer_penetration_absolute\":\"70696 | 10.927000000000001%\",\"customer_penetration %\":95.0843235378,\"overlap %\":11.3379243909,\"avg_driving_time\":6.5236230198},\"(9, 14)\":{\"customer_penetration_absolute\":\"87417 | 13.171%\",\"customer_penetration %\":97.5417943461,\"overlap %\":13.7186992896,\"avg_driving_time\":6.4902067935},\"(10, 6)\":{\"customer_penetration_absolute\":\"-172076 | -36.937%\",\"customer_penetration %\":68.4679203133,\"overlap %\":0.0022936174,\"avg_driving_time\":7.4537087453},\"(10, 7)\":{\"customer_penetration_absolute\":\"-90944 | -16.625999999999998%\",\"customer_penetration %\":80.3918196983,\"overlap %\":1.7815673435,\"avg_driving_time\":7.4730282663},\"(10, 8)\":{\"customer_penetration_absolute\":\"-54489 | -9.339%\",\"customer_penetration %\":85.7495793009,\"overlap %\":2.7489004971,\"avg_driving_time\":7.263612705},\"(10, 9)\":{\"customer_penetration_absolute\":\"-6766 | -1.072%\",\"customer_penetration %\":92.7633870506,\"overlap %\":5.2890818076,\"avg_driving_time\":7.1645709427},\"(10, 10)\":{\"customer_penetration_absolute\":\"2122 | 0.332%\",\"customer_penetration %\":94.0696486703,\"overlap %\":14.4790334696,\"avg_driving_time\":7.1455376753},\"(10, 11)\":{\"customer_penetration_absolute\":\"19350 | 2.944%\",\"customer_penetration %\":96.601632827,\"overlap %\":17.0960509642,\"avg_driving_time\":7.2150895157},\"(10, 12)\":{\"customer_penetration_absolute\":\"34580 | 5.142%\",\"customer_penetration %\":98.8399726637,\"overlap %\":20.4154887985,\"avg_driving_time\":7.0733552618},\"(10, 13)\":{\"customer_penetration_absolute\":\"36849 | 5.461%\",\"customer_penetration %\":99.1734456177,\"overlap %\":29.3118574287,\"avg_driving_time\":7.0672718396},\"(10, 14)\":{\"customer_penetration_absolute\":\"39847 | 5.8790000000000004%\",\"customer_penetration %\":99.6140590669,\"overlap %\":33.967900824,\"avg_driving_time\":7.0250225439},\"(11, 6)\":{\"customer_penetration_absolute\":\"-98982 | -17.29%\",\"customer_penetration %\":84.1374749234,\"overlap %\":1.4352311106,\"avg_driving_time\":8.048501165},\"(11, 7)\":{\"customer_penetration_absolute\":\"-40524 | -6.422999999999999%\",\"customer_penetration %\":92.7289962743,\"overlap %\":7.1222555434,\"avg_driving_time\":8.0194373031},\"(11, 8)\":{\"customer_penetration_absolute\":\"-26790 | -4.156%\",\"customer_penetration %\":94.7474702939,\"overlap %\":10.7312625791,\"avg_driving_time\":7.7951448742},\"(11, 9)\":{\"customer_penetration_absolute\":\"1307 | 0.194%\",\"customer_penetration %\":98.8768619152,\"overlap %\":17.025522228,\"avg_driving_time\":7.7200947518},\"(11, 10)\":{\"customer_penetration_absolute\":\"2938 | 0.436%\",\"customer_penetration %\":99.1165685648,\"overlap %\":30.7132576822,\"avg_driving_time\":7.7402630155},\"(11, 11)\":{\"customer_penetration_absolute\":\"3028 | 0.449%\",\"customer_penetration %\":99.1297957864,\"overlap %\":37.0510960624,\"avg_driving_time\":7.8084526343},\"(11, 12)\":{\"customer_penetration_absolute\":\"7925 | 1.166%\",\"customer_penetration %\":99.8495036118,\"overlap %\":41.6744554092,\"avg_driving_time\":7.6704416371},\"(11, 13)\":{\"customer_penetration_absolute\":\"8267 | 1.216%\",\"customer_penetration %\":99.8997670539,\"overlap %\":53.5479394714,\"avg_driving_time\":7.7221316369},\"(11, 14)\":{\"customer_penetration_absolute\":\"8455 | 1.244%\",\"customer_penetration %\":99.9273972502,\"overlap %\":60.026835324,\"avg_driving_time\":7.6935186195},\"(12, 6)\":{\"customer_penetration_absolute\":\"-45495 | -7.183000000000001%\",\"customer_penetration %\":93.0836327829,\"overlap %\":5.9421893725,\"avg_driving_time\":8.532954168},\"(12, 7)\":{\"customer_penetration_absolute\":\"-10057 | -1.504%\",\"customer_penetration %\":98.2919247812,\"overlap %\":17.3965148483,\"avg_driving_time\":8.5070057804},\"(12, 8)\":{\"customer_penetration_absolute\":\"-5829 | -0.8659999999999999%\",\"customer_penetration %\":98.9133102592,\"overlap %\":23.8553415483,\"avg_driving_time\":8.3293547345},\"(12, 9)\":{\"customer_penetration_absolute\":\"586 | 0.086%\",\"customer_penetration %\":99.8561172226,\"overlap %\":31.5785248599,\"avg_driving_time\":8.2687893519},\"(12, 10)\":{\"customer_penetration_absolute\":\"876 | 0.129%\",\"customer_penetration %\":99.89873827,\"overlap %\":47.4262745345,\"avg_driving_time\":8.3265211869},\"(12, 11)\":{\"customer_penetration_absolute\":\"1012 | 0.149%\",\"customer_penetration %\":99.9187260716,\"overlap %\":56.2412197458,\"avg_driving_time\":8.4116521629},\"(12, 12)\":{\"customer_penetration_absolute\":\"1152 | 0.169%\",\"customer_penetration %\":99.9393017497,\"overlap %\":62.7269964506,\"avg_driving_time\":8.3086166829},\"(12, 13)\":{\"customer_penetration_absolute\":\"1532 | 0.22499999999999998%\",\"customer_penetration %\":99.9951500187,\"overlap %\":71.1778298939,\"avg_driving_time\":8.3648312306},\"(12, 14)\":{\"customer_penetration_absolute\":\"1522 | 0.22399999999999998%\",\"customer_penetration %\":99.9936803274,\"overlap %\":79.2267068814,\"avg_driving_time\":8.3734536958},\"(13, 6)\":{\"customer_penetration_absolute\":\"-15386 | -2.314%\",\"customer_penetration %\":97.7241830354,\"overlap %\":15.2863868071,\"avg_driving_time\":9.0210073552},\"(13, 7)\":{\"customer_penetration_absolute\":\"-1360 | -0.2%\",\"customer_penetration %\":99.7855720406,\"overlap %\":33.4902549929,\"avg_driving_time\":9.06484978},\"(13, 8)\":{\"customer_penetration_absolute\":\"-452 | -0.066%\",\"customer_penetration %\":99.9190200098,\"overlap %\":38.4484824854,\"avg_driving_time\":8.8882753185},\"(13, 9)\":{\"customer_penetration_absolute\":\"-53 | -0.008%\",\"customer_penetration %\":99.9776606924,\"overlap %\":47.1326915027,\"avg_driving_time\":8.8967176031},\"(13, 10)\":{\"customer_penetration_absolute\":\"30 | 0.004%\",\"customer_penetration %\":99.9898591301,\"overlap %\":60.7596460948,\"avg_driving_time\":8.970713628},\"(13, 11)\":{\"customer_penetration_absolute\":\"99 | 0.015%\",\"customer_penetration %\":100.0,\"overlap %\":71.9972247229,\"avg_driving_time\":9.0675453788},\"(13, 12)\":{\"customer_penetration_absolute\":\"99 | 0.015%\",\"customer_penetration %\":100.0,\"overlap %\":79.6991920733,\"avg_driving_time\":8.9834693656},\"(13, 13)\":{\"customer_penetration_absolute\":\"99 | 0.015%\",\"customer_penetration %\":100.0,\"overlap %\":84.9395345103,\"avg_driving_time\":9.0504777781},\"(13, 14)\":{\"customer_penetration_absolute\":\"99 | 0.015%\",\"customer_penetration %\":100.0,\"overlap %\":90.7916993985,\"avg_driving_time\":9.0948800207},\"(14, 6)\":{\"customer_penetration_absolute\":\"-1049 | -0.154%\",\"customer_penetration %\":99.8415672788,\"overlap %\":30.470134234,\"avg_driving_time\":9.644540339},\"(14, 7)\":{\"customer_penetration_absolute\":\"-390 | -0.056999999999999995%\",\"customer_penetration %\":99.9384199349,\"overlap %\":49.9291845617,\"avg_driving_time\":9.6956437172},\"(14, 8)\":{\"customer_penetration_absolute\":\"11 | 0.002%\",\"customer_penetration %\":99.9973545557,\"overlap %\":56.9631358338,\"avg_driving_time\":9.6376376435},\"(14, 9)\":{\"customer_penetration_absolute\":\"28 | 0.004%\",\"customer_penetration %\":99.9998530309,\"overlap %\":63.6645125776,\"avg_driving_time\":9.6962153403},\"(14, 10)\":{\"customer_penetration_absolute\":\"29 | 0.004%\",\"customer_penetration %\":100.0,\"overlap %\":73.3464451797,\"avg_driving_time\":9.7590822634},\"(14, 11)\":{\"customer_penetration_absolute\":\"29 | 0.004%\",\"customer_penetration %\":100.0,\"overlap %\":85.0530685734,\"avg_driving_time\":9.8460431618},\"(14, 12)\":{\"customer_penetration_absolute\":\"29 | 0.004%\",\"customer_penetration %\":100.0,\"overlap %\":93.3513764572,\"avg_driving_time\":9.8040290989},\"(14, 13)\":{\"customer_penetration_absolute\":\"29 | 0.004%\",\"customer_penetration %\":100.0,\"overlap %\":95.2206746676,\"avg_driving_time\":9.8437325905},\"(14, 14)\":{\"customer_penetration_absolute\":\"29 | 0.004%\",\"customer_penetration %\":100.0,\"overlap %\":97.2522463116,\"avg_driving_time\":9.8702359923},\"(15, 6)\":{\"customer_penetration_absolute\":\"-140 | -0.021%\",\"customer_penetration %\":99.9773667541,\"overlap %\":48.4584023808,\"avg_driving_time\":10.3187640184},\"(15, 7)\":{\"customer_penetration_absolute\":\"14 | 0.002%\",\"customer_penetration %\":100.0,\"overlap %\":65.6272756985,\"avg_driving_time\":10.37078015},\"(15, 8)\":{\"customer_penetration_absolute\":\"14 | 0.002%\",\"customer_penetration %\":100.0,\"overlap %\":74.4766251713,\"avg_driving_time\":10.4629982073},\"(15, 9)\":{\"customer_penetration_absolute\":\"14 | 0.002%\",\"customer_penetration %\":100.0,\"overlap %\":79.4503345814,\"avg_driving_time\":10.5509153653},\"(15, 10)\":{\"customer_penetration_absolute\":\"14 | 0.002%\",\"customer_penetration %\":100.0,\"overlap %\":84.4664759141,\"avg_driving_time\":10.5800445124},\"(15, 11)\":{\"customer_penetration_absolute\":\"14 | 0.002%\",\"customer_penetration %\":100.0,\"overlap %\":91.7045591381,\"avg_driving_time\":10.58602118},\"(15, 12)\":{\"customer_penetration_absolute\":\"14 | 0.002%\",\"customer_penetration %\":100.0,\"overlap %\":98.8451636209,\"avg_driving_time\":10.5888043489},\"(15, 13)\":{\"customer_penetration_absolute\":\"14 | 0.002%\",\"customer_penetration %\":100.0,\"overlap %\":99.420288193,\"avg_driving_time\":10.6116876875},\"(15, 14)\":{\"customer_penetration_absolute\":\"14 | 0.002%\",\"customer_penetration %\":100.0,\"overlap %\":99.4644403287,\"avg_driving_time\":10.6106030395}}'"
            ]
          },
          "metadata": {},
          "execution_count": 41
        }
      ]
    },
    {
      "cell_type": "code",
      "metadata": {
        "colab": {
          "base_uri": "https://localhost:8080/",
          "height": 514
        },
        "id": "jnkv7MGEy3We",
        "outputId": "3b3812d3-8672-4ea5-c2d1-c20cafdcb7b5"
      },
      "source": [
        "metric_df[metric_df.driving_time == 11][['customer_penetration %','overlap %']].plot()\n",
        "plt.xlabel(\"No of Stores\")\n",
        "plt.ylabel(\"Percentage %\")"
      ],
      "execution_count": 42,
      "outputs": [
        {
          "output_type": "execute_result",
          "data": {
            "text/plain": [
              "Text(0, 0.5, 'Percentage %')"
            ]
          },
          "metadata": {},
          "execution_count": 42
        },
        {
          "output_type": "display_data",
          "data": {
            "image/png": "[encoded data removed]",
            "text/plain": [
              "<Figure size 1080x576 with 1 Axes>"
            ]
          },
          "metadata": {}
        }
      ]
    },
    {
      "cell_type": "code",
      "metadata": {
        "id": "4zVxaidvFkgW",
        "colab": {
          "base_uri": "https://localhost:8080/",
          "height": 702
        },
        "outputId": "8b0d4773-fbb3-4e61-929a-53524ab2ac6f"
      },
      "source": [
        "  fig,ax = plt.subplots(1,3,figsize=(30,8))\n",
        "\n",
        "  generate_stats_report(\n",
        "      historical_outputs[11,7]['covered_per_actual_store'],\n",
        "      historical_outputs[11,7]['covered_per_pred_store'],\n",
        "      metrics,\n",
        "      ax\n",
        "      )"
      ],
      "execution_count": null,
      "outputs": [
        {
          "output_type": "error",
          "ename": "KeyError",
          "evalue": "ignored",
          "traceback": [
            "\u001b[0;31m---------------------------------------------------------------------------\u001b[0m",
            "\u001b[0;31mKeyError\u001b[0m                                  Traceback (most recent call last)",
            "\u001b[0;32m<ipython-input-30-b9457944ef17>\u001b[0m in \u001b[0;36m<module>\u001b[0;34m()\u001b[0m\n\u001b[1;32m      2\u001b[0m \u001b[0;34m\u001b[0m\u001b[0m\n\u001b[1;32m      3\u001b[0m generate_stats_report(\n\u001b[0;32m----> 4\u001b[0;31m     \u001b[0mhistorical_outputs\u001b[0m\u001b[0;34m[\u001b[0m\u001b[0;36m11\u001b[0m\u001b[0;34m,\u001b[0m\u001b[0;36m7\u001b[0m\u001b[0;34m]\u001b[0m\u001b[0;34m[\u001b[0m\u001b[0;34m'covered_per_actual_store'\u001b[0m\u001b[0;34m]\u001b[0m\u001b[0;34m,\u001b[0m\u001b[0;34m\u001b[0m\u001b[0;34m\u001b[0m\u001b[0m\n\u001b[0m\u001b[1;32m      5\u001b[0m     \u001b[0mhistorical_outputs\u001b[0m\u001b[0;34m[\u001b[0m\u001b[0;36m11\u001b[0m\u001b[0;34m,\u001b[0m\u001b[0;36m7\u001b[0m\u001b[0;34m]\u001b[0m\u001b[0;34m[\u001b[0m\u001b[0;34m'covered_per_pred_store'\u001b[0m\u001b[0;34m]\u001b[0m\u001b[0;34m,\u001b[0m\u001b[0;34m\u001b[0m\u001b[0;34m\u001b[0m\u001b[0m\n\u001b[1;32m      6\u001b[0m     \u001b[0mmetrics\u001b[0m\u001b[0;34m,\u001b[0m\u001b[0;34m\u001b[0m\u001b[0;34m\u001b[0m\u001b[0m\n",
            "\u001b[0;31mKeyError\u001b[0m: (11, 7)"
          ]
        },
        {
          "output_type": "display_data",
          "data": {
            "image/png": "[encoded data removed]",
            "text/plain": [
              "<Figure size 2160x576 with 3 Axes>"
            ]
          },
          "metadata": {
            "needs_background": "light"
          }
        }
      ]
    },
    {
      "cell_type": "code",
      "metadata": {
        "id": "h8KHUYtmsngS"
      },
      "source": [
        "# import json\n",
        "# result = metric_df[metrics[1:]].T.to_json()\n",
        "# parsed = json.loads(result)\n",
        "# json.dumps(parsed)"
      ],
      "execution_count": null,
      "outputs": []
    },
    {
      "cell_type": "code",
      "metadata": {
        "id": "kSVcGnRVT15f"
      },
      "source": [
        "metric_df"
      ],
      "execution_count": null,
      "outputs": []
    },
    {
      "cell_type": "code",
      "metadata": {
        "id": "GLRatacCvABB"
      },
      "source": [
        "\n",
        "metrics = PARAMETERS['eval_metric']\n",
        "fig,axes = plt.subplots(1,len(metrics),figsize=(30,8))\n",
        "for num,ax in enumerate(zip(axes.flatten(),metrics)):\n",
        "  ax[0].plot(metric_df[ax[1]])\n",
        "\n",
        "  ax[0].set_title(f\"{ax[1]} Score\",fontsize = 15,fontweight='bold')\n",
        "  ax[0].set_ylabel(\"Score\",fontsize = 12,fontweight='bold')\n",
        "  ax[0].set_xlabel(\"Num Of Clusters\",fontsize = 12,fontweight='bold')"
      ],
      "execution_count": null,
      "outputs": []
    },
    {
      "cell_type": "code",
      "metadata": {
        "id": "L3pxHEss4_G4"
      },
      "source": [
        "metrics = PARAMETERS['eval_metric'][1:]\n",
        "metrics"
      ],
      "execution_count": null,
      "outputs": []
    },
    {
      "cell_type": "code",
      "metadata": {
        "id": "I1t9BT7YbVYL"
      },
      "source": [
        "  fig,ax = plt.subplots(1,3,figsize=(30,8))\n",
        "\n",
        "  generate_stats_report(historical_outputs[(16,15)]['covered_per_actual_store'],historical_outputs[(16,15)]['covered_per_pred_store'],metrics[1:],ax)"
      ],
      "execution_count": null,
      "outputs": []
    },
    {
      "cell_type": "code",
      "metadata": {
        "id": "gGUoHcNcHBci"
      },
      "source": [
        "historical_outputs[(16,15)]['covered_per_actual_store'][metrics[1:]]\n"
      ],
      "execution_count": null,
      "outputs": []
    },
    {
      "cell_type": "code",
      "metadata": {
        "id": "4hL2dXIifR7o"
      },
      "source": [
        "historical_outputs[(16,15)]['covered_per_pred_store'][metrics[1:]]"
      ],
      "execution_count": null,
      "outputs": []
    },
    {
      "cell_type": "code",
      "metadata": {
        "id": "uXlChDQxHflB"
      },
      "source": [
        "output"
      ],
      "execution_count": null,
      "outputs": []
    },
    {
      "cell_type": "code",
      "metadata": {
        "id": "2wdhx2s7CT1E"
      },
      "source": [
        "\n",
        "pred['number_of_locations_covered'].sum() - actual['number_of_locations_covered'].sum()"
      ],
      "execution_count": null,
      "outputs": []
    },
    {
      "cell_type": "code",
      "metadata": {
        "id": "RUN9O3dQGjyN"
      },
      "source": [
        "output = dict((df_pred[metrics] - df_actual[metrics]).sum())"
      ],
      "execution_count": null,
      "outputs": []
    },
    {
      "cell_type": "code",
      "metadata": {
        "id": "86jS2eTcyq87"
      },
      "source": [
        "pred = historical_outputs[(16,15)]['covered_per_pred_store'][metrics[1:]]\n",
        "pred['customer_density'] = np.round(pred['total_num_customers_coverage']/pred['number_of_locations_covered'])\n",
        "pred['gmv_density'] = pred['total_gmv_coverage']/pred['number_of_locations_covered']\n",
        "pred['order_density'] = pred['total_num_orders_coverage']/pred['number_of_locations_covered']\n",
        "\n",
        "pred.sort_values(by='customer_density',ascending=False)"
      ],
      "execution_count": null,
      "outputs": []
    },
    {
      "cell_type": "code",
      "metadata": {
        "id": "6J_Wt70RzhiS"
      },
      "source": [
        "actual = historical_outputs[(16,15)]['covered_per_actual_store'][metrics[1:]]\n",
        "actual['customer_density'] = actual['total_num_customers_coverage']/actual['number_of_locations_covered']\n",
        "actual.sort_values(by='customer_density',ascending=False)"
      ],
      "execution_count": null,
      "outputs": []
    },
    {
      "cell_type": "code",
      "metadata": {
        "id": "awuozEYQvIso"
      },
      "source": [
        "# metric_df"
      ],
      "execution_count": null,
      "outputs": []
    },
    {
      "cell_type": "code",
      "metadata": {
        "id": "1AyOC-CYqQTh"
      },
      "source": [
        "# centers_ = covered_per_actual_store[covered_per_actual_store['number_of_locations_covered']!=0][['actual_lat','actual_long','actual_code']]\n",
        "# ax[0].scatter(centers_['actual_long'], centers_['actual_lat'],c='white', s=500, alpha=0.9);"
      ],
      "execution_count": null,
      "outputs": []
    },
    {
      "cell_type": "code",
      "metadata": {
        "id": "rA5_E5XOJBdd"
      },
      "source": [
        "# def generate_stats_report(covered_per_actual_store,covered_per_pred_store,metrics,ax):\n",
        "#   df_actual = covered_per_actual_store[covered_per_actual_store['number_of_locations_covered']!=0]\n",
        "#   df_pred = covered_per_pred_store[covered_per_pred_store['number_of_locations_covered']!=0]\n",
        "#   print(\"Overlapping Stores[ACTUAL] with No excess coverage ->\",covered_per_actual_store[covered_per_actual_store['number_of_locations_covered']==0].shape[0])\n",
        "#   print(\"Overlapping Stores[PRED] with No excess coverage ->\",covered_per_pred_store[covered_per_pred_store['number_of_locations_covered']==0].shape[0])\n",
        "\n",
        "#   for ax,feature in zip(ax.flatten(),metrics):\n",
        "#     sns.ecdfplot(df_pred[feature],ax=ax)\n",
        "#     sns.ecdfplot(df_actual[feature],ax=ax)\n",
        "#     ax.legend(['Pred Stores','Actual Stores'])\n",
        "    \n",
        "#   fig,ax = plt.subplots(1,2,figsize=(30,8))\n",
        "#   for num,rows in covered_per_actual_store.iterrows():\n",
        "#     # if num in [5,6,8]:\n",
        "#       sns.scatterplot(\n",
        "#           x = rows['latlong_list'][1],\n",
        "#           y = rows['latlong_list'][0],\n",
        "#           alpha = 0.4,\n",
        "#           # c = rows['actual_code'][0],\n",
        "#           ax=ax[0]\n",
        "#       )\n",
        "#       ax[0].text(rows['actual_long'],rows['actual_lat'],num,fontsize=12)\n",
        "\n",
        "\n",
        "#   centers_ = covered_per_actual_store[covered_per_actual_store['number_of_locations_covered']!=0][['actual_lat','actual_long','actual_code']]\n",
        "#   ax[0].scatter(centers_['actual_long'], centers_['actual_lat'],c='white', s=500, alpha=0.9);\n",
        "\n",
        "#   centers_ = covered_per_actual_store[covered_per_actual_store['number_of_locations_covered']==0][['actual_lat','actual_long','actual_code']]\n",
        "#   ax[0].scatter(centers_['actual_long'], centers_['actual_lat'],c='cyan', s=500, alpha=0.7);\n",
        "\n",
        "#   ax[0].set_title(f'REGIONS COVERED in {time_} minutes [ACTUAL LOCATIONS]',fontsize=14, fontweight='bold')\n",
        "\n",
        "#   for num,rows in covered_per_pred_store.iterrows():\n",
        "#     # if num in [5,6,8]:\n",
        "#       sns.scatterplot(\n",
        "\n",
        "#           x = rows['latlong_list'][1],\n",
        "#           y = rows['latlong_list'][0],\n",
        "#           alpha = 0.4,\n",
        "#           # c = rows['actual_code'][0],\n",
        "#           ax=ax[1]\n",
        "#       )\n",
        "#       ax[1].text(rows['pred_long'],rows['pred_lat'],num,fontsize=12)\n",
        "\n",
        "\n",
        "#   centers_ = covered_per_pred_store[covered_per_pred_store['number_of_locations_covered']!=0][['pred_lat','pred_long','pred_code']]\n",
        "#   ax[1].scatter(centers_['pred_long'], centers_['pred_lat'],c='white', s=500, alpha=0.9);\n",
        "\n",
        "#   centers_ = covered_per_pred_store[covered_per_pred_store['number_of_locations_covered']==0][['pred_lat','pred_long','pred_code']]\n",
        "#   ax[1].scatter(centers_['pred_long'], centers_['pred_lat'],c='cyan', s=500, alpha=0.7);\n",
        "\n",
        "#   ax[1].set_title(f'REGIONS COVERED in {time_} minutes [PRED LOCATIONS]',fontsize=14, fontweight='bold')\n",
        "#   return ax"
      ],
      "execution_count": null,
      "outputs": []
    },
    {
      "cell_type": "code",
      "metadata": {
        "id": "GLZxTBc1XTo5"
      },
      "source": [
        "  # fig,ax = plt.subplots(1,2,figsize=(30,8))\n",
        "  # for num,rows in covered_per_actual_store.iterrows():\n",
        "  #   # if num in [5,6,8]:\n",
        "  #     sns.scatterplot(\n",
        "  #         x = rows['latlong_list'][1],\n",
        "  #         y = rows['latlong_list'][0],\n",
        "  #         alpha = 0.4,\n",
        "  #         # c = rows['actual_code'][0],\n",
        "  #         ax=ax[0]\n",
        "  #     )\n",
        "  #     ax[0].text(rows['actual_long'],rows['actual_lat'],num,fontsize=12)\n",
        "\n",
        "\n",
        "  # centers_ = covered_per_actual_store[covered_per_actual_store['number_of_locations_covered']!=0][['actual_lat','actual_long','actual_code']]\n",
        "  # ax[0].scatter(centers_['actual_long'], centers_['actual_lat'],c='white', s=500, alpha=0.9);\n",
        "\n",
        "  # centers_ = covered_per_actual_store[covered_per_actual_store['number_of_locations_covered']==0][['actual_lat','actual_long','actual_code']]\n",
        "  # ax[0].scatter(centers_['actual_long'], centers_['actual_lat'],c='cyan', s=500, alpha=0.7);\n",
        "\n",
        "  # ax[0].set_title(f'REGIONS COVERED in {time_} minutes [ACTUAL LOCATIONS]',fontsize=14, fontweight='bold')\n"
      ],
      "execution_count": null,
      "outputs": []
    },
    {
      "cell_type": "code",
      "metadata": {
        "id": "vhuG0dejlT9t"
      },
      "source": [
        "# output"
      ],
      "execution_count": null,
      "outputs": []
    },
    {
      "cell_type": "code",
      "metadata": {
        "id": "hCKp13tAuVCR"
      },
      "source": [
        ""
      ],
      "execution_count": null,
      "outputs": []
    }
  ]
}